{
  "nbformat": 4,
  "nbformat_minor": 0,
  "metadata": {
    "kernelspec": {
      "display_name": "Python 3",
      "language": "python",
      "name": "python3"
    },
    "language_info": {
      "codemirror_mode": {
        "name": "ipython",
        "version": 3
      },
      "file_extension": ".py",
      "mimetype": "text/x-python",
      "name": "python",
      "nbconvert_exporter": "python",
      "pygments_lexer": "ipython3",
      "version": "3.7.5"
    },
    "colab": {
      "name": "numpy_0_why_use_it.ipynb",
      "provenance": [],
      "collapsed_sections": [],
      "include_colab_link": true
    }
  },
  "cells": [
    {
      "cell_type": "markdown",
      "metadata": {
        "id": "view-in-github",
        "colab_type": "text"
      },
      "source": [
        "<a href=\"https://colab.research.google.com/github/kimchaeyoung-student/pdm04/blob/master/numpy/numpy_0_why_use_it.ipynb\" target=\"_parent\"><img src=\"https://colab.research.google.com/assets/colab-badge.svg\" alt=\"Open In Colab\"/></a>"
      ]
    },
    {
      "cell_type": "markdown",
      "metadata": {
        "id": "sxXURoB1-TN5",
        "colab_type": "text"
      },
      "source": [
        "# numpy  \n",
        "## What is numpy?  \n",
        "* python module to do math!  \n",
        "    - random number\n",
        "    - array -> ndarray\n",
        "    - math operations\n",
        "    - ...\n",
        "\n",
        "#### Why do data coders use & enjoy it?"
      ]
    },
    {
      "cell_type": "code",
      "metadata": {
        "id": "MCyAq6tk-JTj",
        "colab_type": "code",
        "colab": {
          "base_uri": "https://localhost:8080/",
          "height": 34
        },
        "outputId": "b50816c7-685c-4ded-a223-71b6337c8f04"
      },
      "source": [
        "a=range(10)\n",
        "a"
      ],
      "execution_count": null,
      "outputs": [
        {
          "output_type": "execute_result",
          "data": {
            "text/plain": [
              "range(0, 10)"
            ]
          },
          "metadata": {
            "tags": []
          },
          "execution_count": 1
        }
      ]
    },
    {
      "cell_type": "code",
      "metadata": {
        "id": "EaupTQMB-JTq",
        "colab_type": "code",
        "colab": {
          "base_uri": "https://localhost:8080/",
          "height": 34
        },
        "outputId": "f94d63bc-5df5-46b8-8dfc-0116937269da"
      },
      "source": [
        "la=list(a)\n",
        "la  # 0부터 9까지 숫자 출력"
      ],
      "execution_count": null,
      "outputs": [
        {
          "output_type": "execute_result",
          "data": {
            "text/plain": [
              "[0, 1, 2, 3, 4, 5, 6, 7, 8, 9]"
            ]
          },
          "metadata": {
            "tags": []
          },
          "execution_count": 3
        }
      ]
    },
    {
      "cell_type": "markdown",
      "metadata": {
        "id": "y0J9UXaNBEEZ",
        "colab_type": "text"
      },
      "source": [
        "> 그러면 리스트 각 요소를 2배, 또는 5배로 변경하는 방법은?"
      ]
    },
    {
      "cell_type": "code",
      "metadata": {
        "id": "mkE27R9y-JTu",
        "colab_type": "code",
        "colab": {
          "base_uri": "https://localhost:8080/",
          "height": 34
        },
        "outputId": "50d62110-32be-48dc-ae12-8622104170a1"
      },
      "source": [
        "2*la  # 리스트가 2개로 복제됨"
      ],
      "execution_count": null,
      "outputs": [
        {
          "output_type": "execute_result",
          "data": {
            "text/plain": [
              "[0, 1, 2, 3, 4, 5, 6, 7, 8, 9, 0, 1, 2, 3, 4, 5, 6, 7, 8, 9]"
            ]
          },
          "metadata": {
            "tags": []
          },
          "execution_count": 5
        }
      ]
    },
    {
      "cell_type": "code",
      "metadata": {
        "id": "pdLVw53O-JTx",
        "colab_type": "code",
        "colab": {
          "base_uri": "https://localhost:8080/",
          "height": 34
        },
        "outputId": "03ecb93e-6cb8-4ef8-934e-9bab03499972"
      },
      "source": [
        "# list comprehension\n",
        "[5 * i for i in la] # 리스트의 각 요소가 5배가 됨"
      ],
      "execution_count": 13,
      "outputs": [
        {
          "output_type": "execute_result",
          "data": {
            "text/plain": [
              "[0, 5, 10, 15, 20, 25, 30, 35, 40, 45]"
            ]
          },
          "metadata": {
            "tags": []
          },
          "execution_count": 13
        }
      ]
    },
    {
      "cell_type": "code",
      "metadata": {
        "id": "vElM-SenTNUM",
        "colab_type": "code",
        "colab": {
          "base_uri": "https://localhost:8080/",
          "height": 34
        },
        "outputId": "29366f81-c0e2-4d26-acc3-75604494ed38"
      },
      "source": [
        "[2 * i for i in la] # 리스트의 각 요소가 2배가 됨"
      ],
      "execution_count": null,
      "outputs": [
        {
          "output_type": "execute_result",
          "data": {
            "text/plain": [
              "[0, 2, 4, 6, 8, 10, 12, 14, 16, 18]"
            ]
          },
          "metadata": {
            "tags": []
          },
          "execution_count": 10
        }
      ]
    },
    {
      "cell_type": "code",
      "metadata": {
        "id": "9XBLYZxH-JT3",
        "colab_type": "code",
        "colab": {}
      },
      "source": [
        "import numpy as np"
      ],
      "execution_count": null,
      "outputs": []
    },
    {
      "cell_type": "code",
      "metadata": {
        "id": "OloSuyLU-JT9",
        "colab_type": "code",
        "colab": {
          "base_uri": "https://localhost:8080/",
          "height": 34
        },
        "outputId": "a51ed2b6-17c0-4002-f590-4c9a3bdc2448"
      },
      "source": [
        "larr = np.array(la)\n",
        "larr*5   # broadcasted multiplication"
      ],
      "execution_count": null,
      "outputs": [
        {
          "output_type": "execute_result",
          "data": {
            "text/plain": [
              "array([ 0,  5, 10, 15, 20, 25, 30, 35, 40, 45])"
            ]
          },
          "metadata": {
            "tags": []
          },
          "execution_count": 12
        }
      ]
    },
    {
      "cell_type": "markdown",
      "metadata": {
        "id": "FrlJGz2GBbQu",
        "colab_type": "text"
      },
      "source": [
        "### numpy가 데이터 코딩, 특히 딥러닝에 이용되는 예제\n",
        "\n",
        "> http://life21c.inje.ac.kr:8501/\n",
        "\n",
        "> http://life21c.inje.ac.kr:8503/"
      ]
    },
    {
      "cell_type": "markdown",
      "metadata": {
        "id": "rkvrp48LJX5-",
        "colab_type": "text"
      },
      "source": [
        "- numpy array vs. list\n",
        "\n",
        "    *  머신러닝에서 숫자, 사람, 동물 등의 인식을 하기 위해서는 이미지 데이터를 행렬(matrix)로 변환하는 것이 중요하다.\n",
        "    *  행렬을 나타내기 위해서는 list를 사용할 수도 있지만, 행렬 연산이 직관적이지 않고 오류 가능성이 높기 때문에 **행렬 연산을 위해서는 numpy 사용이 필수적**이다."
      ]
    }
  ]
}