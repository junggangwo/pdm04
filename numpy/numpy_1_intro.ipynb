{
  "nbformat": 4,
  "nbformat_minor": 0,
  "metadata": {
    "colab": {
      "name": "numpy_1_intro.ipynb",
      "provenance": [],
      "collapsed_sections": [],
      "include_colab_link": true
    },
    "kernelspec": {
      "name": "python2",
      "display_name": "Python 2"
    }
  },
  "cells": [
    {
      "cell_type": "markdown",
      "metadata": {
        "id": "view-in-github",
        "colab_type": "text"
      },
      "source": [
        "<a href=\"https://colab.research.google.com/github/kimchaeyoung-student/pdm04/blob/master/numpy/numpy_1_intro.ipynb\" target=\"_parent\"><img src=\"https://colab.research.google.com/assets/colab-badge.svg\" alt=\"Open In Colab\"/></a>"
      ]
    },
    {
      "cell_type": "markdown",
      "metadata": {
        "id": "0Rd4EgDswXK3",
        "colab_type": "text"
      },
      "source": [
        "## python module 1. numpy"
      ]
    },
    {
      "cell_type": "markdown",
      "metadata": {
        "id": "I1Lv9GrX8W0F",
        "colab_type": "text"
      },
      "source": [
        "\n",
        "\n",
        "---\n",
        "\n"
      ]
    },
    {
      "cell_type": "markdown",
      "metadata": {
        "id": "pnSEXS8pVrtT",
        "colab_type": "text"
      },
      "source": [
        "#### 라이브러리를 import 시키는 방법 4가지"
      ]
    },
    {
      "cell_type": "markdown",
      "metadata": {
        "id": "afsJHUKdS3Ua",
        "colab_type": "text"
      },
      "source": [
        "**파이썬 코드에서 라이브러리를 import 시키는 방식**은 아래와 같이 4가지로 나눌 수 있다.\n",
        "\n",
        "\n",
        "\n",
        "1.   라이브러리의 이름을 바로 import하는 방식\n",
        "         예) import numpy\n",
        "         이렇게 import를 하면 해당 라이브러리의 풀네임을 이용하여 필요한 API를 호출할 수 있음\n",
        "         \n",
        "2.   라이브러리의 별명을 지정하는 방식\n",
        "         예) import numpy as np\n",
        "         가장 일반적인 방식임\n",
        "         a = np,array()\n",
        "3.   from을 이용하는 방식\n",
        "\n",
        "         from을 이용하면 해당 API의 이름을 쓰지 않고 API를 바로 쓸 수 있다는 장점이 있음\n",
        "         from numpy import array, arange\n",
        "         a = array()\n",
        "         an = arange(10)\n",
        "\n",
        "         \n",
        "4.   필요한 라이브러리에 모든 API를 사용\n",
        "         예) from numpy import *\n",
        "            이 경우에도 from을 사용하여 직접 필요한 API를 기술함\n",
        "\n",
        "\n",
        "\n"
      ]
    },
    {
      "cell_type": "markdown",
      "metadata": {
        "id": "poXE4qONVaCz",
        "colab_type": "text"
      },
      "source": [
        "##### 첫 번째 방식 - 라이브러리의 이름을 바로 import하는 방식"
      ]
    },
    {
      "cell_type": "code",
      "metadata": {
        "id": "XAuMP_ztUqet",
        "colab_type": "code",
        "colab": {
          "base_uri": "https://localhost:8080/",
          "height": 34
        },
        "outputId": "92258195-645a-476c-ad77-8733c3e886f2"
      },
      "source": [
        "# 1. 라이브러리의 이름을 바로 import하는 방식\n",
        "\n",
        "import numpy\n",
        "\n",
        "a1 = numpy.array([1,2])\n",
        "\n",
        "print(\"a1 = \", a1, \", type = \", type(a1))"
      ],
      "execution_count": 1,
      "outputs": [
        {
          "output_type": "stream",
          "text": [
            "('a1 = ', array([1, 2]), ', type = ', <type 'numpy.ndarray'>)\n"
          ],
          "name": "stdout"
        }
      ]
    },
    {
      "cell_type": "markdown",
      "metadata": {
        "id": "XH5TDHTTVe5z",
        "colab_type": "text"
      },
      "source": [
        "##### 두 번째 방식 - 라이브러리의 별명을 지정하는 방식"
      ]
    },
    {
      "cell_type": "code",
      "metadata": {
        "id": "ppA7TLLqVXvT",
        "colab_type": "code",
        "colab": {
          "base_uri": "https://localhost:8080/",
          "height": 34
        },
        "outputId": "0ff1c624-f999-4100-c987-58e7f62b601a"
      },
      "source": [
        "# 2. 라이브러리의 별명을 지정하는 방식\n",
        "\n",
        "import numpy as np\n",
        "\n",
        "a2 = np.array([1,2])\n",
        "\n",
        "print(\"a2 = \", a2, \", type = \", type(a2))"
      ],
      "execution_count": 2,
      "outputs": [
        {
          "output_type": "stream",
          "text": [
            "('a2 = ', array([1, 2]), ', type = ', <type 'numpy.ndarray'>)\n"
          ],
          "name": "stdout"
        }
      ]
    },
    {
      "cell_type": "markdown",
      "metadata": {
        "id": "RLb-GTgxXIBq",
        "colab_type": "text"
      },
      "source": [
        "예) numpy라는 라이브러리를 as 다음에 나오는 np로 지정"
      ]
    },
    {
      "cell_type": "markdown",
      "metadata": {
        "id": "31zpv6jgWUGG",
        "colab_type": "text"
      },
      "source": [
        "##### 세 번째 방식 - from을 이용하는 방식"
      ]
    },
    {
      "cell_type": "code",
      "metadata": {
        "id": "BBnlJGfjWNrT",
        "colab_type": "code",
        "colab": {
          "base_uri": "https://localhost:8080/",
          "height": 34
        },
        "outputId": "b6b2683e-8249-4288-8acc-a444d9108fac"
      },
      "source": [
        "# 3. from을 이용하는 방식\n",
        "\n",
        "from numpy import array\n",
        "\n",
        "a3 = array([1, 2])\n",
        "\n",
        "print(\"a3 = \", a3, \", type = \", type(a3))"
      ],
      "execution_count": 3,
      "outputs": [
        {
          "output_type": "stream",
          "text": [
            "('a3 = ', array([1, 2]), ', type = ', <type 'numpy.ndarray'>)\n"
          ],
          "name": "stdout"
        }
      ]
    },
    {
      "cell_type": "markdown",
      "metadata": {
        "id": "wFkr6WU7XZav",
        "colab_type": "text"
      },
      "source": [
        "numpy 라이브러리에 속해있는 array API를 위의 첫 번째 및 두 번째 예에서처럼 numpy.array 또는 np.array 라고 하지 않고, 바로 array를 사용\n",
        "\n",
        "> => 즉, numpy.array가 아닌 array로 바로 사용 가능\n",
        "\n"
      ]
    },
    {
      "cell_type": "markdown",
      "metadata": {
        "id": "B-UinoSIWrq0",
        "colab_type": "text"
      },
      "source": [
        "##### 네 번째 방식 - 필요한 라이브러리에 모든 API를 사용"
      ]
    },
    {
      "cell_type": "code",
      "metadata": {
        "id": "SuOkm37nWmwC",
        "colab_type": "code",
        "colab": {
          "base_uri": "https://localhost:8080/",
          "height": 34
        },
        "outputId": "feb69ff9-e7b3-48dd-a969-4283c2e19d51"
      },
      "source": [
        "# 4. 필요한 라이브러리에 모든 API를 사용\n",
        "\n",
        "from numpy import *\n",
        "\n",
        "result = exp(1) + log(1.7) + sqrt(2)\n",
        "\n",
        "print(\"result = \", result, \", type = \", type(result))"
      ],
      "execution_count": 7,
      "outputs": [
        {
          "output_type": "stream",
          "text": [
            "('result = ', 4.663123641894311, ', type = ', <type 'numpy.float64'>)\n"
          ],
          "name": "stdout"
        }
      ]
    },
    {
      "cell_type": "code",
      "metadata": {
        "id": "iWJ0VIoUeL7J",
        "colab_type": "code",
        "colab": {
          "base_uri": "https://localhost:8080/",
          "height": 52
        },
        "outputId": "6fd383cb-5f5e-44a7-aa93-7edf1031d094"
      },
      "source": [
        "a4 = array(range(1,5)).reshape(2,2)\n",
        "\n",
        "print(\"a4 = \", a4, \", type = \", type(a4))"
      ],
      "execution_count": 8,
      "outputs": [
        {
          "output_type": "stream",
          "text": [
            "('a4 = ', array([[1, 2],\n",
            "       [3, 4]]), ', type = ', <type 'numpy.ndarray'>)\n"
          ],
          "name": "stdout"
        }
      ]
    },
    {
      "cell_type": "markdown",
      "metadata": {
        "id": "HMwk8_qxH0u4",
        "colab_type": "text"
      },
      "source": [
        "### numpy array의 속성"
      ]
    },
    {
      "cell_type": "code",
      "metadata": {
        "id": "tXiqxsg3k5I5",
        "colab_type": "code",
        "colab": {
          "base_uri": "https://localhost:8080/",
          "height": 34
        },
        "outputId": "6fb15493-5463-4691-960d-51a565d02336"
      },
      "source": [
        "# shape of numpy arrays\n",
        "a1.shape, a2.shape, a3.shape, a4.shape"
      ],
      "execution_count": 9,
      "outputs": [
        {
          "output_type": "execute_result",
          "data": {
            "text/plain": [
              "((2,), (2,), (2,), (2, 2))"
            ]
          },
          "metadata": {
            "tags": []
          },
          "execution_count": 9
        }
      ]
    },
    {
      "cell_type": "code",
      "metadata": {
        "colab_type": "code",
        "id": "S8C1kDZayyCh",
        "colab": {
          "base_uri": "https://localhost:8080/",
          "height": 34
        },
        "outputId": "dad58c5a-d7f3-4204-e2b8-1870fdaba97b"
      },
      "source": [
        "# dimension of numpy arrays\n",
        "a1.ndim, a2.ndim, a3.ndim, a4.ndim"
      ],
      "execution_count": 10,
      "outputs": [
        {
          "output_type": "execute_result",
          "data": {
            "text/plain": [
              "(1, 1, 1, 2)"
            ]
          },
          "metadata": {
            "tags": []
          },
          "execution_count": 10
        }
      ]
    },
    {
      "cell_type": "code",
      "metadata": {
        "colab_type": "code",
        "id": "WgaXd1rwy9tP",
        "colab": {
          "base_uri": "https://localhost:8080/",
          "height": 34
        },
        "outputId": "256698a2-91c9-49bb-b73b-10d7719a3e42"
      },
      "source": [
        "# size of numpy arrays\n",
        "a1.size, a2.size, a3.size, a4.size"
      ],
      "execution_count": 11,
      "outputs": [
        {
          "output_type": "execute_result",
          "data": {
            "text/plain": [
              "(2, 2, 2, 4)"
            ]
          },
          "metadata": {
            "tags": []
          },
          "execution_count": 11
        }
      ]
    },
    {
      "cell_type": "code",
      "metadata": {
        "colab_type": "code",
        "id": "Yg4CHly4zMLr",
        "colab": {
          "base_uri": "https://localhost:8080/",
          "height": 34
        },
        "outputId": "68ec6905-795a-471f-9a3e-6843259b353a"
      },
      "source": [
        "# dtype of numpy arrays\n",
        "a1.dtype, a2.dtype, a3.dtype, a4.dtype"
      ],
      "execution_count": 12,
      "outputs": [
        {
          "output_type": "execute_result",
          "data": {
            "text/plain": [
              "(dtype('int64'), dtype('int64'), dtype('int64'), dtype('int64'))"
            ]
          },
          "metadata": {
            "tags": []
          },
          "execution_count": 12
        }
      ]
    },
    {
      "cell_type": "code",
      "metadata": {
        "id": "o-fNUQeX2HnB",
        "colab_type": "code",
        "colab": {
          "base_uri": "https://localhost:8080/",
          "height": 34
        },
        "outputId": "95163450-a2ac-428f-aa27-6af598ab4151"
      },
      "source": [
        "# reshape의 또 다른 사용 방법 \n",
        "a4r = array(range(1,5)).reshape(-1,2)\n",
        "a4r\n",
        "a4r.shape, a4r.ndim, a4r.size, a4r.dtype"
      ],
      "execution_count": 14,
      "outputs": [
        {
          "output_type": "execute_result",
          "data": {
            "text/plain": [
              "((2, 2), 2, 4, dtype('int64'))"
            ]
          },
          "metadata": {
            "tags": []
          },
          "execution_count": 14
        }
      ]
    },
    {
      "cell_type": "markdown",
      "metadata": {
        "id": "1agDc8fFYb7_",
        "colab_type": "text"
      },
      "source": [
        "### numpy\n",
        "\n",
        "numpy의 개념과 numpy가 필요한 이유, numpy를 이용하여 벡터와 matrix 즉, 행렬을 만들고 이를 상호변환 시킬 수 있는 API를 사용하는 방법에 대해 알아본다."
      ]
    },
    {
      "cell_type": "markdown",
      "metadata": {
        "id": "2zaiDbcJbjYL",
        "colab_type": "text"
      },
      "source": [
        "#### numpy의 개념, 그리고 numpy를 사용하는 이유"
      ]
    },
    {
      "cell_type": "markdown",
      "metadata": {
        "id": "XmsULOHVY3JT",
        "colab_type": "text"
      },
      "source": [
        "- **numpy**\n",
        "\n",
        "    * numpy는 머신러닝 코드 개발을 할 경우 자주 사용되는 벡터, 행렬 등을 표현하고 연산할 때 반드시 필요한 라이브러리다.  \n",
        "    * 벡터와 행렬을 이용하면 수치계산이 매우 빨리 수행된다.\n",
        "    * 벡터, 2차원행렬 등을 일반화 => 배열 또는 텐서(tensor)\n",
        "\n"
      ]
    },
    {
      "cell_type": "markdown",
      "metadata": {
        "id": "pNylcuDzZDWT",
        "colab_type": "text"
      },
      "source": [
        "- numpy array vs. list\n",
        "\n",
        "    *  머신러닝에서 숫자, 사람, 동물 등의 인식을 하기 위해서는 이미지 데이터를 행렬(matrix)로 변환하는 것이 중요하다.\n",
        "    *  행렬을 나타내기 위해서는 list를 사용할 수도 있지만, 행렬 연산이 직관적이지 않고 오류 가능성이 높기 때문에 **행렬 연산을 위해서는 numpy 사용이 필수적**이다.\n",
        "\n"
      ]
    },
    {
      "cell_type": "markdown",
      "metadata": {
        "id": "XnDOZbJzMpaB",
        "colab_type": "text"
      },
      "source": [
        "## 행렬연산 I\n",
        "\n",
        "- 요소별로 연산\n",
        "- elementwise operation"
      ]
    },
    {
      "cell_type": "code",
      "metadata": {
        "id": "lYblhTyAW-3s",
        "colab_type": "code",
        "colab": {}
      },
      "source": [
        "# 행렬연산\n",
        "\n",
        "# A = (1 0)    B = (1 1)\n",
        "#     (0 1)        (1 1)\n",
        "\n",
        "# 각 요소의 인덱스에 맞춰서, 즉 원소별로  연산이 수행된다.\n",
        "# A + B = (2 1)\n",
        "#         (1 2)"
      ],
      "execution_count": null,
      "outputs": []
    },
    {
      "cell_type": "code",
      "metadata": {
        "id": "r-qJzSmeachg",
        "colab_type": "code",
        "colab": {}
      },
      "source": [
        "import numpy as np # 라이브러리의 별명을 지정하는 방식을 사용"
      ],
      "execution_count": 15,
      "outputs": []
    },
    {
      "cell_type": "code",
      "metadata": {
        "id": "3EsPu5EqaoJw",
        "colab_type": "code",
        "colab": {
          "base_uri": "https://localhost:8080/",
          "height": 34
        },
        "outputId": "b32a0982-7bed-4aa4-e60f-caf385fa8e7f"
      },
      "source": [
        "# 리스트로 행렬을 표현하면,\n",
        "\n",
        "A = [ [1,0], [0,1] ]\n",
        "B = [ [1,1], [1,1] ]\n",
        "\n",
        "A + B   # 행렬 연산이 아닌 리스트 연산으로 리스트가 확장된다."
      ],
      "execution_count": 16,
      "outputs": [
        {
          "output_type": "execute_result",
          "data": {
            "text/plain": [
              "[[1, 0], [0, 1], [1, 1], [1, 1]]"
            ]
          },
          "metadata": {
            "tags": []
          },
          "execution_count": 16
        }
      ]
    },
    {
      "cell_type": "markdown",
      "metadata": {
        "id": "7Egx9RhcbS74",
        "colab_type": "text"
      },
      "source": [
        "=> 리스트 연산이 됨"
      ]
    },
    {
      "cell_type": "code",
      "metadata": {
        "id": "TDew_4EYaxup",
        "colab_type": "code",
        "colab": {
          "base_uri": "https://localhost:8080/",
          "height": 52
        },
        "outputId": "725d0286-4062-4ac5-ff80-dde278622dff"
      },
      "source": [
        "# numpy matrix, 직관적임\n",
        "\n",
        "A = np.array([ [1,0], [0,1] ])\n",
        "B = np.array([ [1,1], [1,1] ])\n",
        "\n",
        "A + B  # 행렬 연산"
      ],
      "execution_count": 17,
      "outputs": [
        {
          "output_type": "execute_result",
          "data": {
            "text/plain": [
              "array([[2, 1],\n",
              "       [1, 2]])"
            ]
          },
          "metadata": {
            "tags": []
          },
          "execution_count": 17
        }
      ]
    },
    {
      "cell_type": "code",
      "metadata": {
        "id": "xJIm_4xn232K",
        "colab_type": "code",
        "colab": {
          "base_uri": "https://localhost:8080/",
          "height": 87
        },
        "outputId": "f1abe4ae-fa8e-4527-beae-b169b0d2dafe"
      },
      "source": [
        "# A,B\n",
        "print(A)\n",
        "print(B)"
      ],
      "execution_count": 18,
      "outputs": [
        {
          "output_type": "stream",
          "text": [
            "[[1 0]\n",
            " [0 1]]\n",
            "[[1 1]\n",
            " [1 1]]\n"
          ],
          "name": "stdout"
        }
      ]
    },
    {
      "cell_type": "markdown",
      "metadata": {
        "id": "AQG_PbYhbJxC",
        "colab_type": "text"
      },
      "source": [
        "=>  numpy로 행렬 선언 및 연산을 하였기 때문에 행렬 연산의 결과가 나옴"
      ]
    },
    {
      "cell_type": "markdown",
      "metadata": {
        "id": "x4pUC7NEcDvF",
        "colab_type": "text"
      },
      "source": [
        "### numpy vector(1차원 배열)"
      ]
    },
    {
      "cell_type": "markdown",
      "metadata": {
        "id": "8IbhCw-_59zV",
        "colab_type": "text"
      },
      "source": [
        "#### 벡터 생성"
      ]
    },
    {
      "cell_type": "markdown",
      "metadata": {
        "id": "VjXJCVd5cI77",
        "colab_type": "text"
      },
      "source": [
        "- **벡터(vector) 생성**\n",
        "\n",
        "\n",
        "> 벡터는 np.array([...])를 사용하여 생성한다.\n",
        "\n",
        "        예) import numpy as np\n",
        "\n",
        "> 머신러닝 코드 구현 시, 연산을 위해서 벡터, matrix 등의 구조(shape), 차원(dimension)을 확인하는 것이 필요하다.\n",
        "\n",
        "\n"
      ]
    },
    {
      "cell_type": "code",
      "metadata": {
        "id": "cC9XMICddoXD",
        "colab_type": "code",
        "colab": {
          "base_uri": "https://localhost:8080/",
          "height": 70
        },
        "outputId": "be98159f-0396-45be-c99d-47e224b31a34"
      },
      "source": [
        "A = np.array([1,2,3])\n",
        "B = np.array([4,5,6])\n",
        "\n",
        "# vector A, B 출력\n",
        "print(\"A = \", A, \", B = \", B)\n",
        "\n",
        "# vector A, B 구조 출력 => shape\n",
        "print(\"A.shape = {0}, B.shape =  {1}\".format(A.shape, B.shape))\n",
        "\n",
        "# vector A, B 차원 출력 => ndim\n",
        "print(\"A.ndim = {0}, B.ndim = {1}\".format(A.ndim, B.ndim))"
      ],
      "execution_count": 19,
      "outputs": [
        {
          "output_type": "stream",
          "text": [
            "('A = ', array([1, 2, 3]), ', B = ', array([4, 5, 6]))\n",
            "A.shape = (3,), B.shape =  (3,)\n",
            "A.ndim = 1, B.ndim = 1\n"
          ],
          "name": "stdout"
        }
      ]
    },
    {
      "cell_type": "markdown",
      "metadata": {
        "id": "HQrzOFJgQCu_",
        "colab_type": "text"
      },
      "source": [
        "##### A, B는 항목(즉 요소)가 세개인 벡터임.\n",
        "\n",
        "> [행벡터](https://terms.naver.com/entry.nhn?docId=3338356&cid=47324&categoryId=47324) vs. [열벡터](https://terms.naver.com/entry.nhn?docId=3338418&ref=y&cid=47324&categoryId=47324)  \n",
        ">> 그러면 일반 벡터인 A, B를 열벡터 또는 행벡터로 변경하는 방법은?"
      ]
    },
    {
      "cell_type": "code",
      "metadata": {
        "id": "eGu_YN7hqW7n",
        "colab_type": "code",
        "colab": {
          "base_uri": "https://localhost:8080/",
          "height": 34
        },
        "outputId": "f35ef798-dd7b-4022-b4ac-4980015c9348"
      },
      "source": [
        "A.shape, B.shape  # , B는 항목(즉 요소)가 세개인 벡터"
      ],
      "execution_count": 20,
      "outputs": [
        {
          "output_type": "execute_result",
          "data": {
            "text/plain": [
              "((3,), (3,))"
            ]
          },
          "metadata": {
            "tags": []
          },
          "execution_count": 20
        }
      ]
    },
    {
      "cell_type": "markdown",
      "metadata": {
        "id": "TZ84bJEXrd1E",
        "colab_type": "text"
      },
      "source": [
        "#### 열벡터로 변환"
      ]
    },
    {
      "cell_type": "code",
      "metadata": {
        "id": "hhn5gf9mq9MX",
        "colab_type": "code",
        "colab": {
          "base_uri": "https://localhost:8080/",
          "height": 70
        },
        "outputId": "f3e4ea7c-4635-4c7f-99e0-20d88f964899"
      },
      "source": [
        "A[:, np.newaxis]   # 열벡터"
      ],
      "execution_count": 21,
      "outputs": [
        {
          "output_type": "execute_result",
          "data": {
            "text/plain": [
              "array([[1],\n",
              "       [2],\n",
              "       [3]])"
            ]
          },
          "metadata": {
            "tags": []
          },
          "execution_count": 21
        }
      ]
    },
    {
      "cell_type": "code",
      "metadata": {
        "id": "26HXtV-MgCnK",
        "colab_type": "code",
        "colab": {
          "base_uri": "https://localhost:8080/",
          "height": 70
        },
        "outputId": "b3c9d903-2dd8-4661-f1fa-fad33b950037"
      },
      "source": [
        "A,A[:,np.newaxis] # A와 열벡터로 변환한 A의 비교"
      ],
      "execution_count": 23,
      "outputs": [
        {
          "output_type": "execute_result",
          "data": {
            "text/plain": [
              "(array([1, 2, 3]), array([[1],\n",
              "        [2],\n",
              "        [3]]))"
            ]
          },
          "metadata": {
            "tags": []
          },
          "execution_count": 23
        }
      ]
    },
    {
      "cell_type": "code",
      "metadata": {
        "id": "mf1oktBlrY2e",
        "colab_type": "code",
        "colab": {
          "base_uri": "https://localhost:8080/",
          "height": 34
        },
        "outputId": "62dc8b72-627e-4738-b344-54dd5cc84b68"
      },
      "source": [
        "A1  = A[:, np.newaxis]\n",
        "A.shape, A.ndim, A1.shape, A1.ndim  # A와 열벡터로 변환한 A의 비교"
      ],
      "execution_count": 26,
      "outputs": [
        {
          "output_type": "execute_result",
          "data": {
            "text/plain": [
              "((3,), 1, (3, 1), 2)"
            ]
          },
          "metadata": {
            "tags": []
          },
          "execution_count": 26
        }
      ]
    },
    {
      "cell_type": "markdown",
      "metadata": {
        "colab_type": "text",
        "id": "6HUVGUdJrsaJ"
      },
      "source": [
        "#### 행벡터로 변환"
      ]
    },
    {
      "cell_type": "code",
      "metadata": {
        "id": "Fv5dMQtlgeVG",
        "colab_type": "code",
        "colab": {
          "base_uri": "https://localhost:8080/",
          "height": 34
        },
        "outputId": "e97ad00a-31ed-4973-a924-9b7108aba1db"
      },
      "source": [
        "B, B.shape,B.ndim"
      ],
      "execution_count": 28,
      "outputs": [
        {
          "output_type": "execute_result",
          "data": {
            "text/plain": [
              "(array([4, 5, 6]), (3,), 1)"
            ]
          },
          "metadata": {
            "tags": []
          },
          "execution_count": 28
        }
      ]
    },
    {
      "cell_type": "code",
      "metadata": {
        "colab_type": "code",
        "id": "jWfcua0drsaT",
        "colab": {
          "base_uri": "https://localhost:8080/",
          "height": 34
        },
        "outputId": "3a1d49e7-4293-4a96-cfc1-6669c2d837fd"
      },
      "source": [
        "B[np.newaxis,:]   # 행벡터 (대괄호가 하나 더 생김)"
      ],
      "execution_count": 29,
      "outputs": [
        {
          "output_type": "execute_result",
          "data": {
            "text/plain": [
              "array([[4, 5, 6]])"
            ]
          },
          "metadata": {
            "tags": []
          },
          "execution_count": 29
        }
      ]
    },
    {
      "cell_type": "code",
      "metadata": {
        "colab_type": "code",
        "id": "ImhriYRJrsam",
        "colab": {
          "base_uri": "https://localhost:8080/",
          "height": 34
        },
        "outputId": "9055f0f4-2e96-4f0c-a33f-5e2157c31ce2"
      },
      "source": [
        "B1  = B[np.newaxis,:]\n",
        "B1.shape, B1.ndim"
      ],
      "execution_count": 31,
      "outputs": [
        {
          "output_type": "execute_result",
          "data": {
            "text/plain": [
              "((1, 3), 2)"
            ]
          },
          "metadata": {
            "tags": []
          },
          "execution_count": 31
        }
      ]
    },
    {
      "cell_type": "code",
      "metadata": {
        "id": "oTjqGdFmsE4G",
        "colab_type": "code",
        "colab": {
          "base_uri": "https://localhost:8080/",
          "height": 87
        },
        "outputId": "0794f352-471b-451a-bb96-62b3e62e17af"
      },
      "source": [
        "print(A,B)\n",
        "A1,B1"
      ],
      "execution_count": 32,
      "outputs": [
        {
          "output_type": "stream",
          "text": [
            "(array([1, 2, 3]), array([4, 5, 6]))\n"
          ],
          "name": "stdout"
        },
        {
          "output_type": "execute_result",
          "data": {
            "text/plain": [
              "(array([[1],\n",
              "        [2],\n",
              "        [3]]), array([[4, 5, 6]]))"
            ]
          },
          "metadata": {
            "tags": []
          },
          "execution_count": 32
        }
      ]
    },
    {
      "cell_type": "code",
      "metadata": {
        "id": "mH_yPml6sYJf",
        "colab_type": "code",
        "colab": {
          "base_uri": "https://localhost:8080/",
          "height": 34
        },
        "outputId": "8b208b5b-db54-46cd-bb75-9d723d9a7c57"
      },
      "source": [
        "A.shape, B.shape, A1.shape, B1.shape"
      ],
      "execution_count": 33,
      "outputs": [
        {
          "output_type": "execute_result",
          "data": {
            "text/plain": [
              "((3,), (3,), (3, 1), (1, 3))"
            ]
          },
          "metadata": {
            "tags": []
          },
          "execution_count": 33
        }
      ]
    },
    {
      "cell_type": "markdown",
      "metadata": {
        "id": "Zu_DW5rbONsG",
        "colab_type": "text"
      },
      "source": [
        "### [확인]"
      ]
    },
    {
      "cell_type": "code",
      "metadata": {
        "id": "R22HiJBlOBsI",
        "colab_type": "code",
        "colab": {
          "base_uri": "https://localhost:8080/",
          "height": 34
        },
        "outputId": "500183f5-9093-42c8-bd14-5cf0090310ff"
      },
      "source": [
        "# A, B, A1, B1의 차원을 비교해보시오.\n",
        "\n",
        "A.ndim,B.ndim,A1.ndim,B1.ndim"
      ],
      "execution_count": 34,
      "outputs": [
        {
          "output_type": "execute_result",
          "data": {
            "text/plain": [
              "(1, 1, 2, 2)"
            ]
          },
          "metadata": {
            "tags": []
          },
          "execution_count": 34
        }
      ]
    },
    {
      "cell_type": "markdown",
      "metadata": {
        "id": "wqnE4KKDuKff",
        "colab_type": "text"
      },
      "source": [
        "> **reshape()**를 이용해서 벡터의 형태 변형도 가능하다.\n",
        "- A.reshape(3,1)\n",
        "- A.reshape(1,3)"
      ]
    },
    {
      "cell_type": "markdown",
      "metadata": {
        "id": "5fOcgOxaOZYf",
        "colab_type": "text"
      },
      "source": [
        "### [도전] reshape를 이용해서 벡터 A를 열벡터, 행벡터로 변환하시오."
      ]
    },
    {
      "cell_type": "code",
      "metadata": {
        "id": "p1p4_bSBOq_W",
        "colab_type": "code",
        "colab": {
          "base_uri": "https://localhost:8080/",
          "height": 70
        },
        "outputId": "447ff03e-8452-4f6d-f9b2-15c039d366b4"
      },
      "source": [
        "# reshape를 이용해서 벡터 A를 열벡터, 행벡터로 변환\n",
        "\n",
        "A2c=A.reshape(3,1)  # 열벡터, column vector\n",
        "A2r=A.reshape(1,3)  # 행벡터, row vector\n",
        "A, A2c, A2r"
      ],
      "execution_count": 35,
      "outputs": [
        {
          "output_type": "execute_result",
          "data": {
            "text/plain": [
              "(array([1, 2, 3]), array([[1],\n",
              "        [2],\n",
              "        [3]]), array([[1, 2, 3]]))"
            ]
          },
          "metadata": {
            "tags": []
          },
          "execution_count": 35
        }
      ]
    },
    {
      "cell_type": "code",
      "metadata": {
        "id": "H2zaVibrg-1t",
        "colab_type": "code",
        "colab": {
          "base_uri": "https://localhost:8080/",
          "height": 34
        },
        "outputId": "38c9d439-55c1-4608-bd62-fa9862c44933"
      },
      "source": [
        "A.ndim,A2c.ndim,A2r.ndim"
      ],
      "execution_count": 36,
      "outputs": [
        {
          "output_type": "execute_result",
          "data": {
            "text/plain": [
              "(1, 2, 2)"
            ]
          },
          "metadata": {
            "tags": []
          },
          "execution_count": 36
        }
      ]
    },
    {
      "cell_type": "markdown",
      "metadata": {
        "id": "Q9mDdXeZsoJ2",
        "colab_type": "text"
      },
      "source": [
        "\n",
        "\n",
        "---\n",
        "\n"
      ]
    },
    {
      "cell_type": "markdown",
      "metadata": {
        "id": "hJdNazCX6BJW",
        "colab_type": "text"
      },
      "source": [
        "## 벡터 산술연산"
      ]
    },
    {
      "cell_type": "markdown",
      "metadata": {
        "id": "gaL6T8Bycxiz",
        "colab_type": "text"
      },
      "source": [
        "- **벡터 산술연산**\n",
        "\n",
        "\n",
        "> 벡터 간 산술연산 (+, -, x, /, %)는 벡터의 각각의 원소에 대해서 행해진다.\n",
        "\n"
      ]
    },
    {
      "cell_type": "code",
      "metadata": {
        "id": "nkVxbRX5hCH_",
        "colab_type": "code",
        "colab": {
          "base_uri": "https://localhost:8080/",
          "height": 34
        },
        "outputId": "f5c02ebe-e94a-4914-d2c2-b96bf6790353"
      },
      "source": [
        "A, B"
      ],
      "execution_count": 37,
      "outputs": [
        {
          "output_type": "execute_result",
          "data": {
            "text/plain": [
              "(array([1, 2, 3]), array([4, 5, 6]))"
            ]
          },
          "metadata": {
            "tags": []
          },
          "execution_count": 37
        }
      ]
    },
    {
      "cell_type": "code",
      "metadata": {
        "id": "ehOzznnYa-0H",
        "colab_type": "code",
        "colab": {
          "base_uri": "https://localhost:8080/",
          "height": 105
        },
        "outputId": "737de490-1d10-4ad2-a2db-a86aa70b8390"
      },
      "source": [
        "# vector 산술 연산 (elementwise operation)\n",
        "# 벡터는 1차원 배열!\n",
        "# A = np.array([1,2,3])\n",
        "# B = np.array([4,5,6])\n",
        "\n",
        "print(\"A+B = \", A+B)\n",
        "print(\"A-B = \", A-B)\n",
        "print(\"A*B = \", A*B)\n",
        "print(\"A/B = \", A/B)\n",
        "print(\"A%B = \", A%B)"
      ],
      "execution_count": 38,
      "outputs": [
        {
          "output_type": "stream",
          "text": [
            "('A+B = ', array([5, 7, 9]))\n",
            "('A-B = ', array([-3, -3, -3]))\n",
            "('A*B = ', array([ 4, 10, 18]))\n",
            "('A/B = ', array([0, 0, 0]))\n",
            "('A%B = ', array([1, 2, 3]))\n"
          ],
          "name": "stdout"
        }
      ]
    },
    {
      "cell_type": "code",
      "metadata": {
        "id": "W9SoZJLOtemS",
        "colab_type": "code",
        "colab": {
          "base_uri": "https://localhost:8080/",
          "height": 34
        },
        "outputId": "f143ba19-5b8e-4904-a3cb-446598cc8ed7"
      },
      "source": [
        "B%A"
      ],
      "execution_count": 39,
      "outputs": [
        {
          "output_type": "execute_result",
          "data": {
            "text/plain": [
              "array([0, 1, 0])"
            ]
          },
          "metadata": {
            "tags": []
          },
          "execution_count": 39
        }
      ]
    },
    {
      "cell_type": "code",
      "metadata": {
        "id": "HiY_p_5Ptjkz",
        "colab_type": "code",
        "colab": {
          "base_uri": "https://localhost:8080/",
          "height": 34
        },
        "outputId": "2f7fbb99-0988-4fdc-d088-cffbfdc25290"
      },
      "source": [
        "A**B"
      ],
      "execution_count": 40,
      "outputs": [
        {
          "output_type": "execute_result",
          "data": {
            "text/plain": [
              "array([  1,  32, 729])"
            ]
          },
          "metadata": {
            "tags": []
          },
          "execution_count": 40
        }
      ]
    },
    {
      "cell_type": "markdown",
      "metadata": {
        "id": "yuwVL3pheF5O",
        "colab_type": "text"
      },
      "source": [
        "### numpy matrix (2차원 행렬)"
      ]
    },
    {
      "cell_type": "markdown",
      "metadata": {
        "id": "TAnvHnEJ6FEJ",
        "colab_type": "text"
      },
      "source": [
        "#### 행렬 생성"
      ]
    },
    {
      "cell_type": "markdown",
      "metadata": {
        "id": "tCo3bfQ1eJbj",
        "colab_type": "text"
      },
      "source": [
        "- **행렬 생성**\n",
        "\n",
        "\n",
        "> matrix는 벡터와 마찬가지로 np.array([ [...], [...], ... ])를 사용하여 생성한다.\n",
        "\n",
        "\n",
        ">     예)  import numpy as np\n",
        "\n",
        "\n",
        "          A = (1 2 3)       B = (-1 -2 -3)\n",
        "              (4 5 6)           (-4 -5 -6)\n",
        "            shape 2x3       shape 2x3\n",
        "\n",
        "\n"
      ]
    },
    {
      "cell_type": "code",
      "metadata": {
        "id": "wcx7fbWGdc9D",
        "colab_type": "code",
        "colab": {
          "base_uri": "https://localhost:8080/",
          "height": 52
        },
        "outputId": "9f00a099-932b-429a-c7a9-c77ad3733f71"
      },
      "source": [
        "A = np.array([ [1,2,3], [4,5,6] ])\n",
        "B = np.array([ [-1,-2,-3], [-4,-5,-6] ])\n",
        "\n",
        "# vector A, B 구조 출력 => shape\n",
        "print(\"A.shape = {0}, B.shape =  {1}\".format(A.shape, B.shape))\n",
        "\n",
        "# vector A, B 차원 출력 => ndim\n",
        "print(\"A.ndim = {0}, B.ndim = {1}\".format(A.ndim, B.ndim))"
      ],
      "execution_count": 41,
      "outputs": [
        {
          "output_type": "stream",
          "text": [
            "A.shape = (2, 3), B.shape =  (2, 3)\n",
            "A.ndim = 2, B.ndim = 2\n"
          ],
          "name": "stdout"
        }
      ]
    },
    {
      "cell_type": "markdown",
      "metadata": {
        "id": "qSW-t71a6HBY",
        "colab_type": "text"
      },
      "source": [
        "#### 형 변환 (reshape)"
      ]
    },
    {
      "cell_type": "markdown",
      "metadata": {
        "id": "KwTsdW9rfXj8",
        "colab_type": "text"
      },
      "source": [
        "- **형 변환 (reshape)**\n",
        "\n",
        "\n",
        "> 벡터를 matrix로 변경하거나 matrix를 다른 구조의 matrix로 변경하기 위해서는 reshape() 사용하여 행렬의 shape를 변경하여야 한다.\n",
        "\n",
        "           예) D = (1 2 3)   D.reshape(3,2) = (1 2)\n",
        "                   (4 5 6)                    (3 4)\n",
        "                                              (5 6)\n",
        "                shape 2x3             shape 3x2"
      ]
    },
    {
      "cell_type": "code",
      "metadata": {
        "id": "HWgzy1zqfTSb",
        "colab_type": "code",
        "colab": {
          "base_uri": "https://localhost:8080/",
          "height": 70
        },
        "outputId": "d0d9036e-d3a8-47da-eb23-d7088a57f45d"
      },
      "source": [
        "# reshape()를 이용한 열벡터 생성\n",
        "\n",
        "C = np.array([1,2,3])  # 기본 벡터\n",
        "\n",
        "# 벡터 C의 구조 출력 => shape\n",
        "print(\"C.shape = \", C.shape)\n",
        "\n",
        "# 벡터를 (3,1) 행렬로 형 변환 => 열벡터로 변환\n",
        "C1 = C.reshape(3,1)\n",
        "\n",
        "print(\"C1.shape = \", C1.shape)\n",
        "\n",
        "# 벡터를 (1,3) 행렬로 형 변환 => 행벡터로 변환\n",
        "C2 = C.reshape(1,3)\n",
        "\n",
        "print(\"C2.shape = \", C2.shape)"
      ],
      "execution_count": 42,
      "outputs": [
        {
          "output_type": "stream",
          "text": [
            "('C.shape = ', (3,))\n",
            "('C1.shape = ', (3, 1))\n",
            "('C2.shape = ', (1, 3))\n"
          ],
          "name": "stdout"
        }
      ]
    },
    {
      "cell_type": "code",
      "metadata": {
        "id": "b4naZbr5RIbe",
        "colab_type": "code",
        "colab": {
          "base_uri": "https://localhost:8080/",
          "height": 34
        },
        "outputId": "abf48d23-0343-4137-9184-b51e5b67bacc"
      },
      "source": [
        "C.ndim, C1.ndim, C2.ndim"
      ],
      "execution_count": 43,
      "outputs": [
        {
          "output_type": "execute_result",
          "data": {
            "text/plain": [
              "(1, 2, 2)"
            ]
          },
          "metadata": {
            "tags": []
          },
          "execution_count": 43
        }
      ]
    },
    {
      "cell_type": "markdown",
      "metadata": {
        "id": "ORwL3_suRVUZ",
        "colab_type": "text"
      },
      "source": [
        "### 2차원 배열의 구조 변환 (reshape 함수 이용)"
      ]
    },
    {
      "cell_type": "code",
      "metadata": {
        "colab_type": "code",
        "id": "RXvGHEV5wBDe",
        "colab": {
          "base_uri": "https://localhost:8080/",
          "height": 140
        },
        "outputId": "530f425c-bcfb-4cfb-c5e8-4cffc7f960f3"
      },
      "source": [
        "# reshape()를 이용한 구조 변경\n",
        "\n",
        "D = np.array([ [1,2,3], [4,5,6] ])  # (2,3) 배열\n",
        "\n",
        "# 배열 D의 구조 출력 => shape\n",
        "print(\"D.shape = \", D.shape)\n",
        "\n",
        "# 배열 D를 (3,2) 행렬로 형 변환 \n",
        "D1 = D.reshape(3,2)\n",
        "\n",
        "print(\"D1.shape = \", D1.shape)\n",
        "\n",
        "# D와 D1 출력\n",
        "print(D)\n",
        "print(D1)"
      ],
      "execution_count": 44,
      "outputs": [
        {
          "output_type": "stream",
          "text": [
            "('D.shape = ', (2, 3))\n",
            "('D1.shape = ', (3, 2))\n",
            "[[1 2 3]\n",
            " [4 5 6]]\n",
            "[[1 2]\n",
            " [3 4]\n",
            " [5 6]]\n"
          ],
          "name": "stdout"
        }
      ]
    },
    {
      "cell_type": "code",
      "metadata": {
        "id": "IUnhl44ERmPQ",
        "colab_type": "code",
        "colab": {
          "base_uri": "https://localhost:8080/",
          "height": 122
        },
        "outputId": "95bf8a96-34a0-48c1-94ac-7d7a4efeb837"
      },
      "source": [
        "# 전치행렬과 비교 => 다르다!\n",
        "DT = D.T\n",
        "D, D1, DT"
      ],
      "execution_count": 45,
      "outputs": [
        {
          "output_type": "execute_result",
          "data": {
            "text/plain": [
              "(array([[1, 2, 3],\n",
              "        [4, 5, 6]]), array([[1, 2],\n",
              "        [3, 4],\n",
              "        [5, 6]]), array([[1, 4],\n",
              "        [2, 5],\n",
              "        [3, 6]]))"
            ]
          },
          "metadata": {
            "tags": []
          },
          "execution_count": 45
        }
      ]
    }
  ]
}