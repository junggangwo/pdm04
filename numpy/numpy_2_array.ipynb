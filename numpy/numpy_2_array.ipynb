{
  "nbformat": 4,
  "nbformat_minor": 0,
  "metadata": {
    "kernelspec": {
      "display_name": "Python 3",
      "language": "python",
      "name": "python3"
    },
    "language_info": {
      "codemirror_mode": {
        "name": "ipython",
        "version": 3
      },
      "file_extension": ".py",
      "mimetype": "text/x-python",
      "name": "python",
      "nbconvert_exporter": "python",
      "pygments_lexer": "ipython3",
      "version": "3.7.5"
    },
    "colab": {
      "name": "numpy_2_array.ipynb",
      "provenance": [],
      "collapsed_sections": [],
      "include_colab_link": true
    }
  },
  "cells": [
    {
      "cell_type": "markdown",
      "metadata": {
        "id": "view-in-github",
        "colab_type": "text"
      },
      "source": [
        "<a href=\"https://colab.research.google.com/github/kimchaeyoung-student/pdm04/blob/master/numpy/numpy_2_array.ipynb\" target=\"_parent\"><img src=\"https://colab.research.google.com/assets/colab-badge.svg\" alt=\"Open In Colab\"/></a>"
      ]
    },
    {
      "cell_type": "markdown",
      "metadata": {
        "id": "qLtLw3l3DC1l",
        "colab_type": "text"
      },
      "source": [
        "# numpy array\n",
        "\n",
        "- 생성\n",
        "- 구조 살펴보기\n",
        "- 수학연산 (columnwise, rowwise)"
      ]
    },
    {
      "cell_type": "code",
      "metadata": {
        "id": "1ZpPRcynDC1l",
        "colab_type": "code",
        "colab": {
          "base_uri": "https://localhost:8080/",
          "height": 70
        },
        "outputId": "e43ae01b-914e-47d1-8860-46bcebf20c3c"
      },
      "source": [
        "from numpy import asarray\n",
        "# define data as a list\n",
        "data = [[1,2,3], [4,5,6]]\n",
        "\n",
        "# convert to a numpy array\n",
        "data = asarray(data)\n",
        "\n",
        "# summarize the array content\n",
        "print(data)\n",
        "\n",
        "# summarize the array shape\n",
        "print(data.shape)"
      ],
      "execution_count": 1,
      "outputs": [
        {
          "output_type": "stream",
          "text": [
            "[[1 2 3]\n",
            " [4 5 6]]\n",
            "(2, 3)\n"
          ],
          "name": "stdout"
        }
      ]
    },
    {
      "cell_type": "markdown",
      "metadata": {
        "id": "1pmgPh3DDC1p",
        "colab_type": "text"
      },
      "source": [
        "## Print rows"
      ]
    },
    {
      "cell_type": "code",
      "metadata": {
        "id": "0rLupYCmDC1q",
        "colab_type": "code",
        "colab": {
          "base_uri": "https://localhost:8080/",
          "height": 87
        },
        "outputId": "9c80a160-d6fc-4785-b089-daad6139cd8b"
      },
      "source": [
        "# enumerate rows in a numpy array\n",
        "from numpy import asarray\n",
        "# define data as a list\n",
        "data = [[1,2,3], [4,5,6]]\n",
        "\n",
        "# convert to a numpy array\n",
        "data = asarray(data)\n",
        "print(data)\n",
        "\n",
        "# step through rows\n",
        "for row in range(data.shape[0]):\n",
        "\tprint(data[row, :])\n",
        " "
      ],
      "execution_count": 2,
      "outputs": [
        {
          "output_type": "stream",
          "text": [
            "[[1 2 3]\n",
            " [4 5 6]]\n",
            "[1 2 3]\n",
            "[4 5 6]\n"
          ],
          "name": "stdout"
        }
      ]
    },
    {
      "cell_type": "markdown",
      "metadata": {
        "id": "S1Bl58KpDC1s",
        "colab_type": "text"
      },
      "source": [
        "## Print columns"
      ]
    },
    {
      "cell_type": "code",
      "metadata": {
        "id": "tvGr_NF3N37N",
        "colab_type": "code",
        "colab": {
          "base_uri": "https://localhost:8080/",
          "height": 52
        },
        "outputId": "9a7d6c76-8338-46d9-a690-7a8771a309f4"
      },
      "source": [
        "data"
      ],
      "execution_count": 3,
      "outputs": [
        {
          "output_type": "execute_result",
          "data": {
            "text/plain": [
              "array([[1, 2, 3],\n",
              "       [4, 5, 6]])"
            ]
          },
          "metadata": {
            "tags": []
          },
          "execution_count": 3
        }
      ]
    },
    {
      "cell_type": "code",
      "metadata": {
        "id": "2jS_7YIWDC1t",
        "colab_type": "code",
        "colab": {
          "base_uri": "https://localhost:8080/",
          "height": 105
        },
        "outputId": "9c2f94f3-689f-4651-c0ef-7b12adca4766"
      },
      "source": [
        "# enumerate rows in a numpy array\n",
        "from numpy import asarray\n",
        "# define data as a list\n",
        "data = [[1,2,3], [4,5,6]]\n",
        "\n",
        "# convert to a numpy array\n",
        "data = asarray(data)\n",
        "print(data)\n",
        "\n",
        "# step through columns\n",
        "for col in range(data.shape[1]):\n",
        "\tprint(data[ : ,col])"
      ],
      "execution_count": 4,
      "outputs": [
        {
          "output_type": "stream",
          "text": [
            "[[1 2 3]\n",
            " [4 5 6]]\n",
            "[1 4]\n",
            "[2 5]\n",
            "[3 6]\n"
          ],
          "name": "stdout"
        }
      ]
    },
    {
      "cell_type": "markdown",
      "metadata": {
        "id": "tGhULkDaDC1v",
        "colab_type": "text"
      },
      "source": [
        "## NumPy Array Operations By Row and Column\n",
        "- axis=None: Apply operation array-wise.\n",
        "- axis=0: Apply operation column-wise, across all rows for each column.\n",
        "- axis=1: Apply operation row-wise, across all columns for each row."
      ]
    },
    {
      "cell_type": "code",
      "metadata": {
        "id": "nFCQ6buxDC1v",
        "colab_type": "code",
        "colab": {
          "base_uri": "https://localhost:8080/",
          "height": 70
        },
        "outputId": "3a04764c-0ea3-4b20-901e-29e3364ff815"
      },
      "source": [
        "# sum values array-wise\n",
        "from numpy import asarray\n",
        "\n",
        "# define data as a list\n",
        "data = [[1,2,3], [4,5,6]]\n",
        "\n",
        "# convert to a numpy array (리스트를 배열로 만든다)\n",
        "data = asarray(data)\n",
        "\n",
        "# summarize the array content\n",
        "print(data)\n",
        "\n",
        "# sum data by array\n",
        "result = data.sum(axis=None)\n",
        "\n",
        "# summarize the result\n",
        "print(result)"
      ],
      "execution_count": 5,
      "outputs": [
        {
          "output_type": "stream",
          "text": [
            "[[1 2 3]\n",
            " [4 5 6]]\n",
            "21\n"
          ],
          "name": "stdout"
        }
      ]
    },
    {
      "cell_type": "markdown",
      "metadata": {
        "id": "Mcmj1qCwDC1y",
        "colab_type": "text"
      },
      "source": [
        "### Axis=0 Column-Wise Operation (수직으로)"
      ]
    },
    {
      "cell_type": "code",
      "metadata": {
        "id": "irwyItrKDC10",
        "colab_type": "code",
        "colab": {
          "base_uri": "https://localhost:8080/",
          "height": 70
        },
        "outputId": "d83a506e-52e6-470d-f1bc-bcdd0e2a6658"
      },
      "source": [
        "# sum values column-wise\n",
        "from numpy import asarray\n",
        "\n",
        "# define data as a list\n",
        "data = [[1,2,3], [4,5,6]]\n",
        "\n",
        "# convert to a numpy array\n",
        "data = asarray(data)\n",
        "\n",
        "# summarize the array content\n",
        "print(data)\n",
        "\n",
        "# sum data by column\n",
        "result = data.sum(axis=0)\n",
        "\n",
        "# summarize the result\n",
        "print(result)"
      ],
      "execution_count": 6,
      "outputs": [
        {
          "output_type": "stream",
          "text": [
            "[[1 2 3]\n",
            " [4 5 6]]\n",
            "[5 7 9]\n"
          ],
          "name": "stdout"
        }
      ]
    },
    {
      "cell_type": "markdown",
      "metadata": {
        "id": "OXNCVoP1DC13",
        "colab_type": "text"
      },
      "source": [
        "### Axis=1 Row-Wise Operation (수평으로)"
      ]
    },
    {
      "cell_type": "code",
      "metadata": {
        "id": "QmStdHwqDC13",
        "colab_type": "code",
        "colab": {
          "base_uri": "https://localhost:8080/",
          "height": 70
        },
        "outputId": "c4526ea8-6ab2-44ae-d8f3-fda3e4c3bd85"
      },
      "source": [
        "# sum values row-wise\n",
        "from numpy import asarray\n",
        "\n",
        "# define data as a list\n",
        "data = [[1,2,3], [4,5,6]]\n",
        "\n",
        "# convert to a numpy array\n",
        "data = asarray(data)\n",
        "\n",
        "# summarize the array content\n",
        "print(data)\n",
        "\n",
        "# sum data by row\n",
        "result = data.sum(axis=1)\n",
        "\n",
        "# summarize the result\n",
        "print(result)"
      ],
      "execution_count": 7,
      "outputs": [
        {
          "output_type": "stream",
          "text": [
            "[[1 2 3]\n",
            " [4 5 6]]\n",
            "[ 6 15]\n"
          ],
          "name": "stdout"
        }
      ]
    },
    {
      "cell_type": "markdown",
      "metadata": {
        "id": "JNfFF_h-DC2A",
        "colab_type": "text"
      },
      "source": [
        "## [Challenge]\n",
        "- 3d-array\n",
        "    * axis = 0\n",
        "    * axis = 1\n",
        "    * axis = 2\n",
        "    * axis = (0,1)"
      ]
    },
    {
      "cell_type": "markdown",
      "metadata": {
        "id": "w7qMCHmrGHTQ",
        "colab_type": "text"
      },
      "source": [
        "## [도전하기]\n",
        "\n",
        "- 3차원 배열을 리스트로부터 만드시오."
      ]
    },
    {
      "cell_type": "code",
      "metadata": {
        "id": "dMOzrginDC2A",
        "colab_type": "code",
        "colab": {}
      },
      "source": [
        "# Make 3d-array in numpy\n",
        "'''\n",
        "data = [[1,2,3], [4,5,6]]\n",
        "'''"
      ],
      "execution_count": null,
      "outputs": []
    },
    {
      "cell_type": "code",
      "metadata": {
        "id": "RmqlVhGoPS2e",
        "colab_type": "code",
        "colab": {}
      },
      "source": [
        "data3d = [[1,2,3], [4,5,6], [7,8,9]]"
      ],
      "execution_count": 10,
      "outputs": []
    },
    {
      "cell_type": "code",
      "metadata": {
        "id": "sZabEcYyPhNE",
        "colab_type": "code",
        "colab": {}
      },
      "source": [
        "from numpy import asarray\n",
        "data3d = asarray(data3d)"
      ],
      "execution_count": 11,
      "outputs": []
    },
    {
      "cell_type": "code",
      "metadata": {
        "id": "idjZZCwTDC2E",
        "colab_type": "code",
        "colab": {
          "base_uri": "https://localhost:8080/",
          "height": 34
        },
        "outputId": "a978afc9-4c5e-442d-b970-aa97190d0f57"
      },
      "source": [
        "data3d.ndim # 3차원 배열이 아님"
      ],
      "execution_count": 12,
      "outputs": [
        {
          "output_type": "execute_result",
          "data": {
            "text/plain": [
              "2"
            ]
          },
          "metadata": {
            "tags": []
          },
          "execution_count": 12
        }
      ]
    },
    {
      "cell_type": "markdown",
      "metadata": {
        "id": "gQ-pEmxPP591",
        "colab_type": "text"
      },
      "source": [
        "### 3차원 배열 : n x m x l , (n,m,l)"
      ]
    },
    {
      "cell_type": "code",
      "metadata": {
        "id": "KZbe71TCPdMc",
        "colab_type": "code",
        "colab": {
          "base_uri": "https://localhost:8080/",
          "height": 158
        },
        "outputId": "8909e2bf-0e97-40e2-8a19-4fa546e5815f"
      },
      "source": [
        "data3d = [[[1,2,3], [4,5,6]], [[1,2,3], [4,5,6]], [[1,2,3], [4,5,6]]] # 2차원 배열이 3개 있는 형태\n",
        "data3d = asarray(data3d)\n",
        "data3d"
      ],
      "execution_count": 13,
      "outputs": [
        {
          "output_type": "execute_result",
          "data": {
            "text/plain": [
              "array([[[1, 2, 3],\n",
              "        [4, 5, 6]],\n",
              "\n",
              "       [[1, 2, 3],\n",
              "        [4, 5, 6]],\n",
              "\n",
              "       [[1, 2, 3],\n",
              "        [4, 5, 6]]])"
            ]
          },
          "metadata": {
            "tags": []
          },
          "execution_count": 13
        }
      ]
    },
    {
      "cell_type": "code",
      "metadata": {
        "id": "eF4siN6zQfRN",
        "colab_type": "code",
        "colab": {
          "base_uri": "https://localhost:8080/",
          "height": 34
        },
        "outputId": "e241e77c-6e3d-478e-e47b-5955abd70fce"
      },
      "source": [
        "data3d.ndim"
      ],
      "execution_count": 14,
      "outputs": [
        {
          "output_type": "execute_result",
          "data": {
            "text/plain": [
              "3"
            ]
          },
          "metadata": {
            "tags": []
          },
          "execution_count": 14
        }
      ]
    },
    {
      "cell_type": "code",
      "metadata": {
        "id": "NluSxy93Qggg",
        "colab_type": "code",
        "colab": {
          "base_uri": "https://localhost:8080/",
          "height": 34
        },
        "outputId": "7c602a80-7414-4f7b-a07a-62cb7b367b2b"
      },
      "source": [
        "data3d.shape"
      ],
      "execution_count": 15,
      "outputs": [
        {
          "output_type": "execute_result",
          "data": {
            "text/plain": [
              "(3, 2, 3)"
            ]
          },
          "metadata": {
            "tags": []
          },
          "execution_count": 15
        }
      ]
    },
    {
      "cell_type": "code",
      "metadata": {
        "id": "W2gkCOglulDt",
        "colab_type": "code",
        "colab": {
          "base_uri": "https://localhost:8080/",
          "height": 158
        },
        "outputId": "c0b9ada3-7c12-4b40-eeef-c67902c3a881"
      },
      "source": [
        "data3d\n",
        "\n",
        "# 바깥쪽 괄호 [] 부터 시작하여 괄호를 기준으로 차원이 3, 2, 3 이 된다. 즉,\n",
        "# 가장 바깥쪽 괄호 안에는 3개의 원소가 존재한다.\n",
        "# 두번째 괄호 안에는 2개의 원소가 존재한다.\n",
        "# 세번째 괄호 안에는 3개의 원소가 존재한다."
      ],
      "execution_count": 22,
      "outputs": [
        {
          "output_type": "execute_result",
          "data": {
            "text/plain": [
              "array([[[1, 2, 3],\n",
              "        [4, 5, 6]],\n",
              "\n",
              "       [[1, 2, 3],\n",
              "        [4, 5, 6]],\n",
              "\n",
              "       [[1, 2, 3],\n",
              "        [4, 5, 6]]])"
            ]
          },
          "metadata": {
            "tags": []
          },
          "execution_count": 22
        }
      ]
    },
    {
      "cell_type": "code",
      "metadata": {
        "id": "UhSK6HHErjSq",
        "colab_type": "code",
        "colab": {
          "base_uri": "https://localhost:8080/",
          "height": 34
        },
        "outputId": "3ee8d12b-2799-4750-d0fc-db761f0b09df"
      },
      "source": [
        "data3d.sum(axis=None)\n",
        "\n",
        "# 3차원 배열의 모든 원소를 더한 값을 출력한다. 결과는 1개의 스칼라값"
      ],
      "execution_count": 23,
      "outputs": [
        {
          "output_type": "execute_result",
          "data": {
            "text/plain": [
              "63"
            ]
          },
          "metadata": {
            "tags": []
          },
          "execution_count": 23
        }
      ]
    },
    {
      "cell_type": "code",
      "metadata": {
        "id": "KWDWcHhrQixr",
        "colab_type": "code",
        "colab": {
          "base_uri": "https://localhost:8080/",
          "height": 52
        },
        "outputId": "c21f8d57-b1a0-4506-a744-9376466502de"
      },
      "source": [
        "data3d.sum(axis=0)\n",
        "\n",
        "# axis=0이면 첫번째 괄호가 사라졌을 때, 남은 2차원 원소들이 하나로 더해진다.\n",
        "\n",
        "# 2차원 배열의 대응하는 원소끼리 더하면 된다. 결과는 (2x3)"
      ],
      "execution_count": 24,
      "outputs": [
        {
          "output_type": "execute_result",
          "data": {
            "text/plain": [
              "array([[ 3,  6,  9],\n",
              "       [12, 15, 18]])"
            ]
          },
          "metadata": {
            "tags": []
          },
          "execution_count": 24
        }
      ]
    },
    {
      "cell_type": "code",
      "metadata": {
        "id": "4lLF52eTQ1_6",
        "colab_type": "code",
        "colab": {
          "base_uri": "https://localhost:8080/",
          "height": 70
        },
        "outputId": "3d7b5ef3-8b8f-418b-8492-6f700b362d3e"
      },
      "source": [
        "data3d.sum(axis=1)\n",
        "\n",
        "# axis=1이면 두번째 괄호가 사라졌을 때, 남은 1차원 원소들이 각각 하나로 더해진다. 결과는 (3x3)"
      ],
      "execution_count": 25,
      "outputs": [
        {
          "output_type": "execute_result",
          "data": {
            "text/plain": [
              "array([[5, 7, 9],\n",
              "       [5, 7, 9],\n",
              "       [5, 7, 9]])"
            ]
          },
          "metadata": {
            "tags": []
          },
          "execution_count": 25
        }
      ]
    },
    {
      "cell_type": "code",
      "metadata": {
        "id": "_S4yKYCsRbVr",
        "colab_type": "code",
        "colab": {
          "base_uri": "https://localhost:8080/",
          "height": 70
        },
        "outputId": "55f8c2bf-486e-41c0-bfb3-df4be24a01b1"
      },
      "source": [
        "data3d.sum(axis=2)\n",
        "\n",
        "# axis=2이면 세번째 괄호가 사라졌을 때, 남은 스칼라 원소들이 각각 하나로 더해진다. 결과는 (3x2)"
      ],
      "execution_count": 26,
      "outputs": [
        {
          "output_type": "execute_result",
          "data": {
            "text/plain": [
              "array([[ 6, 15],\n",
              "       [ 6, 15],\n",
              "       [ 6, 15]])"
            ]
          },
          "metadata": {
            "tags": []
          },
          "execution_count": 26
        }
      ]
    },
    {
      "cell_type": "code",
      "metadata": {
        "id": "Y49FQeyjQ9aV",
        "colab_type": "code",
        "colab": {
          "base_uri": "https://localhost:8080/",
          "height": 34
        },
        "outputId": "27a44923-684e-4492-d2f0-be0501cc587f"
      },
      "source": [
        "data3d.sum(axis=(0,1))\n",
        "\n",
        "# axis=(0,1)이면 첫번째, 두번째 괄호가 사라지면서 남는 1차원 배열의 각각 대응하는 원소끼리 더해진다."
      ],
      "execution_count": 27,
      "outputs": [
        {
          "output_type": "execute_result",
          "data": {
            "text/plain": [
              "array([15, 21, 27])"
            ]
          },
          "metadata": {
            "tags": []
          },
          "execution_count": 27
        }
      ]
    },
    {
      "cell_type": "code",
      "metadata": {
        "id": "sER8_fN4RD8T",
        "colab_type": "code",
        "colab": {
          "base_uri": "https://localhost:8080/",
          "height": 34
        },
        "outputId": "10d83e8e-a3fa-410c-b92d-4a041fe8ee36"
      },
      "source": [
        "data3d.sum(axis=(0,2))\n",
        "\n",
        "# axis=(0,2)이면 첫번째, 세번째 괄호가 사라지면서 남는 2차원 배열의 각각 대응하는 원소끼리 더해진다."
      ],
      "execution_count": 28,
      "outputs": [
        {
          "output_type": "execute_result",
          "data": {
            "text/plain": [
              "array([18, 45])"
            ]
          },
          "metadata": {
            "tags": []
          },
          "execution_count": 28
        }
      ]
    },
    {
      "cell_type": "code",
      "metadata": {
        "id": "wczmaKx-RMKa",
        "colab_type": "code",
        "colab": {
          "base_uri": "https://localhost:8080/",
          "height": 34
        },
        "outputId": "eb00a8bb-ddea-4aa4-d41e-55ab2c82b8f3"
      },
      "source": [
        "data3d.sum(axis=(1,2))\n",
        "\n",
        "# axis=(1,2)이면 두번째, 세번째 괄호가 사라지면서 남는 스칼라가 모두 더해진다."
      ],
      "execution_count": 29,
      "outputs": [
        {
          "output_type": "execute_result",
          "data": {
            "text/plain": [
              "array([21, 21, 21])"
            ]
          },
          "metadata": {
            "tags": []
          },
          "execution_count": 29
        }
      ]
    },
    {
      "cell_type": "markdown",
      "metadata": {
        "id": "658omtlVRpfU",
        "colab_type": "text"
      },
      "source": [
        "### 위의 3차원 배열에 대한 계산 결과를 간단히 주석으로 설명해보세요."
      ]
    }
  ]
}