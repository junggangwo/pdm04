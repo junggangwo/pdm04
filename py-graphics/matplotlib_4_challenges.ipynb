{
  "nbformat": 4,
  "nbformat_minor": 0,
  "metadata": {
    "colab": {
      "name": "matplotlib_4_challenges.ipynb",
      "provenance": [],
      "collapsed_sections": [],
      "include_colab_link": true
    },
    "kernelspec": {
      "name": "python3",
      "display_name": "Python 3"
    }
  },
  "cells": [
    {
      "cell_type": "markdown",
      "metadata": {
        "id": "view-in-github",
        "colab_type": "text"
      },
      "source": [
        "<a href=\"https://colab.research.google.com/github/kimchaeyoung-student/pdm04/blob/master/py-graphics/matplotlib_4_challenges.ipynb\" target=\"_parent\"><img src=\"https://colab.research.google.com/assets/colab-badge.svg\" alt=\"Open In Colab\"/></a>"
      ]
    },
    {
      "cell_type": "markdown",
      "metadata": {
        "id": "9Wej-7GZ4f3N",
        "colab_type": "text"
      },
      "source": [
        "# Challenge\n",
        "## Python module 2. **matplotlib**\n",
        "### Python graphics using matplotlib\n",
        "- Visualization\n",
        "- Front-end deployment to WEB or Mobile"
      ]
    },
    {
      "cell_type": "markdown",
      "metadata": {
        "id": "h6yEJiGJ4Lbk",
        "colab_type": "text"
      },
      "source": [
        "### 무작위수 분포 그려보기"
      ]
    },
    {
      "cell_type": "markdown",
      "metadata": {
        "id": "b-JcgSU-Ktyz",
        "colab_type": "text"
      },
      "source": [
        "### [도전1.] 균일분포와 정규분포를 비교하는 그림을 그리시오.\n",
        "- subplot 이용\n",
        "- style(제목, x-축 레이블, y-축 레이블, ...)\n",
        "\n",
        "> [hint] 검색: \"How to add title to subplots in Matplotlib?\""
      ]
    },
    {
      "cell_type": "code",
      "metadata": {
        "id": "VjRz3_C4hi3Q",
        "colab_type": "code",
        "colab": {}
      },
      "source": [
        "import numpy as np\n",
        "import matplotlib.pyplot as plt"
      ],
      "execution_count": 1,
      "outputs": []
    },
    {
      "cell_type": "code",
      "metadata": {
        "id": "k0XaT2f9JGZy",
        "colab_type": "code",
        "colab": {
          "base_uri": "https://localhost:8080/",
          "height": 353
        },
        "outputId": "41ee4a33-02ef-404b-f555-8613aaf00475"
      },
      "source": [
        "plt.hist(np.random.rand(1000))"
      ],
      "execution_count": 2,
      "outputs": [
        {
          "output_type": "execute_result",
          "data": {
            "text/plain": [
              "(array([117.,  98., 107.,  84.,  77., 111., 102.,  97., 108.,  99.]),\n",
              " array([0.00184042, 0.10163377, 0.20142712, 0.30122047, 0.40101382,\n",
              "        0.50080717, 0.60060051, 0.70039386, 0.80018721, 0.89998056,\n",
              "        0.99977391]),\n",
              " <a list of 10 Patch objects>)"
            ]
          },
          "metadata": {
            "tags": []
          },
          "execution_count": 2
        },
        {
          "output_type": "display_data",
          "data": {
            "image/png": "[encoded data removed]",
            "text/plain": [
              "<Figure size 432x288 with 1 Axes>"
            ]
          },
          "metadata": {
            "tags": [],
            "needs_background": "light"
          }
        }
      ]
    },
    {
      "cell_type": "code",
      "metadata": {
        "id": "T8SCqKVeMhBF",
        "colab_type": "code",
        "colab": {
          "base_uri": "https://localhost:8080/",
          "height": 356
        },
        "outputId": "88791ce6-dd82-41fb-f493-5e8213c4cf63"
      },
      "source": [
        "plt.hist(np.random.randn(1000))"
      ],
      "execution_count": 3,
      "outputs": [
        {
          "output_type": "execute_result",
          "data": {
            "text/plain": [
              "(array([  9.,  40., 112., 188., 240., 217., 122.,  54.,  12.,   6.]),\n",
              " array([-3.00885358, -2.37311618, -1.73737878, -1.10164138, -0.46590398,\n",
              "         0.16983342,  0.80557082,  1.44130822,  2.07704562,  2.71278302,\n",
              "         3.34852043]),\n",
              " <a list of 10 Patch objects>)"
            ]
          },
          "metadata": {
            "tags": []
          },
          "execution_count": 3
        },
        {
          "output_type": "display_data",
          "data": {
            "image/png": "[encoded data removed]",
            "text/plain": [
              "<Figure size 432x288 with 1 Axes>"
            ]
          },
          "metadata": {
            "tags": [],
            "needs_background": "light"
          }
        }
      ]
    },
    {
      "cell_type": "markdown",
      "metadata": {
        "id": "tXzgY3P67BXg",
        "colab_type": "text"
      },
      "source": [
        "### subplot(121), subplot(122)"
      ]
    },
    {
      "cell_type": "markdown",
      "metadata": {
        "id": "D5XGB1v_PAeU",
        "colab_type": "text"
      },
      "source": [
        "### [도전 2.] 0~9 사이의 무작위 정수 1000개를 만들어서 각 수의 빈도에 대한 히스토그램, 막대그래프, 꺾은선 그래프를 그리고 비교하시오.\n",
        "- subplot 이용\n",
        "- style(제목, x-축 레이블, y-축 레이블, ...)\n",
        "\n"
      ]
    },
    {
      "cell_type": "code",
      "metadata": {
        "id": "Kvas0eIAiQKu",
        "colab_type": "code",
        "colab": {}
      },
      "source": [
        "n1000 = np.random.randint(0,10,1000)"
      ],
      "execution_count": 5,
      "outputs": []
    },
    {
      "cell_type": "code",
      "metadata": {
        "id": "xza_yV8nMshU",
        "colab_type": "code",
        "colab": {}
      },
      "source": [
        "value, count= np.unique(n1000, return_counts=True)\n",
        "# count"
      ],
      "execution_count": 6,
      "outputs": []
    },
    {
      "cell_type": "code",
      "metadata": {
        "id": "CtOSk4RpQTXG",
        "colab_type": "code",
        "colab": {
          "base_uri": "https://localhost:8080/",
          "height": 282
        },
        "outputId": "613a52a2-9c30-4a96-a502-f0d90637621d"
      },
      "source": [
        "plt.bar(value,count) #,color=\"bgrcmyk\")  # 'bgrcmykw"
      ],
      "execution_count": 7,
      "outputs": [
        {
          "output_type": "execute_result",
          "data": {
            "text/plain": [
              "<BarContainer object of 10 artists>"
            ]
          },
          "metadata": {
            "tags": []
          },
          "execution_count": 7
        },
        {
          "output_type": "display_data",
          "data": {
            "image/png": "[encoded data removed]",
            "text/plain": [
              "<Figure size 432x288 with 1 Axes>"
            ]
          },
          "metadata": {
            "tags": [],
            "needs_background": "light"
          }
        }
      ]
    },
    {
      "cell_type": "markdown",
      "metadata": {
        "id": "vJOiAMJ5Jpnq",
        "colab_type": "text"
      },
      "source": [
        "> [Python 그래픽스](https://datascienceschool.net/view-notebook/d0b1637803754bb083b5722c9f2209d0/)\n"
      ]
    }
  ]
}