{
  "nbformat": 4,
  "nbformat_minor": 0,
  "metadata": {
    "colab": {
      "name": "matplotlib_4_challenges.ipynb",
      "provenance": [],
      "collapsed_sections": [],
      "include_colab_link": true
    },
    "kernelspec": {
      "name": "python3",
      "display_name": "Python 3"
    }
  },
  "cells": [
    {
      "cell_type": "markdown",
      "metadata": {
        "id": "view-in-github",
        "colab_type": "text"
      },
      "source": [
        "<a href=\"https://colab.research.google.com/github/kimchaeyoung-student/pdm04/blob/master/py-graphics/matplotlib_4_challenges.ipynb\" target=\"_parent\"><img src=\"https://colab.research.google.com/assets/colab-badge.svg\" alt=\"Open In Colab\"/></a>"
      ]
    },
    {
      "cell_type": "markdown",
      "metadata": {
        "id": "9Wej-7GZ4f3N",
        "colab_type": "text"
      },
      "source": [
        "# Challenge\n",
        "## Python module 2. **matplotlib**\n",
        "### Python graphics using matplotlib\n",
        "- Visualization\n",
        "- Front-end deployment to WEB or Mobile"
      ]
    },
    {
      "cell_type": "markdown",
      "metadata": {
        "id": "h6yEJiGJ4Lbk",
        "colab_type": "text"
      },
      "source": [
        "### 무작위수 분포 그려보기"
      ]
    },
    {
      "cell_type": "markdown",
      "metadata": {
        "id": "b-JcgSU-Ktyz",
        "colab_type": "text"
      },
      "source": [
        "### [도전1.] 균일분포와 정규분포를 비교하는 그림을 그리시오.\n",
        "- subplot 이용\n",
        "- style(제목, x-축 레이블, y-축 레이블, ...)\n",
        "\n",
        "> [hint] 검색: \"How to add title to subplots in Matplotlib?\""
      ]
    },
    {
      "cell_type": "code",
      "metadata": {
        "id": "VjRz3_C4hi3Q",
        "colab_type": "code",
        "colab": {}
      },
      "source": [
        "import numpy as np\n",
        "import matplotlib.pyplot as plt\n",
        "%matplotlib inline"
      ],
      "execution_count": 2,
      "outputs": []
    },
    {
      "cell_type": "code",
      "metadata": {
        "id": "k0XaT2f9JGZy",
        "colab_type": "code",
        "colab": {
          "base_uri": "https://localhost:8080/",
          "height": 353
        },
        "outputId": "6005a1ba-48cd-48fb-f429-c2491b1bd156"
      },
      "source": [
        "plt.hist(np.random.rand(1000))  # 균일분포"
      ],
      "execution_count": 3,
      "outputs": [
        {
          "output_type": "execute_result",
          "data": {
            "text/plain": [
              "(array([111.,  95., 102.,  93.,  98., 113., 103.,  75., 101., 109.]),\n",
              " array([5.90585874e-04, 1.00529197e-01, 2.00467808e-01, 3.00406419e-01,\n",
              "        4.00345030e-01, 5.00283641e-01, 6.00222253e-01, 7.00160864e-01,\n",
              "        8.00099475e-01, 9.00038086e-01, 9.99976697e-01]),\n",
              " <a list of 10 Patch objects>)"
            ]
          },
          "metadata": {
            "tags": []
          },
          "execution_count": 3
        },
        {
          "output_type": "display_data",
          "data": {
            "image/png": "[encoded data removed]",
            "text/plain": [
              "<Figure size 432x288 with 1 Axes>"
            ]
          },
          "metadata": {
            "tags": [],
            "needs_background": "light"
          }
        }
      ]
    },
    {
      "cell_type": "code",
      "metadata": {
        "id": "T8SCqKVeMhBF",
        "colab_type": "code",
        "colab": {
          "base_uri": "https://localhost:8080/",
          "height": 353
        },
        "outputId": "7d7eabea-b2e2-46d4-fd31-e917edb63946"
      },
      "source": [
        "plt.hist(np.random.randn(1000)) # 정규분포"
      ],
      "execution_count": 4,
      "outputs": [
        {
          "output_type": "execute_result",
          "data": {
            "text/plain": [
              "(array([  6.,  25.,  52., 134., 243., 244., 170.,  84.,  36.,   6.]),\n",
              " array([-3.2520254 , -2.61222301, -1.97242061, -1.33261821, -0.69281581,\n",
              "        -0.05301341,  0.58678899,  1.22659138,  1.86639378,  2.50619618,\n",
              "         3.14599858]),\n",
              " <a list of 10 Patch objects>)"
            ]
          },
          "metadata": {
            "tags": []
          },
          "execution_count": 4
        },
        {
          "output_type": "display_data",
          "data": {
            "image/png": "[encoded data removed]",
            "text/plain": [
              "<Figure size 432x288 with 1 Axes>"
            ]
          },
          "metadata": {
            "tags": [],
            "needs_background": "light"
          }
        }
      ]
    },
    {
      "cell_type": "markdown",
      "metadata": {
        "id": "tXzgY3P67BXg",
        "colab_type": "text"
      },
      "source": [
        "### subplot(121), subplot(122) 이용하기"
      ]
    },
    {
      "cell_type": "markdown",
      "metadata": {
        "id": "FDNKsoxO2DjE",
        "colab_type": "text"
      },
      "source": [
        "### [1번 답]"
      ]
    },
    {
      "cell_type": "code",
      "metadata": {
        "id": "s03SJ3KDSAfm",
        "colab_type": "code",
        "colab": {
          "base_uri": "https://localhost:8080/",
          "height": 369
        },
        "outputId": "994ad1c6-0e56-4045-9b0e-91be5cc53e24"
      },
      "source": [
        "fig = plt.figure(figsize=(10,5))             # figure 크기 설정\n",
        "\n",
        "ax1 = fig.add_subplot(121)                   # 1행 2열 중 첫번째\n",
        "ax1.hist(np.random.rand(1000))               # 균일분포\n",
        "ax1.title.set_text('Uniform Distribution')   # 첫번째 그래프 제목\n",
        "ax1.set(xlabel = 'value', ylabel = 'count')  # x,y label 설정\n",
        "\n",
        "ax2 = fig.add_subplot(122)                   # 1행 2열 중 두번째\n",
        "ax2.hist(np.random.randn(1000))              # 정규분포\n",
        "ax2.title.set_text('Normal Distribution')    # 두번째 그래프 제목\n",
        "ax2.set(xlabel = 'value', ylabel = 'count')  # x,y label 설정\n",
        "\n",
        "fig.tight_layout()    # 간격 유지\n",
        "plt.show()"
      ],
      "execution_count": 41,
      "outputs": [
        {
          "output_type": "display_data",
          "data": {
            "image/png": "[encoded data removed]",
            "text/plain": [
              "<Figure size 720x360 with 2 Axes>"
            ]
          },
          "metadata": {
            "tags": [],
            "needs_background": "light"
          }
        }
      ]
    },
    {
      "cell_type": "markdown",
      "metadata": {
        "id": "D5XGB1v_PAeU",
        "colab_type": "text"
      },
      "source": [
        "### [도전 2.] 0~9 사이의 무작위 정수 1000개를 만들어서 각 수의 빈도에 대한 히스토그램, 막대그래프, 꺾은선 그래프를 그리고 비교하시오.\n",
        "- subplot 이용\n",
        "- style(제목, x-축 레이블, y-축 레이블, ...)\n",
        "\n"
      ]
    },
    {
      "cell_type": "code",
      "metadata": {
        "id": "Kvas0eIAiQKu",
        "colab_type": "code",
        "colab": {}
      },
      "source": [
        "n1000 = np.random.randint(0,10,1000)  # 0~9 사이의 무작위 정수 1000개 만들기"
      ],
      "execution_count": 42,
      "outputs": []
    },
    {
      "cell_type": "code",
      "metadata": {
        "id": "xza_yV8nMshU",
        "colab_type": "code",
        "colab": {}
      },
      "source": [
        "value, count= np.unique(n1000, return_counts=True)"
      ],
      "execution_count": 43,
      "outputs": []
    },
    {
      "cell_type": "code",
      "metadata": {
        "id": "NmVEX2aL2ywR",
        "colab_type": "code",
        "colab": {
          "base_uri": "https://localhost:8080/",
          "height": 34
        },
        "outputId": "67793265-91f7-499b-ce92-fa8a568e98b8"
      },
      "source": [
        "value"
      ],
      "execution_count": 44,
      "outputs": [
        {
          "output_type": "execute_result",
          "data": {
            "text/plain": [
              "array([0, 1, 2, 3, 4, 5, 6, 7, 8, 9])"
            ]
          },
          "metadata": {
            "tags": []
          },
          "execution_count": 44
        }
      ]
    },
    {
      "cell_type": "code",
      "metadata": {
        "id": "FuGfS5gm20K2",
        "colab_type": "code",
        "colab": {
          "base_uri": "https://localhost:8080/",
          "height": 34
        },
        "outputId": "e336d393-10b4-4d81-d104-aefec5bf1716"
      },
      "source": [
        "count"
      ],
      "execution_count": 45,
      "outputs": [
        {
          "output_type": "execute_result",
          "data": {
            "text/plain": [
              "array([108,  96, 104,  87, 104, 102, 100,  95, 109,  95])"
            ]
          },
          "metadata": {
            "tags": []
          },
          "execution_count": 45
        }
      ]
    },
    {
      "cell_type": "markdown",
      "metadata": {
        "id": "HRX24lpg82JS",
        "colab_type": "text"
      },
      "source": [
        "### [2번 답]"
      ]
    },
    {
      "cell_type": "code",
      "metadata": {
        "id": "TYjnienJ4SJ2",
        "colab_type": "code",
        "colab": {
          "base_uri": "https://localhost:8080/",
          "height": 369
        },
        "outputId": "a60da4e6-df9e-4656-98be-0f19042e490c"
      },
      "source": [
        "fig = plt.figure(figsize=(15,5))            # figure 크기 설정\n",
        "\n",
        "ax1 = fig.add_subplot(131)                  # 1행 3열 중 첫번째\n",
        "ax1.hist(count)                             # 히스토그램 그리기\n",
        "ax1.title.set_text('Histogram')             # 제목 설정\n",
        "ax1.set(xlabel = 'count', ylabel = 'frequency') # x, y label 설정 (x축은 빈도수를 나타냄)\n",
        "\n",
        "ax2 = fig.add_subplot(132)                  # 1행 3열 중 두번째\n",
        "ax2.bar(value,count)                        # 막대 그래프 그리기\n",
        "ax2.title.set_text('Bar graph')             # 제목 설정\n",
        "ax2.set(xlabel = 'value', ylabel = 'count') # x, y label 설정\n",
        "\n",
        "ax3 = fig.add_subplot(133)                  # 1행 3열 중 세번째\n",
        "ax3.plot(value,count)                       # 꺾은선 그래프 그리기\n",
        "ax3.title.set_text('Line graph')            # 제목 설정\n",
        "ax3.set(xlabel = 'value', ylabel = 'count') # x, y label 설정\n",
        "\n",
        "fig.tight_layout()  # 간격 유지\n",
        "plt.show()"
      ],
      "execution_count": 46,
      "outputs": [
        {
          "output_type": "display_data",
          "data": {
            "image/png": "[encoded data removed]",
            "text/plain": [
              "<Figure size 1080x360 with 3 Axes>"
            ]
          },
          "metadata": {
            "tags": [],
            "needs_background": "light"
          }
        }
      ]
    },
    {
      "cell_type": "markdown",
      "metadata": {
        "id": "vJOiAMJ5Jpnq",
        "colab_type": "text"
      },
      "source": [
        "> [Python 그래픽스](https://datascienceschool.net/view-notebook/d0b1637803754bb083b5722c9f2209d0/)\n"
      ]
    }
  ]
}