{
  "nbformat": 4,
  "nbformat_minor": 0,
  "metadata": {
    "colab": {
      "name": "matplotlib_4_challenges_A.ipynb",
      "provenance": [],
      "collapsed_sections": [],
      "include_colab_link": true
    },
    "kernelspec": {
      "name": "python3",
      "display_name": "Python 3"
    }
  },
  "cells": [
    {
      "cell_type": "markdown",
      "metadata": {
        "id": "view-in-github",
        "colab_type": "text"
      },
      "source": [
        "<a href=\"https://colab.research.google.com/github/kimchaeyoung-student/pdm04/blob/master/py-graphics/matplotlib_4_challenges_A.ipynb\" target=\"_parent\"><img src=\"https://colab.research.google.com/assets/colab-badge.svg\" alt=\"Open In Colab\"/></a>"
      ]
    },
    {
      "cell_type": "markdown",
      "metadata": {
        "id": "9Wej-7GZ4f3N"
      },
      "source": [
        "# Challenge\n",
        "## Python module 2. **matplotlib**\n",
        "### Python graphics using matplotlib\n",
        "- Visualization\n",
        "- Front-end deployment to WEB or Mobile"
      ]
    },
    {
      "cell_type": "markdown",
      "metadata": {
        "id": "h6yEJiGJ4Lbk"
      },
      "source": [
        "### 무작위수 분포 그려보기"
      ]
    },
    {
      "cell_type": "markdown",
      "metadata": {
        "id": "b-JcgSU-Ktyz"
      },
      "source": [
        "### [도전1.] 균일분포와 정규분포를 비교하는 그림을 그리시오.\n",
        "- subplot 이용\n",
        "- style(제목, x-축 레이블, y-축 레이블, ...)\n",
        "\n",
        "> [hint] 검색: \"How to add title to subplots in Matplotlib?\""
      ]
    },
    {
      "cell_type": "code",
      "metadata": {
        "id": "asaSzifRhhZK"
      },
      "source": [
        "import numpy as np\n",
        "import matplotlib.pyplot as plt"
      ],
      "execution_count": 1,
      "outputs": []
    },
    {
      "cell_type": "code",
      "metadata": {
        "id": "k0XaT2f9JGZy",
        "outputId": "f4b48c48-628e-4edb-d165-07601fa6139b",
        "colab": {
          "base_uri": "https://localhost:8080/",
          "height": 353
        }
      },
      "source": [
        "plt.hist(np.random.rand(1000))"
      ],
      "execution_count": 2,
      "outputs": [
        {
          "output_type": "execute_result",
          "data": {
            "text/plain": [
              "(array([115.,  80.,  91., 100.,  99., 108., 118., 106.,  88.,  95.]),\n",
              " array([6.74440678e-04, 1.00599957e-01, 2.00525473e-01, 3.00450989e-01,\n",
              "        4.00376506e-01, 5.00302022e-01, 6.00227538e-01, 7.00153055e-01,\n",
              "        8.00078571e-01, 9.00004087e-01, 9.99929603e-01]),\n",
              " <a list of 10 Patch objects>)"
            ]
          },
          "metadata": {
            "tags": []
          },
          "execution_count": 2
        },
        {
          "output_type": "display_data",
          "data": {
            "image/png": "[encoded data removed]",
            "text/plain": [
              "<Figure size 432x288 with 1 Axes>"
            ]
          },
          "metadata": {
            "tags": [],
            "needs_background": "light"
          }
        }
      ]
    },
    {
      "cell_type": "code",
      "metadata": {
        "id": "T8SCqKVeMhBF",
        "outputId": "93962864-20f7-4133-fc65-35860a7e3b8f",
        "colab": {
          "base_uri": "https://localhost:8080/",
          "height": 353
        }
      },
      "source": [
        "plt.hist(np.random.randn(1000))"
      ],
      "execution_count": 3,
      "outputs": [
        {
          "output_type": "execute_result",
          "data": {
            "text/plain": [
              "(array([  6.,  21.,  87., 189., 243., 216., 141.,  73.,  20.,   4.]),\n",
              " array([-3.1064564 , -2.472079  , -1.83770159, -1.20332419, -0.56894679,\n",
              "         0.06543061,  0.69980801,  1.33418541,  1.96856281,  2.60294022,\n",
              "         3.23731762]),\n",
              " <a list of 10 Patch objects>)"
            ]
          },
          "metadata": {
            "tags": []
          },
          "execution_count": 3
        },
        {
          "output_type": "display_data",
          "data": {
            "image/png": "[encoded data removed]",
            "text/plain": [
              "<Figure size 432x288 with 1 Axes>"
            ]
          },
          "metadata": {
            "tags": [],
            "needs_background": "light"
          }
        }
      ]
    },
    {
      "cell_type": "code",
      "metadata": {
        "id": "D6mRWFlSpsu3",
        "outputId": "25a2f4fa-aa8b-46c4-fa40-e658194a9b84",
        "colab": {
          "base_uri": "https://localhost:8080/",
          "height": 370
        }
      },
      "source": [
        "plt.figure(figsize=(8,5))\n",
        "plt.subplot(121).set_title(\"Uniform distribution\")  # 첫 번째 subplot 제목\"Uniform distribution\"\n",
        "plt.xlabel('x') # 첫 번째 subplot x레이블 'x'\n",
        "plt.ylabel('y') # 첫 번째 subplot y레이블 'y'\n",
        "plt.hist(np.random.rand(1000))\n",
        "\n",
        "plt.subplot(122).set_title(\"Normal distribution\") # 두 번째 subplot에 제목\"Normal distribution\" 추가\n",
        "plt.xlabel('x') # 두 번째 subplot x레이블 'x'\n",
        "# plt.ylabel('y') # 두 번째 subplot y레이블 'y'\n",
        "plt.hist(np.random.randn(1000))\n",
        "\n",
        "plt.suptitle(\"Uniform distribution & Normal distribution\", fontweight=\"bold\") # 전체 제목 \"Uniform distribution & Normal distribution\", 글자 굵게\n",
        "# plt.tight_layout()  # 그래프 간격 조절\n",
        "plt.show()"
      ],
      "execution_count": 4,
      "outputs": [
        {
          "output_type": "display_data",
          "data": {
            "image/png": "[encoded data removed]",
            "text/plain": [
              "<Figure size 576x360 with 2 Axes>"
            ]
          },
          "metadata": {
            "tags": [],
            "needs_background": "light"
          }
        }
      ]
    },
    {
      "cell_type": "markdown",
      "metadata": {
        "id": "iGDZR9Msh4_6"
      },
      "source": [
        "### subplot(121), subplot(122)"
      ]
    },
    {
      "cell_type": "markdown",
      "metadata": {
        "id": "D5XGB1v_PAeU"
      },
      "source": [
        "### [도전 2.] 0~9 사이의 무작위 정수 1000개를 만들어서 각 수의 빈도에 대한 히스토그램, 막대그래프, 꺽은선 그래프를 그리고 비교하시오.\n",
        "- subplot 이용\n",
        "- style(제목, x-축 레이블, y-축 레이블, ...)\n",
        "\n"
      ]
    },
    {
      "cell_type": "code",
      "metadata": {
        "id": "PMJghJzfiVzs"
      },
      "source": [
        "n1000 = np.random.randint(0, 10, 1000)"
      ],
      "execution_count": 5,
      "outputs": []
    },
    {
      "cell_type": "code",
      "metadata": {
        "id": "xza_yV8nMshU",
        "outputId": "b66ef6c6-c167-410c-e5d9-2e8e3c93bae7",
        "colab": {
          "base_uri": "https://localhost:8080/",
          "height": 34
        }
      },
      "source": [
        "value, count= np.unique(n1000, return_counts=True)\n",
        "count"
      ],
      "execution_count": 6,
      "outputs": [
        {
          "output_type": "execute_result",
          "data": {
            "text/plain": [
              "array([101,  82, 100, 106,  97, 117, 101,  92,  95, 109])"
            ]
          },
          "metadata": {
            "tags": []
          },
          "execution_count": 6
        }
      ]
    },
    {
      "cell_type": "code",
      "metadata": {
        "id": "Cq2pcVqIvZGe",
        "outputId": "f5e1be75-bfff-4e71-a8e7-d25d742f5600",
        "colab": {
          "base_uri": "https://localhost:8080/",
          "height": 265
        }
      },
      "source": [
        "plt.hist(n1000)\n",
        "plt.show()"
      ],
      "execution_count": 7,
      "outputs": [
        {
          "output_type": "display_data",
          "data": {
            "image/png": "[encoded data removed]",
            "text/plain": [
              "<Figure size 432x288 with 1 Axes>"
            ]
          },
          "metadata": {
            "tags": [],
            "needs_background": "light"
          }
        }
      ]
    },
    {
      "cell_type": "code",
      "metadata": {
        "id": "CtOSk4RpQTXG",
        "outputId": "f9052757-cde7-4369-885f-8cf1ce064b94",
        "colab": {
          "base_uri": "https://localhost:8080/",
          "height": 320
        }
      },
      "source": [
        "plt.bar(value,count,color=\"bgrcmyk\")  # 'bgrcmykw\n",
        "plt.show()"
      ],
      "execution_count": 9,
      "outputs": [
        {
          "output_type": "stream",
          "text": [
            "/usr/local/lib/python3.6/dist-packages/ipykernel_launcher.py:1: MatplotlibDeprecationWarning: Using a string of single character colors as a color sequence is deprecated. Use an explicit list instead.\n",
            "  \"\"\"Entry point for launching an IPython kernel.\n"
          ],
          "name": "stderr"
        },
        {
          "output_type": "display_data",
          "data": {
            "image/png": "[encoded data removed]",
            "text/plain": [
              "<Figure size 432x288 with 1 Axes>"
            ]
          },
          "metadata": {
            "tags": [],
            "needs_background": "light"
          }
        }
      ]
    },
    {
      "cell_type": "code",
      "metadata": {
        "id": "If18Y68kvyc6",
        "outputId": "1d3c162a-a49f-4d7a-ebbf-fe0940ff0175",
        "colab": {
          "base_uri": "https://localhost:8080/",
          "height": 265
        }
      },
      "source": [
        "plt.plot(value,count,marker='o')\n",
        "plt.show()"
      ],
      "execution_count": 10,
      "outputs": [
        {
          "output_type": "display_data",
          "data": {
            "image/png": "[encoded data removed]",
            "text/plain": [
              "<Figure size 432x288 with 1 Axes>"
            ]
          },
          "metadata": {
            "tags": [],
            "needs_background": "light"
          }
        }
      ]
    },
    {
      "cell_type": "code",
      "metadata": {
        "id": "yb9oAujow2vD",
        "outputId": "7fe168f3-d879-4bb0-a75e-9b41cd9f1f3c",
        "colab": {
          "base_uri": "https://localhost:8080/",
          "height": 379
        }
      },
      "source": [
        "# import matplotlib.cm as cm\n",
        "\n",
        "plt.figure(figsize=(12,5))\n",
        "# cmap = cm.jet\n",
        "plt.subplot(131).set_title(\"Histogram\")  # 첫 번째 subplot 제목\"Histogram\"\n",
        "plt.xlabel('number') # 첫 번째 subplot x레이블 'number'\n",
        "plt.ylabel('count') # 첫 번째 subplot y레이블 'count'\n",
        "plt.hist(n1000)\n",
        "\n",
        "plt.subplot(132).set_title(\"Bar graph\") # 두 번째 subplot에 제목\"Bar graph\"\n",
        "plt.xlabel('number') # 두 번째 subplot x레이블 'number'\n",
        "# plt.ylabel('count') # 두 번째 subplot y레이블 'count'\n",
        "plt.bar(value,count,color=\"bgrcm\")\n",
        "\n",
        "plt.subplot(133).set_title(\"Line graph\") # 세 번째 subplot에 제목\"Line graph\"\n",
        "plt.xlabel('number') # 세 번째 subplot x레이블 'number'\n",
        "# plt.ylabel('count') # 세 번째 subplot y레이블 'count'\n",
        "plt.plot(value,count,'b-',marker='o',ms=8,markerfacecolor='red', markeredgecolor='k')\n",
        "\n",
        "plt.suptitle(\"Histogram & Bar & Line\", fontweight=\"bold\") # 전체 제목 \"Histogram & Bar & Line\", 글자 굵게\n",
        "# plt.tight_layout()  # 그래프 간격 조절\n",
        "plt.show()"
      ],
      "execution_count": 11,
      "outputs": [
        {
          "output_type": "stream",
          "text": [
            "/usr/local/lib/python3.6/dist-packages/ipykernel_launcher.py:13: MatplotlibDeprecationWarning: Using a string of single character colors as a color sequence is deprecated. Use an explicit list instead.\n",
            "  del sys.path[0]\n"
          ],
          "name": "stderr"
        },
        {
          "output_type": "display_data",
          "data": {
            "image/png": "[encoded data removed]",
            "text/plain": [
              "<Figure size 864x360 with 3 Axes>"
            ]
          },
          "metadata": {
            "tags": [],
            "needs_background": "light"
          }
        }
      ]
    },
    {
      "cell_type": "markdown",
      "metadata": {
        "id": "vJOiAMJ5Jpnq"
      },
      "source": [
        "> [Python 그래픽스](https://datascienceschool.net/view-notebook/d0b1637803754bb083b5722c9f2209d0/)\n"
      ]
    }
  ]
}