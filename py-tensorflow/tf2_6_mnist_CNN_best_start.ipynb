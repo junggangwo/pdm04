{
  "nbformat": 4,
  "nbformat_minor": 0,
  "metadata": {
    "colab": {
      "name": "tf2_6_mnist_CNN_best_start.ipynb",
      "provenance": [],
      "collapsed_sections": [],
      "include_colab_link": true
    },
    "kernelspec": {
      "name": "python3",
      "display_name": "Python 3"
    },
    "accelerator": "GPU"
  },
  "cells": [
    {
      "cell_type": "markdown",
      "metadata": {
        "id": "view-in-github",
        "colab_type": "text"
      },
      "source": [
        "<a href=\"https://colab.research.google.com/github/kimchaeyoung-student/pdm04/blob/master/py-tensorflow/tf2_6_mnist_CNN_best_start.ipynb\" target=\"_parent\"><img src=\"https://colab.research.google.com/assets/colab-badge.svg\" alt=\"Open In Colab\"/></a>"
      ]
    },
    {
      "cell_type": "markdown",
      "metadata": {
        "id": "rswfCVLZ-QW0"
      },
      "source": [
        "# **CNN model of mnist dataset**\n",
        "- Conv2D + FCN\n",
        "    * Conv2D : 2차원 합성곱 필터링 + 풀링(Pooling)\n",
        "    * FCN : 1차원 완전연결신경망\n",
        "\n",
        "***\n",
        "- ## Traget: **Find the best model**\n",
        "***\n",
        "\n",
        "![mnist_NN_2_layers](https://img1.daumcdn.net/thumb/R1280x0/?scode=mtistory2&fname=https%3A%2F%2Fblog.kakaocdn.net%2Fdn%2FdJp5Z6%2FbtqAPebnF3x%2FQCe5vVcskhmxe964bGz4iK%2Fimg.png)\n",
        "\n",
        "(source: https://img1.daumcdn.net/thumb/R1280x0/?scode=mtistory2&fname=https%3A%2F%2Fblog.kakaocdn.net%2Fdn%2FdJp5Z6%2FbtqAPebnF3x%2FQCe5vVcskhmxe964bGz4iK%2Fimg.png)"
      ]
    },
    {
      "cell_type": "markdown",
      "metadata": {
        "id": "1yhvkxS_HhpK"
      },
      "source": [
        "## Search the best model of C2F2\n",
        "- callback\n",
        "    - Early stopping\n",
        "    - model checkpoint"
      ]
    },
    {
      "cell_type": "code",
      "metadata": {
        "id": "8GgGzPXPVyfa",
        "colab": {
          "base_uri": "https://localhost:8080/"
        },
        "outputId": "ee501723-1077-4aba-8957-f632d6632b86"
      },
      "source": [
        "import numpy as np\n",
        "import tensorflow as tf\n",
        "from tensorflow import keras\n",
        "import pandas as pd\n",
        "import matplotlib.pyplot as plt\n",
        "%matplotlib inline\n",
        "\n",
        "print(tf.__version__)\n",
        "tf.random.set_seed(0)"
      ],
      "execution_count": 1,
      "outputs": [
        {
          "output_type": "stream",
          "text": [
            "2.3.0\n"
          ],
          "name": "stdout"
        }
      ]
    },
    {
      "cell_type": "code",
      "metadata": {
        "id": "nMZqMpIvIlwf"
      },
      "source": [
        "# import TF2 submodules\n",
        "from tensorflow.keras import layers, models, callbacks"
      ],
      "execution_count": 2,
      "outputs": []
    },
    {
      "cell_type": "markdown",
      "metadata": {
        "id": "-0IOOUM14Jk1"
      },
      "source": [
        "## **데이터 로딩, 정규화**"
      ]
    },
    {
      "cell_type": "code",
      "metadata": {
        "id": "N1ogJ7I64Fz-",
        "colab": {
          "base_uri": "https://localhost:8080/"
        },
        "outputId": "a4e31337-b2e3-44e1-b9dd-0d0d08389c2d"
      },
      "source": [
        "from keras.datasets import mnist\n",
        "\n",
        "(X_train0, y_train0), (X_test0, y_test0) = mnist.load_data()\n",
        "\n",
        "# Reshape\n",
        "X_train = X_train0.reshape(60000,28,28,1)\n",
        "X_test = X_test0.reshape(10000,28,28,1)\n",
        "\n",
        "# Normalization\n",
        "X_train, X_test = X_train/255.0, X_test/255.0 # 정규화\n",
        "\n",
        "print(\"X_train={0}\".format(X_train.shape))\n",
        "print(\"y_train={0}\".format(y_train0.shape)) \n",
        "print(\"X_test={0}\".format(X_test.shape))\n",
        "print(\"y_test={0}\".format(y_test0.shape))"
      ],
      "execution_count": 3,
      "outputs": [
        {
          "output_type": "stream",
          "text": [
            "Downloading data from https://storage.googleapis.com/tensorflow/tf-keras-datasets/mnist.npz\n",
            "11493376/11490434 [==============================] - 0s 0us/step\n",
            "X_train=(60000, 28, 28, 1)\n",
            "y_train=(60000,)\n",
            "X_test=(10000, 28, 28, 1)\n",
            "y_test=(10000,)\n"
          ],
          "name": "stdout"
        }
      ]
    },
    {
      "cell_type": "code",
      "metadata": {
        "id": "F46-QZqJHiQ6",
        "colab": {
          "base_uri": "https://localhost:8080/"
        },
        "outputId": "e7bd3fe8-a78b-4a64-832f-427a08b5cdbf"
      },
      "source": [
        "# One-Hot-Encoding\n",
        "# Use function to_categorical() to do One-Hot-Encoding\n",
        "# tf.keras.utils.to_categorical\n",
        "from keras.utils import to_categorical\n",
        "\n",
        "y_train = to_categorical(y_train0, 10)\n",
        "y_test = to_categorical(y_test0, 10)\n",
        "y_train.shape,y_test.shape"
      ],
      "execution_count": 4,
      "outputs": [
        {
          "output_type": "execute_result",
          "data": {
            "text/plain": [
              "((60000, 10), (10000, 10))"
            ]
          },
          "metadata": {
            "tags": []
          },
          "execution_count": 4
        }
      ]
    },
    {
      "cell_type": "code",
      "metadata": {
        "id": "eZ3OfP5PkEkL",
        "colab": {
          "base_uri": "https://localhost:8080/"
        },
        "outputId": "5395e2b3-1ee7-41bc-981d-71cddff31c7d"
      },
      "source": [
        "# y_train0.shape vs. y_train.shape\n",
        "y_train0.shape, y_train.shape"
      ],
      "execution_count": 5,
      "outputs": [
        {
          "output_type": "execute_result",
          "data": {
            "text/plain": [
              "((60000,), (60000, 10))"
            ]
          },
          "metadata": {
            "tags": []
          },
          "execution_count": 5
        }
      ]
    },
    {
      "cell_type": "markdown",
      "metadata": {
        "id": "5z7SozStigmF"
      },
      "source": [
        "### Display numbers\n",
        "- one random number\n",
        "- 10 representative numbers"
      ]
    },
    {
      "cell_type": "code",
      "metadata": {
        "id": "IK7XT3XoirSL",
        "colab": {
          "base_uri": "https://localhost:8080/",
          "height": 286
        },
        "outputId": "6f6c4a4b-450e-465a-aad4-1d7193061fd3"
      },
      "source": [
        "# Code here!\n",
        "# display one random image from the training set:\n",
        "class_names = [\"0\",\"1\",\"2\",\"3\",\"4\",\"5\",\"6\",\"7\",\"8\",\"9\"]\n",
        "\n",
        "idx = np.random.randint(0, X_train0.shape[0])\n",
        "print(idx)\n",
        "image = X_train0[idx]\n",
        "plt.imshow(image) #, cmap=plt.get_cmap('gray'))\n",
        "plt.title(class_names[y_train0[idx]])\n",
        "plt.xticks([])\n",
        "plt.yticks([])\n",
        "plt.show()"
      ],
      "execution_count": 6,
      "outputs": [
        {
          "output_type": "stream",
          "text": [
            "55848\n"
          ],
          "name": "stdout"
        },
        {
          "output_type": "display_data",
          "data": {
            "image/png": "[encoded data removed]",
            "text/plain": [
              "<Figure size 432x288 with 1 Axes>"
            ]
          },
          "metadata": {
            "tags": []
          }
        }
      ]
    },
    {
      "cell_type": "code",
      "metadata": {
        "id": "LzhD5pcukau7",
        "colab": {
          "base_uri": "https://localhost:8080/",
          "height": 325
        },
        "outputId": "08bdafda-88a6-4e96-a6cf-5cf1b83776fe"
      },
      "source": [
        "fig = plt.figure(figsize=(10,6))\n",
        "for i in range(10):\n",
        "    plt.subplot(2, 5, i+1)\n",
        "    num0_9 = X_train0[y_train0 == i]\n",
        "    # print(num0_9.shape)\n",
        "    plt.imshow(num0_9[0]) #, cmap='gray') #, interpolation='none')\n",
        "    plt.title(\"Class %d\" % (i))\n",
        "    plt.xticks([])\n",
        "    plt.yticks([])"
      ],
      "execution_count": 7,
      "outputs": [
        {
          "output_type": "display_data",
          "data": {
            "image/png": "[encoded data removed]",
            "text/plain": [
              "<Figure size 720x432 with 10 Axes>"
            ]
          },
          "metadata": {
            "tags": []
          }
        }
      ]
    },
    {
      "cell_type": "markdown",
      "metadata": {
        "id": "55DYVfFXi0WR"
      },
      "source": [
        "# Design CNN"
      ]
    },
    {
      "cell_type": "markdown",
      "metadata": {
        "id": "iPcLIcUCcsiG"
      },
      "source": [
        "### import models, layers, callbacks\n",
        "- models: Sequential\n",
        "- layers: Conv2D, MaxPool2D, Flatten\n",
        "- callbacks: ModelCheckpoint, EarlyStopping"
      ]
    },
    {
      "cell_type": "code",
      "metadata": {
        "id": "NzqMC4Xtc3ZE"
      },
      "source": [
        "from keras.models import Sequential\n",
        "from keras.layers import Conv2D, MaxPool2D, Flatten\n",
        "from keras.callbacks import ModelCheckpoint, EarlyStopping"
      ],
      "execution_count": 8,
      "outputs": []
    },
    {
      "cell_type": "markdown",
      "metadata": {
        "id": "7Z6DJJUCei-s"
      },
      "source": [
        "## **CNN2 + FCN2**"
      ]
    },
    {
      "cell_type": "code",
      "metadata": {
        "id": "pV3NFglM7P65"
      },
      "source": [
        "c2f2 = keras.models.Sequential([ \n",
        "    Conv2D(input_shape=(28,28,1),kernel_size=(3,3),strides=(1,1),filters= 32,padding='same',activation='relu'),\n",
        "    MaxPool2D(pool_size=(2,2), strides=(2,2)), \n",
        "    Conv2D(kernel_size=(3,3),strides=(1,1),filters= 64,padding='same',activation='relu'),\n",
        "    MaxPool2D(pool_size=(2,2), strides=(2,2)),\n",
        "    Flatten(), \n",
        "    keras.layers.Dense(128, activation='relu'),  \n",
        "    keras.layers.Dropout(0.25), \n",
        "    keras.layers.Dense(10, activation='softmax')\n",
        "])\n",
        "\n",
        "c2f2.compile(optimizer='adam',\n",
        "              loss='categorical_crossentropy',\n",
        "              metrics=['accuracy']) "
      ],
      "execution_count": 9,
      "outputs": []
    },
    {
      "cell_type": "code",
      "metadata": {
        "id": "OGtCiKy57YkR",
        "colab": {
          "base_uri": "https://localhost:8080/"
        },
        "outputId": "8b5987ef-a3b2-4db1-82e1-e5128396b75b"
      },
      "source": [
        "c2f2.summary()"
      ],
      "execution_count": 10,
      "outputs": [
        {
          "output_type": "stream",
          "text": [
            "Model: \"sequential\"\n",
            "_________________________________________________________________\n",
            "Layer (type)                 Output Shape              Param #   \n",
            "=================================================================\n",
            "conv2d (Conv2D)              (None, 28, 28, 32)        320       \n",
            "_________________________________________________________________\n",
            "max_pooling2d (MaxPooling2D) (None, 14, 14, 32)        0         \n",
            "_________________________________________________________________\n",
            "conv2d_1 (Conv2D)            (None, 14, 14, 64)        18496     \n",
            "_________________________________________________________________\n",
            "max_pooling2d_1 (MaxPooling2 (None, 7, 7, 64)          0         \n",
            "_________________________________________________________________\n",
            "flatten (Flatten)            (None, 3136)              0         \n",
            "_________________________________________________________________\n",
            "dense (Dense)                (None, 128)               401536    \n",
            "_________________________________________________________________\n",
            "dropout (Dropout)            (None, 128)               0         \n",
            "_________________________________________________________________\n",
            "dense_1 (Dense)              (None, 10)                1290      \n",
            "=================================================================\n",
            "Total params: 421,642\n",
            "Trainable params: 421,642\n",
            "Non-trainable params: 0\n",
            "_________________________________________________________________\n"
          ],
          "name": "stdout"
        }
      ]
    },
    {
      "cell_type": "code",
      "metadata": {
        "colab": {
          "base_uri": "https://localhost:8080/"
        },
        "id": "T5JBENw-3eXW",
        "outputId": "27aad31a-e0b8-4fb0-fcc1-35f787c2c9e7"
      },
      "source": [
        "# 1st Conv2D parameters\n",
        "9*32+32"
      ],
      "execution_count": 11,
      "outputs": [
        {
          "output_type": "execute_result",
          "data": {
            "text/plain": [
              "320"
            ]
          },
          "metadata": {
            "tags": []
          },
          "execution_count": 11
        }
      ]
    },
    {
      "cell_type": "code",
      "metadata": {
        "colab": {
          "base_uri": "https://localhost:8080/"
        },
        "id": "ydcQPpdF3qaX",
        "outputId": "9f10cb78-3cdd-485d-92d7-6f99df104237"
      },
      "source": [
        "# 2nd Conv2D parameters\n",
        "32*64*3*3 + 64"
      ],
      "execution_count": 12,
      "outputs": [
        {
          "output_type": "execute_result",
          "data": {
            "text/plain": [
              "18496"
            ]
          },
          "metadata": {
            "tags": []
          },
          "execution_count": 12
        }
      ]
    },
    {
      "cell_type": "code",
      "metadata": {
        "id": "zw_pQPBdJmU8"
      },
      "source": [
        "cp_callback = callbacks.ModelCheckpoint(filepath=\"./mnist_c2f2_best_weights.{epoch:03d}-{val_accuracy:.4f}.hdf5\", \n",
        "                              monitor='val_accuracy', verbose=0, save_best_only=True)\n",
        "es_callback = callbacks.EarlyStopping(monitor='val_accuracy', \n",
        "                            mode='max', verbose=1, patience=20)    # patience=10, 20, 50 # 과제할 땐 50으로 설정"
      ],
      "execution_count": 13,
      "outputs": []
    },
    {
      "cell_type": "code",
      "metadata": {
        "id": "94GWWQt-7eRS",
        "colab": {
          "base_uri": "https://localhost:8080/"
        },
        "outputId": "62a5eecb-3420-4534-ab10-e76aae559584"
      },
      "source": [
        "# Train CNN model\n",
        "# Find and save the best model.\n",
        "hist = c2f2.fit(X_train, y_train, epochs = 500 , batch_size =32, \n",
        "         callbacks=[cp_callback, es_callback], \n",
        "         validation_data=(X_test,y_test))"
      ],
      "execution_count": 14,
      "outputs": [
        {
          "output_type": "stream",
          "text": [
            "Epoch 1/500\n",
            "1875/1875 [==============================] - 12s 6ms/step - loss: 0.1532 - accuracy: 0.9534 - val_loss: 0.0398 - val_accuracy: 0.9861\n",
            "Epoch 2/500\n",
            "1875/1875 [==============================] - 12s 6ms/step - loss: 0.0524 - accuracy: 0.9840 - val_loss: 0.0407 - val_accuracy: 0.9862\n",
            "Epoch 3/500\n",
            "1875/1875 [==============================] - 12s 6ms/step - loss: 0.0387 - accuracy: 0.9880 - val_loss: 0.0273 - val_accuracy: 0.9908\n",
            "Epoch 4/500\n",
            "1875/1875 [==============================] - 12s 6ms/step - loss: 0.0295 - accuracy: 0.9904 - val_loss: 0.0329 - val_accuracy: 0.9883\n",
            "Epoch 5/500\n",
            "1875/1875 [==============================] - 12s 6ms/step - loss: 0.0237 - accuracy: 0.9924 - val_loss: 0.0288 - val_accuracy: 0.9903\n",
            "Epoch 6/500\n",
            "1875/1875 [==============================] - 12s 6ms/step - loss: 0.0183 - accuracy: 0.9936 - val_loss: 0.0244 - val_accuracy: 0.9925\n",
            "Epoch 7/500\n",
            "1875/1875 [==============================] - 12s 6ms/step - loss: 0.0161 - accuracy: 0.9947 - val_loss: 0.0275 - val_accuracy: 0.9923\n",
            "Epoch 8/500\n",
            "1875/1875 [==============================] - 12s 6ms/step - loss: 0.0136 - accuracy: 0.9954 - val_loss: 0.0240 - val_accuracy: 0.9930\n",
            "Epoch 9/500\n",
            "1875/1875 [==============================] - 12s 6ms/step - loss: 0.0121 - accuracy: 0.9961 - val_loss: 0.0292 - val_accuracy: 0.9918\n",
            "Epoch 10/500\n",
            "1875/1875 [==============================] - 12s 6ms/step - loss: 0.0108 - accuracy: 0.9965 - val_loss: 0.0287 - val_accuracy: 0.9923\n",
            "Epoch 11/500\n",
            "1875/1875 [==============================] - 12s 6ms/step - loss: 0.0101 - accuracy: 0.9967 - val_loss: 0.0325 - val_accuracy: 0.9912\n",
            "Epoch 12/500\n",
            "1875/1875 [==============================] - 12s 6ms/step - loss: 0.0085 - accuracy: 0.9973 - val_loss: 0.0322 - val_accuracy: 0.9917\n",
            "Epoch 13/500\n",
            "1875/1875 [==============================] - 12s 6ms/step - loss: 0.0094 - accuracy: 0.9968 - val_loss: 0.0359 - val_accuracy: 0.9918\n",
            "Epoch 14/500\n",
            "1875/1875 [==============================] - 12s 7ms/step - loss: 0.0075 - accuracy: 0.9976 - val_loss: 0.0332 - val_accuracy: 0.9907\n",
            "Epoch 15/500\n",
            "1875/1875 [==============================] - 12s 6ms/step - loss: 0.0078 - accuracy: 0.9972 - val_loss: 0.0245 - val_accuracy: 0.9926\n",
            "Epoch 16/500\n",
            "1875/1875 [==============================] - 12s 6ms/step - loss: 0.0057 - accuracy: 0.9982 - val_loss: 0.0269 - val_accuracy: 0.9940\n",
            "Epoch 17/500\n",
            "1875/1875 [==============================] - 12s 6ms/step - loss: 0.0066 - accuracy: 0.9978 - val_loss: 0.0317 - val_accuracy: 0.9930\n",
            "Epoch 18/500\n",
            "1875/1875 [==============================] - 12s 6ms/step - loss: 0.0061 - accuracy: 0.9982 - val_loss: 0.0336 - val_accuracy: 0.9926\n",
            "Epoch 19/500\n",
            "1875/1875 [==============================] - 12s 6ms/step - loss: 0.0048 - accuracy: 0.9984 - val_loss: 0.0427 - val_accuracy: 0.9922\n",
            "Epoch 20/500\n",
            "1875/1875 [==============================] - 12s 6ms/step - loss: 0.0061 - accuracy: 0.9979 - val_loss: 0.0299 - val_accuracy: 0.9924\n",
            "Epoch 21/500\n",
            "1875/1875 [==============================] - 12s 6ms/step - loss: 0.0058 - accuracy: 0.9980 - val_loss: 0.0289 - val_accuracy: 0.9940\n",
            "Epoch 22/500\n",
            "1875/1875 [==============================] - 12s 6ms/step - loss: 0.0059 - accuracy: 0.9981 - val_loss: 0.0345 - val_accuracy: 0.9936\n",
            "Epoch 23/500\n",
            "1875/1875 [==============================] - 12s 6ms/step - loss: 0.0045 - accuracy: 0.9985 - val_loss: 0.0328 - val_accuracy: 0.9925\n",
            "Epoch 24/500\n",
            "1875/1875 [==============================] - 12s 6ms/step - loss: 0.0046 - accuracy: 0.9984 - val_loss: 0.0521 - val_accuracy: 0.9917\n",
            "Epoch 25/500\n",
            "1875/1875 [==============================] - 12s 6ms/step - loss: 0.0048 - accuracy: 0.9985 - val_loss: 0.0494 - val_accuracy: 0.9909\n",
            "Epoch 26/500\n",
            "1875/1875 [==============================] - 12s 6ms/step - loss: 0.0046 - accuracy: 0.9984 - val_loss: 0.0361 - val_accuracy: 0.9936\n",
            "Epoch 27/500\n",
            "1875/1875 [==============================] - 12s 6ms/step - loss: 0.0060 - accuracy: 0.9984 - val_loss: 0.0314 - val_accuracy: 0.9942\n",
            "Epoch 28/500\n",
            "1875/1875 [==============================] - 12s 6ms/step - loss: 0.0044 - accuracy: 0.9985 - val_loss: 0.0333 - val_accuracy: 0.9934\n",
            "Epoch 29/500\n",
            "1875/1875 [==============================] - 12s 6ms/step - loss: 0.0043 - accuracy: 0.9987 - val_loss: 0.0491 - val_accuracy: 0.9918\n",
            "Epoch 30/500\n",
            "1875/1875 [==============================] - 12s 6ms/step - loss: 0.0037 - accuracy: 0.9987 - val_loss: 0.0417 - val_accuracy: 0.9928\n",
            "Epoch 31/500\n",
            "1875/1875 [==============================] - 12s 6ms/step - loss: 0.0048 - accuracy: 0.9985 - val_loss: 0.0425 - val_accuracy: 0.9921\n",
            "Epoch 32/500\n",
            "1875/1875 [==============================] - 12s 6ms/step - loss: 0.0045 - accuracy: 0.9985 - val_loss: 0.0471 - val_accuracy: 0.9926\n",
            "Epoch 33/500\n",
            "1875/1875 [==============================] - 12s 6ms/step - loss: 0.0041 - accuracy: 0.9988 - val_loss: 0.0427 - val_accuracy: 0.9922\n",
            "Epoch 34/500\n",
            "1875/1875 [==============================] - 12s 6ms/step - loss: 0.0036 - accuracy: 0.9989 - val_loss: 0.0417 - val_accuracy: 0.9924\n",
            "Epoch 35/500\n",
            "1875/1875 [==============================] - 12s 6ms/step - loss: 0.0052 - accuracy: 0.9985 - val_loss: 0.0401 - val_accuracy: 0.9932\n",
            "Epoch 36/500\n",
            "1875/1875 [==============================] - 12s 6ms/step - loss: 0.0040 - accuracy: 0.9987 - val_loss: 0.0352 - val_accuracy: 0.9929\n",
            "Epoch 37/500\n",
            "1875/1875 [==============================] - 12s 6ms/step - loss: 0.0036 - accuracy: 0.9988 - val_loss: 0.0529 - val_accuracy: 0.9926\n",
            "Epoch 38/500\n",
            "1875/1875 [==============================] - 12s 6ms/step - loss: 0.0030 - accuracy: 0.9991 - val_loss: 0.0456 - val_accuracy: 0.9929\n",
            "Epoch 39/500\n",
            "1875/1875 [==============================] - 12s 6ms/step - loss: 0.0052 - accuracy: 0.9986 - val_loss: 0.0614 - val_accuracy: 0.9923\n",
            "Epoch 40/500\n",
            "1875/1875 [==============================] - 12s 6ms/step - loss: 0.0044 - accuracy: 0.9987 - val_loss: 0.0498 - val_accuracy: 0.9925\n",
            "Epoch 41/500\n",
            "1875/1875 [==============================] - 12s 6ms/step - loss: 0.0044 - accuracy: 0.9987 - val_loss: 0.0465 - val_accuracy: 0.9931\n",
            "Epoch 42/500\n",
            "1875/1875 [==============================] - 12s 6ms/step - loss: 0.0038 - accuracy: 0.9989 - val_loss: 0.0414 - val_accuracy: 0.9924\n",
            "Epoch 43/500\n",
            "1875/1875 [==============================] - 12s 6ms/step - loss: 0.0027 - accuracy: 0.9991 - val_loss: 0.0526 - val_accuracy: 0.9923\n",
            "Epoch 44/500\n",
            "1875/1875 [==============================] - 12s 6ms/step - loss: 0.0042 - accuracy: 0.9988 - val_loss: 0.0536 - val_accuracy: 0.9935\n",
            "Epoch 45/500\n",
            "1875/1875 [==============================] - 12s 6ms/step - loss: 0.0033 - accuracy: 0.9989 - val_loss: 0.0677 - val_accuracy: 0.9921\n",
            "Epoch 46/500\n",
            "1875/1875 [==============================] - 12s 6ms/step - loss: 0.0046 - accuracy: 0.9987 - val_loss: 0.0660 - val_accuracy: 0.9910\n",
            "Epoch 47/500\n",
            "1875/1875 [==============================] - 12s 6ms/step - loss: 0.0040 - accuracy: 0.9990 - val_loss: 0.0602 - val_accuracy: 0.9910\n",
            "Epoch 00047: early stopping\n"
          ],
          "name": "stdout"
        }
      ]
    },
    {
      "cell_type": "code",
      "metadata": {
        "id": "0-7is2U49A6Z",
        "colab": {
          "base_uri": "https://localhost:8080/"
        },
        "outputId": "22f11391-54a1-4702-91f8-98779b35cb79"
      },
      "source": [
        "c2f2.evaluate(X_test, y_test, batch_size =32)"
      ],
      "execution_count": 15,
      "outputs": [
        {
          "output_type": "stream",
          "text": [
            "313/313 [==============================] - 1s 3ms/step - loss: 0.0602 - accuracy: 0.9910\n"
          ],
          "name": "stdout"
        },
        {
          "output_type": "execute_result",
          "data": {
            "text/plain": [
              "[0.060245905071496964, 0.9909999966621399]"
            ]
          },
          "metadata": {
            "tags": []
          },
          "execution_count": 15
        }
      ]
    },
    {
      "cell_type": "markdown",
      "metadata": {
        "id": "3Ub3qGnjs4EI"
      },
      "source": [
        "## Graph of loss and accuracy\n",
        "- model: C2F2"
      ]
    },
    {
      "cell_type": "code",
      "metadata": {
        "id": "WNmXXLhvWUiK",
        "colab": {
          "base_uri": "https://localhost:8080/",
          "height": 313
        },
        "outputId": "e0a7466b-cfaa-4d1e-f005-f54bc0d489f8"
      },
      "source": [
        "# Plot loass and accuracy\n",
        "# Plot training & validation accuracy values\n",
        "\n",
        "epochs = 47\n",
        "loss_list = [100 * i for i in hist.history['loss']]\n",
        "acc_list = [100 * i for i in hist.history['accuracy']]\n",
        "plt.plot(range(1,epochs+1),loss_list) \n",
        "plt.plot(range(1,epochs+1),acc_list) \n",
        "plt.title('Model loss & accuracy')\n",
        "plt.ylabel('Accuracy (%)')\n",
        "plt.xlabel('Epoch')\n",
        "plt.legend(['loss', 'accuracy'], loc='center left')"
      ],
      "execution_count": 16,
      "outputs": [
        {
          "output_type": "execute_result",
          "data": {
            "text/plain": [
              "<matplotlib.legend.Legend at 0x7f63556693c8>"
            ]
          },
          "metadata": {
            "tags": []
          },
          "execution_count": 16
        },
        {
          "output_type": "display_data",
          "data": {
            "image/png": "[encoded data removed]",
            "text/plain": [
              "<Figure size 432x288 with 1 Axes>"
            ]
          },
          "metadata": {
            "tags": [],
            "needs_background": "light"
          }
        }
      ]
    },
    {
      "cell_type": "code",
      "metadata": {
        "id": "0wNssVPhu_8m"
      },
      "source": [
        "vloss_list = [100 * i for i in hist.history['val_loss']]\n",
        "vacc_list = [100 * i for i in hist.history['val_accuracy']]"
      ],
      "execution_count": 17,
      "outputs": []
    },
    {
      "cell_type": "code",
      "metadata": {
        "id": "TX5Uzro4vjaY",
        "colab": {
          "base_uri": "https://localhost:8080/",
          "height": 313
        },
        "outputId": "5f7f19a7-75e7-4e75-e87f-d3ef00dc7447"
      },
      "source": [
        "plt.plot(range(1,epochs+1),vloss_list)  \n",
        "plt.plot(range(1,epochs+1),vacc_list)  \n",
        "plt.title('Model val_loss & val_accuracy')\n",
        "plt.ylabel('Accuracy (%)')\n",
        "plt.xlabel('Epoch')\n",
        "plt.legend(['val_loss', 'val_accuracy'], loc='center left')"
      ],
      "execution_count": 19,
      "outputs": [
        {
          "output_type": "execute_result",
          "data": {
            "text/plain": [
              "<matplotlib.legend.Legend at 0x7f6355e9fb38>"
            ]
          },
          "metadata": {
            "tags": []
          },
          "execution_count": 19
        },
        {
          "output_type": "display_data",
          "data": {
            "image/png": "[encoded data removed]",
            "text/plain": [
              "<Figure size 432x288 with 1 Axes>"
            ]
          },
          "metadata": {
            "tags": [],
            "needs_background": "light"
          }
        }
      ]
    },
    {
      "cell_type": "code",
      "metadata": {
        "id": "WkK7XXY2x8J4",
        "colab": {
          "base_uri": "https://localhost:8080/"
        },
        "outputId": "a885775b-6a72-4fdb-f535-5e2c144e75eb"
      },
      "source": [
        "np.argmax(np.array(vacc_list))"
      ],
      "execution_count": 22,
      "outputs": [
        {
          "output_type": "execute_result",
          "data": {
            "text/plain": [
              "26"
            ]
          },
          "metadata": {
            "tags": []
          },
          "execution_count": 22
        }
      ]
    },
    {
      "cell_type": "code",
      "metadata": {
        "id": "S8LAN1AYzykJ",
        "colab": {
          "base_uri": "https://localhost:8080/"
        },
        "outputId": "8f61539c-6d99-42a6-a58a-b8cc5b9238a7"
      },
      "source": [
        "vacc_list[np.argmax(np.array(vacc_list))]"
      ],
      "execution_count": 23,
      "outputs": [
        {
          "output_type": "execute_result",
          "data": {
            "text/plain": [
              "99.41999912261963"
            ]
          },
          "metadata": {
            "tags": []
          },
          "execution_count": 23
        }
      ]
    },
    {
      "cell_type": "code",
      "metadata": {
        "id": "blALTNdyvjVK",
        "colab": {
          "base_uri": "https://localhost:8080/",
          "height": 313
        },
        "outputId": "9f6a5731-1cba-4a2d-c6e7-093539c3bc65"
      },
      "source": [
        "plt.plot(range(1,epochs+1),acc_list)  \n",
        "plt.plot(range(1,epochs+1),vacc_list)  \n",
        "plt.title('accuracy vs. val_accuracy')\n",
        "plt.ylabel('Accuracy (%)')\n",
        "plt.xlabel('Epoch')\n",
        "plt.legend(['accuracy','val_accuracy'], loc='center')\n",
        "plt.plot(np.argmax(np.array(vacc_list))+1,vacc_list[np.argmax(np.array(vacc_list))], 'r*') "
      ],
      "execution_count": 24,
      "outputs": [
        {
          "output_type": "execute_result",
          "data": {
            "text/plain": [
              "[<matplotlib.lines.Line2D at 0x7f63554e8470>]"
            ]
          },
          "metadata": {
            "tags": []
          },
          "execution_count": 24
        },
        {
          "output_type": "display_data",
          "data": {
            "image/png": "[encoded data removed]",
            "text/plain": [
              "<Figure size 432x288 with 1 Axes>"
            ]
          },
          "metadata": {
            "tags": [],
            "needs_background": "light"
          }
        }
      ]
    },
    {
      "cell_type": "markdown",
      "metadata": {
        "id": "gBPKMI4y3fsa"
      },
      "source": [
        "## 최적화된 모형 불러와서 이용\n",
        "\n",
        "- callbacks.ModelCheckpoint를 이용해서 트레이닝 중 val_accuacy가 가장 높은 모형을 가중치와 함께 hdf5 형식으로 저장\n",
        "- load 명령으로 불러 사용\n",
        "\n",
        "> mnist_c2f2_best_weights.027-0.9942.hdf5"
      ]
    },
    {
      "cell_type": "code",
      "metadata": {
        "id": "KCfbQl2v3fsa"
      },
      "source": [
        "# c2f2.save('cnn_best.hdf5')"
      ],
      "execution_count": null,
      "outputs": []
    },
    {
      "cell_type": "code",
      "metadata": {
        "id": "b7-ysIVy3fse",
        "colab": {
          "base_uri": "https://localhost:8080/"
        },
        "outputId": "5d35c1a5-fd81-40f5-ee46-33a4a770b70b"
      },
      "source": [
        "from keras.models import load_model\n",
        "\n",
        "model = load_model('mnist_c2f2_best_weights.027-0.9942.hdf5')\n",
        "model.evaluate(X_test, y_test, batch_size=32)"
      ],
      "execution_count": 25,
      "outputs": [
        {
          "output_type": "stream",
          "text": [
            "313/313 [==============================] - 1s 4ms/step - loss: 0.0314 - accuracy: 0.9942\n"
          ],
          "name": "stdout"
        },
        {
          "output_type": "execute_result",
          "data": {
            "text/plain": [
              "[0.0314214825630188, 0.9941999912261963]"
            ]
          },
          "metadata": {
            "tags": []
          },
          "execution_count": 25
        }
      ]
    },
    {
      "cell_type": "markdown",
      "metadata": {
        "id": "3dO5bh1ILJP_"
      },
      "source": [
        "## [DIY] C2F3의 best model을 구하시오."
      ]
    },
    {
      "cell_type": "markdown",
      "metadata": {
        "id": "SUJxRQtafihM"
      },
      "source": [
        "## **CNN2 + FCN3**"
      ]
    },
    {
      "cell_type": "code",
      "metadata": {
        "id": "Nl5CyAymAB34"
      },
      "source": [
        "c2f3 = keras.models.Sequential([ \n",
        "    Conv2D(input_shape=(28,28,1),kernel_size=(3,3),strides=(1,1),filters= 32,padding='same',activation='relu'),\n",
        "    MaxPool2D(pool_size=(2,2), strides=(2,2)), \n",
        "    Conv2D(kernel_size=(3,3),strides=(1,1),filters= 64,padding='same',activation='relu'),\n",
        "    MaxPool2D(pool_size=(2,2), strides=(2,2)),\n",
        "    Flatten(), \n",
        "    keras.layers.Dense(128, activation='relu'),  \n",
        "    keras.layers.Dropout(0.25), \n",
        "    keras.layers.Dense(64, activation='relu'),  \n",
        "    keras.layers.Dropout(0.25), \n",
        "    keras.layers.Dense(10, activation='softmax')\n",
        "])\n",
        "\n",
        "c2f3.compile(optimizer='adam',\n",
        "              loss='categorical_crossentropy',\n",
        "              metrics=['accuracy']) "
      ],
      "execution_count": 26,
      "outputs": []
    },
    {
      "cell_type": "code",
      "metadata": {
        "id": "gYxuGW_2ANL8",
        "colab": {
          "base_uri": "https://localhost:8080/"
        },
        "outputId": "0ebc8103-3ff5-4e08-ceeb-b42b8f378b59"
      },
      "source": [
        "c2f3.summary()"
      ],
      "execution_count": 27,
      "outputs": [
        {
          "output_type": "stream",
          "text": [
            "Model: \"sequential_1\"\n",
            "_________________________________________________________________\n",
            "Layer (type)                 Output Shape              Param #   \n",
            "=================================================================\n",
            "conv2d_2 (Conv2D)            (None, 28, 28, 32)        320       \n",
            "_________________________________________________________________\n",
            "max_pooling2d_2 (MaxPooling2 (None, 14, 14, 32)        0         \n",
            "_________________________________________________________________\n",
            "conv2d_3 (Conv2D)            (None, 14, 14, 64)        18496     \n",
            "_________________________________________________________________\n",
            "max_pooling2d_3 (MaxPooling2 (None, 7, 7, 64)          0         \n",
            "_________________________________________________________________\n",
            "flatten_1 (Flatten)          (None, 3136)              0         \n",
            "_________________________________________________________________\n",
            "dense_2 (Dense)              (None, 128)               401536    \n",
            "_________________________________________________________________\n",
            "dropout_1 (Dropout)          (None, 128)               0         \n",
            "_________________________________________________________________\n",
            "dense_3 (Dense)              (None, 64)                8256      \n",
            "_________________________________________________________________\n",
            "dropout_2 (Dropout)          (None, 64)                0         \n",
            "_________________________________________________________________\n",
            "dense_4 (Dense)              (None, 10)                650       \n",
            "=================================================================\n",
            "Total params: 429,258\n",
            "Trainable params: 429,258\n",
            "Non-trainable params: 0\n",
            "_________________________________________________________________\n"
          ],
          "name": "stdout"
        }
      ]
    },
    {
      "cell_type": "code",
      "metadata": {
        "id": "3KEpTdq0rB4K"
      },
      "source": [
        "# Your code here!!!\n",
        "\n",
        "cp_callback = callbacks.ModelCheckpoint(filepath=\"./mnist_c2f3_best_weights.{epoch:03d}-{val_accuracy:.4f}.hdf5\", \n",
        "                              monitor='val_accuracy', verbose=0, save_best_only=True)\n",
        "es_callback = callbacks.EarlyStopping(monitor='val_accuracy', \n",
        "                            mode='max', verbose=1, patience=50)    # patience=10, 20, 50 # 과제할 땐 50으로 설정"
      ],
      "execution_count": 29,
      "outputs": []
    },
    {
      "cell_type": "code",
      "metadata": {
        "colab": {
          "base_uri": "https://localhost:8080/"
        },
        "id": "-aGTuHfurfKv",
        "outputId": "164bab2a-bef8-4c07-da48-d5416b82b9af"
      },
      "source": [
        "# Train CNN model\n",
        "# Find and save the best model.\n",
        "hist = c2f3.fit(X_train, y_train, epochs = 500 , batch_size =32, \n",
        "         callbacks=[cp_callback, es_callback], \n",
        "         validation_data=(X_test,y_test))"
      ],
      "execution_count": 30,
      "outputs": [
        {
          "output_type": "stream",
          "text": [
            "Epoch 1/500\n",
            "1875/1875 [==============================] - 13s 7ms/step - loss: 0.2149 - accuracy: 0.9343 - val_loss: 0.0548 - val_accuracy: 0.9835\n",
            "Epoch 2/500\n",
            "1875/1875 [==============================] - 12s 7ms/step - loss: 0.0717 - accuracy: 0.9801 - val_loss: 0.0389 - val_accuracy: 0.9882\n",
            "Epoch 3/500\n",
            "1875/1875 [==============================] - 13s 7ms/step - loss: 0.0535 - accuracy: 0.9841 - val_loss: 0.0337 - val_accuracy: 0.9891\n",
            "Epoch 4/500\n",
            "1875/1875 [==============================] - 13s 7ms/step - loss: 0.0423 - accuracy: 0.9878 - val_loss: 0.0312 - val_accuracy: 0.9901\n",
            "Epoch 5/500\n",
            "1875/1875 [==============================] - 12s 7ms/step - loss: 0.0353 - accuracy: 0.9897 - val_loss: 0.0285 - val_accuracy: 0.9912\n",
            "Epoch 6/500\n",
            "1875/1875 [==============================] - 12s 7ms/step - loss: 0.0300 - accuracy: 0.9910 - val_loss: 0.0310 - val_accuracy: 0.9912\n",
            "Epoch 7/500\n",
            "1875/1875 [==============================] - 12s 7ms/step - loss: 0.0250 - accuracy: 0.9926 - val_loss: 0.0313 - val_accuracy: 0.9912\n",
            "Epoch 8/500\n",
            "1875/1875 [==============================] - 12s 7ms/step - loss: 0.0227 - accuracy: 0.9934 - val_loss: 0.0239 - val_accuracy: 0.9920\n",
            "Epoch 9/500\n",
            "1875/1875 [==============================] - 12s 7ms/step - loss: 0.0193 - accuracy: 0.9943 - val_loss: 0.0218 - val_accuracy: 0.9944\n",
            "Epoch 10/500\n",
            "1875/1875 [==============================] - 12s 7ms/step - loss: 0.0180 - accuracy: 0.9945 - val_loss: 0.0346 - val_accuracy: 0.9915\n",
            "Epoch 11/500\n",
            "1875/1875 [==============================] - 12s 7ms/step - loss: 0.0183 - accuracy: 0.9948 - val_loss: 0.0286 - val_accuracy: 0.9927\n",
            "Epoch 12/500\n",
            "1875/1875 [==============================] - 12s 7ms/step - loss: 0.0128 - accuracy: 0.9962 - val_loss: 0.0302 - val_accuracy: 0.9923\n",
            "Epoch 13/500\n",
            "1875/1875 [==============================] - 12s 7ms/step - loss: 0.0142 - accuracy: 0.9956 - val_loss: 0.0320 - val_accuracy: 0.9919\n",
            "Epoch 14/500\n",
            "1875/1875 [==============================] - 12s 7ms/step - loss: 0.0133 - accuracy: 0.9959 - val_loss: 0.0305 - val_accuracy: 0.9916\n",
            "Epoch 15/500\n",
            "1875/1875 [==============================] - 12s 7ms/step - loss: 0.0132 - accuracy: 0.9962 - val_loss: 0.0305 - val_accuracy: 0.9932\n",
            "Epoch 16/500\n",
            "1875/1875 [==============================] - 12s 7ms/step - loss: 0.0118 - accuracy: 0.9965 - val_loss: 0.0292 - val_accuracy: 0.9931\n",
            "Epoch 17/500\n",
            "1875/1875 [==============================] - 12s 7ms/step - loss: 0.0104 - accuracy: 0.9969 - val_loss: 0.0295 - val_accuracy: 0.9930\n",
            "Epoch 18/500\n",
            "1875/1875 [==============================] - 12s 7ms/step - loss: 0.0106 - accuracy: 0.9968 - val_loss: 0.0443 - val_accuracy: 0.9915\n",
            "Epoch 19/500\n",
            "1875/1875 [==============================] - 12s 7ms/step - loss: 0.0105 - accuracy: 0.9970 - val_loss: 0.0337 - val_accuracy: 0.9931\n",
            "Epoch 20/500\n",
            "1875/1875 [==============================] - 12s 7ms/step - loss: 0.0108 - accuracy: 0.9971 - val_loss: 0.0316 - val_accuracy: 0.9926\n",
            "Epoch 21/500\n",
            "1875/1875 [==============================] - 12s 7ms/step - loss: 0.0084 - accuracy: 0.9975 - val_loss: 0.0423 - val_accuracy: 0.9920\n",
            "Epoch 22/500\n",
            "1875/1875 [==============================] - 12s 7ms/step - loss: 0.0097 - accuracy: 0.9968 - val_loss: 0.0416 - val_accuracy: 0.9912\n",
            "Epoch 23/500\n",
            "1875/1875 [==============================] - 12s 7ms/step - loss: 0.0080 - accuracy: 0.9977 - val_loss: 0.0390 - val_accuracy: 0.9919\n",
            "Epoch 24/500\n",
            "1875/1875 [==============================] - 13s 7ms/step - loss: 0.0101 - accuracy: 0.9974 - val_loss: 0.0400 - val_accuracy: 0.9917\n",
            "Epoch 25/500\n",
            "1875/1875 [==============================] - 12s 7ms/step - loss: 0.0079 - accuracy: 0.9978 - val_loss: 0.0353 - val_accuracy: 0.9928\n",
            "Epoch 26/500\n",
            "1875/1875 [==============================] - 12s 7ms/step - loss: 0.0090 - accuracy: 0.9975 - val_loss: 0.0501 - val_accuracy: 0.9911\n",
            "Epoch 27/500\n",
            "1875/1875 [==============================] - 12s 7ms/step - loss: 0.0071 - accuracy: 0.9980 - val_loss: 0.0405 - val_accuracy: 0.9934\n",
            "Epoch 28/500\n",
            "1875/1875 [==============================] - 13s 7ms/step - loss: 0.0072 - accuracy: 0.9977 - val_loss: 0.0485 - val_accuracy: 0.9909\n",
            "Epoch 29/500\n",
            "1875/1875 [==============================] - 13s 7ms/step - loss: 0.0075 - accuracy: 0.9977 - val_loss: 0.0454 - val_accuracy: 0.9929\n",
            "Epoch 30/500\n",
            "1875/1875 [==============================] - 12s 7ms/step - loss: 0.0089 - accuracy: 0.9973 - val_loss: 0.0483 - val_accuracy: 0.9921\n",
            "Epoch 31/500\n",
            "1875/1875 [==============================] - 12s 7ms/step - loss: 0.0064 - accuracy: 0.9985 - val_loss: 0.0540 - val_accuracy: 0.9926\n",
            "Epoch 32/500\n",
            "1875/1875 [==============================] - 12s 7ms/step - loss: 0.0059 - accuracy: 0.9984 - val_loss: 0.0528 - val_accuracy: 0.9927\n",
            "Epoch 33/500\n",
            "1875/1875 [==============================] - 12s 7ms/step - loss: 0.0076 - accuracy: 0.9979 - val_loss: 0.0481 - val_accuracy: 0.9920\n",
            "Epoch 34/500\n",
            "1875/1875 [==============================] - 13s 7ms/step - loss: 0.0087 - accuracy: 0.9978 - val_loss: 0.0481 - val_accuracy: 0.9917\n",
            "Epoch 35/500\n",
            "1875/1875 [==============================] - 13s 7ms/step - loss: 0.0068 - accuracy: 0.9980 - val_loss: 0.0544 - val_accuracy: 0.9925\n",
            "Epoch 36/500\n",
            "1875/1875 [==============================] - 13s 7ms/step - loss: 0.0060 - accuracy: 0.9981 - val_loss: 0.0518 - val_accuracy: 0.9921\n",
            "Epoch 37/500\n",
            "1875/1875 [==============================] - 12s 7ms/step - loss: 0.0083 - accuracy: 0.9977 - val_loss: 0.0432 - val_accuracy: 0.9926\n",
            "Epoch 38/500\n",
            "1875/1875 [==============================] - 12s 7ms/step - loss: 0.0058 - accuracy: 0.9986 - val_loss: 0.0516 - val_accuracy: 0.9927\n",
            "Epoch 39/500\n",
            "1875/1875 [==============================] - 13s 7ms/step - loss: 0.0066 - accuracy: 0.9983 - val_loss: 0.0445 - val_accuracy: 0.9936\n",
            "Epoch 40/500\n",
            "1875/1875 [==============================] - 13s 7ms/step - loss: 0.0068 - accuracy: 0.9980 - val_loss: 0.0601 - val_accuracy: 0.9922\n",
            "Epoch 41/500\n",
            "1875/1875 [==============================] - 13s 7ms/step - loss: 0.0060 - accuracy: 0.9983 - val_loss: 0.0545 - val_accuracy: 0.9926\n",
            "Epoch 42/500\n",
            "1875/1875 [==============================] - 12s 7ms/step - loss: 0.0070 - accuracy: 0.9982 - val_loss: 0.0543 - val_accuracy: 0.9921\n",
            "Epoch 43/500\n",
            "1875/1875 [==============================] - 12s 7ms/step - loss: 0.0064 - accuracy: 0.9982 - val_loss: 0.0570 - val_accuracy: 0.9922\n",
            "Epoch 44/500\n",
            "1875/1875 [==============================] - 12s 7ms/step - loss: 0.0074 - accuracy: 0.9979 - val_loss: 0.0422 - val_accuracy: 0.9928\n",
            "Epoch 45/500\n",
            "1875/1875 [==============================] - 12s 7ms/step - loss: 0.0035 - accuracy: 0.9988 - val_loss: 0.0724 - val_accuracy: 0.9921\n",
            "Epoch 46/500\n",
            "1875/1875 [==============================] - 13s 7ms/step - loss: 0.0085 - accuracy: 0.9980 - val_loss: 0.0448 - val_accuracy: 0.9921\n",
            "Epoch 47/500\n",
            "1875/1875 [==============================] - 12s 7ms/step - loss: 0.0064 - accuracy: 0.9983 - val_loss: 0.0625 - val_accuracy: 0.9930\n",
            "Epoch 48/500\n",
            "1875/1875 [==============================] - 12s 7ms/step - loss: 0.0069 - accuracy: 0.9984 - val_loss: 0.0430 - val_accuracy: 0.9928\n",
            "Epoch 49/500\n",
            "1875/1875 [==============================] - 13s 7ms/step - loss: 0.0050 - accuracy: 0.9987 - val_loss: 0.0487 - val_accuracy: 0.9942\n",
            "Epoch 50/500\n",
            "1875/1875 [==============================] - 13s 7ms/step - loss: 0.0067 - accuracy: 0.9983 - val_loss: 0.0517 - val_accuracy: 0.9916\n",
            "Epoch 51/500\n",
            "1875/1875 [==============================] - 12s 7ms/step - loss: 0.0054 - accuracy: 0.9987 - val_loss: 0.0529 - val_accuracy: 0.9929\n",
            "Epoch 52/500\n",
            "1875/1875 [==============================] - 13s 7ms/step - loss: 0.0054 - accuracy: 0.9985 - val_loss: 0.0569 - val_accuracy: 0.9923\n",
            "Epoch 53/500\n",
            "1875/1875 [==============================] - 13s 7ms/step - loss: 0.0067 - accuracy: 0.9982 - val_loss: 0.0543 - val_accuracy: 0.9922\n",
            "Epoch 54/500\n",
            "1875/1875 [==============================] - 12s 7ms/step - loss: 0.0059 - accuracy: 0.9984 - val_loss: 0.0622 - val_accuracy: 0.9921\n",
            "Epoch 55/500\n",
            "1875/1875 [==============================] - 12s 7ms/step - loss: 0.0055 - accuracy: 0.9985 - val_loss: 0.0551 - val_accuracy: 0.9916\n",
            "Epoch 56/500\n",
            "1875/1875 [==============================] - 12s 7ms/step - loss: 0.0053 - accuracy: 0.9984 - val_loss: 0.0562 - val_accuracy: 0.9927\n",
            "Epoch 57/500\n",
            "1875/1875 [==============================] - 13s 7ms/step - loss: 0.0060 - accuracy: 0.9985 - val_loss: 0.0460 - val_accuracy: 0.9928\n",
            "Epoch 58/500\n",
            "1875/1875 [==============================] - 12s 7ms/step - loss: 0.0045 - accuracy: 0.9988 - val_loss: 0.0713 - val_accuracy: 0.9928\n",
            "Epoch 59/500\n",
            "1875/1875 [==============================] - 13s 7ms/step - loss: 0.0061 - accuracy: 0.9984 - val_loss: 0.0620 - val_accuracy: 0.9928\n",
            "Epoch 00059: early stopping\n"
          ],
          "name": "stdout"
        }
      ]
    },
    {
      "cell_type": "code",
      "metadata": {
        "colab": {
          "base_uri": "https://localhost:8080/"
        },
        "id": "n6knnVBasoVF",
        "outputId": "9e20acb6-9ccf-4c6a-d2fc-2c6188ee8613"
      },
      "source": [
        "c2f3.evaluate(X_test, y_test, batch_size =32)"
      ],
      "execution_count": 31,
      "outputs": [
        {
          "output_type": "stream",
          "text": [
            "313/313 [==============================] - 1s 4ms/step - loss: 0.0620 - accuracy: 0.9928\n"
          ],
          "name": "stdout"
        },
        {
          "output_type": "execute_result",
          "data": {
            "text/plain": [
              "[0.0620075985789299, 0.9927999973297119]"
            ]
          },
          "metadata": {
            "tags": []
          },
          "execution_count": 31
        }
      ]
    },
    {
      "cell_type": "markdown",
      "metadata": {
        "id": "mG7yUGwDsuzX"
      },
      "source": [
        "## Graph of loss and accuracy\n",
        "- model: C2F3"
      ]
    },
    {
      "cell_type": "code",
      "metadata": {
        "colab": {
          "base_uri": "https://localhost:8080/",
          "height": 313
        },
        "id": "TTnlLqVssz7w",
        "outputId": "3bbeb996-d8df-4b9b-f380-00eb5facf7d5"
      },
      "source": [
        "# Plot loass and accuracy\n",
        "# Plot training & validation accuracy values\n",
        "\n",
        "epochs = 59\n",
        "loss_list = [100 * i for i in hist.history['loss']]\n",
        "acc_list = [100 * i for i in hist.history['accuracy']]\n",
        "plt.plot(range(1,epochs+1),loss_list) \n",
        "plt.plot(range(1,epochs+1),acc_list) \n",
        "plt.title('Model loss & accuracy')\n",
        "plt.ylabel('Accuracy (%)')\n",
        "plt.xlabel('Epoch')\n",
        "plt.legend(['loss', 'accuracy'], loc='center left')"
      ],
      "execution_count": 35,
      "outputs": [
        {
          "output_type": "execute_result",
          "data": {
            "text/plain": [
              "<matplotlib.legend.Legend at 0x7f635479e048>"
            ]
          },
          "metadata": {
            "tags": []
          },
          "execution_count": 35
        },
        {
          "output_type": "display_data",
          "data": {
            "image/png": "[encoded data removed]",
            "text/plain": [
              "<Figure size 432x288 with 1 Axes>"
            ]
          },
          "metadata": {
            "tags": [],
            "needs_background": "light"
          }
        }
      ]
    },
    {
      "cell_type": "code",
      "metadata": {
        "id": "AHokhYlgs3JP"
      },
      "source": [
        "vloss_list = [100 * i for i in hist.history['val_loss']]\n",
        "vacc_list = [100 * i for i in hist.history['val_accuracy']]"
      ],
      "execution_count": 36,
      "outputs": []
    },
    {
      "cell_type": "code",
      "metadata": {
        "colab": {
          "base_uri": "https://localhost:8080/",
          "height": 313
        },
        "id": "uC7jRygqs59A",
        "outputId": "bc2e8d00-32a2-46d5-a1c1-31bdf2892753"
      },
      "source": [
        "plt.plot(range(1,epochs+1),vloss_list)  \n",
        "plt.plot(range(1,epochs+1),vacc_list)  \n",
        "plt.title('Model val_loss & val_accuracy')\n",
        "plt.ylabel('Accuracy (%)')\n",
        "plt.xlabel('Epoch')\n",
        "plt.legend(['val_loss', 'val_accuracy'], loc='center left')"
      ],
      "execution_count": 37,
      "outputs": [
        {
          "output_type": "execute_result",
          "data": {
            "text/plain": [
              "<matplotlib.legend.Legend at 0x7f6354764550>"
            ]
          },
          "metadata": {
            "tags": []
          },
          "execution_count": 37
        },
        {
          "output_type": "display_data",
          "data": {
            "image/png": "[encoded data removed]",
            "text/plain": [
              "<Figure size 432x288 with 1 Axes>"
            ]
          },
          "metadata": {
            "tags": [],
            "needs_background": "light"
          }
        }
      ]
    },
    {
      "cell_type": "code",
      "metadata": {
        "colab": {
          "base_uri": "https://localhost:8080/"
        },
        "id": "-NeEOCvks9Qr",
        "outputId": "2f515189-f2c3-4bcc-dd85-431d801846e0"
      },
      "source": [
        "np.argmax(np.array(vacc_list))"
      ],
      "execution_count": 38,
      "outputs": [
        {
          "output_type": "execute_result",
          "data": {
            "text/plain": [
              "8"
            ]
          },
          "metadata": {
            "tags": []
          },
          "execution_count": 38
        }
      ]
    },
    {
      "cell_type": "code",
      "metadata": {
        "colab": {
          "base_uri": "https://localhost:8080/"
        },
        "id": "9sIcgSd3tAq3",
        "outputId": "cb0d2067-6d12-404c-f776-62bdfc68ea83"
      },
      "source": [
        "vacc_list[np.argmax(np.array(vacc_list))]"
      ],
      "execution_count": 39,
      "outputs": [
        {
          "output_type": "execute_result",
          "data": {
            "text/plain": [
              "99.44000244140625"
            ]
          },
          "metadata": {
            "tags": []
          },
          "execution_count": 39
        }
      ]
    },
    {
      "cell_type": "code",
      "metadata": {
        "colab": {
          "base_uri": "https://localhost:8080/",
          "height": 313
        },
        "id": "nZdq8xRqtEN5",
        "outputId": "2302030e-951f-4078-fd51-ce18ce14b38d"
      },
      "source": [
        "plt.plot(range(1,epochs+1),acc_list)  \n",
        "plt.plot(range(1,epochs+1),vacc_list)  \n",
        "plt.title('accuracy vs. val_accuracy')\n",
        "plt.ylabel('Accuracy (%)')\n",
        "plt.xlabel('Epoch')\n",
        "plt.legend(['accuracy','val_accuracy'], loc='center')\n",
        "plt.plot(np.argmax(np.array(vacc_list))+1,vacc_list[np.argmax(np.array(vacc_list))], 'r*') "
      ],
      "execution_count": 40,
      "outputs": [
        {
          "output_type": "execute_result",
          "data": {
            "text/plain": [
              "[<matplotlib.lines.Line2D at 0x7f6354691320>]"
            ]
          },
          "metadata": {
            "tags": []
          },
          "execution_count": 40
        },
        {
          "output_type": "display_data",
          "data": {
            "image/png": "[encoded data removed]",
            "text/plain": [
              "<Figure size 432x288 with 1 Axes>"
            ]
          },
          "metadata": {
            "tags": [],
            "needs_background": "light"
          }
        }
      ]
    },
    {
      "cell_type": "markdown",
      "metadata": {
        "id": "nUrmcM8LtLRw"
      },
      "source": [
        "## 최적화된 모형 불러와서 이용\n",
        "\n",
        "- callbacks.ModelCheckpoint를 이용해서 트레이닝 중 val_accuacy가 가장 높은 모형을 가중치와 함께 hdf5 형식으로 저장\n",
        "- load 명령으로 불러 사용\n",
        "\n",
        "> mnist_c2f3_best_weights.009-0.9944.hdf5"
      ]
    },
    {
      "cell_type": "code",
      "metadata": {
        "colab": {
          "base_uri": "https://localhost:8080/"
        },
        "id": "nfj2WIqItSrI",
        "outputId": "8ff4fdf2-a772-4913-8d14-d8523d12cca5"
      },
      "source": [
        "from keras.models import load_model\n",
        "\n",
        "model = load_model('mnist_c2f3_best_weights.009-0.9944.hdf5')\n",
        "model.evaluate(X_test, y_test, batch_size=32)"
      ],
      "execution_count": 41,
      "outputs": [
        {
          "output_type": "stream",
          "text": [
            "313/313 [==============================] - 1s 3ms/step - loss: 0.0218 - accuracy: 0.9944\n"
          ],
          "name": "stdout"
        },
        {
          "output_type": "execute_result",
          "data": {
            "text/plain": [
              "[0.021802011877298355, 0.9944000244140625]"
            ]
          },
          "metadata": {
            "tags": []
          },
          "execution_count": 41
        }
      ]
    },
    {
      "cell_type": "markdown",
      "metadata": {
        "id": "GkTGIOFz0TDK"
      },
      "source": [
        "***"
      ]
    },
    {
      "cell_type": "markdown",
      "metadata": {
        "id": "PHiuK2xu0WSE"
      },
      "source": [
        "## [DIY] fashion mnist model의 best model을 구하시오.\n",
        "\n",
        "- github의 \"py-tensorflow\" 폴더에 tf2_7_fmnist_CNN_best.ipynb 파일을 올리시오. \n",
        "- github의 \"py-tensorflow/st-code/model\" 폴더에 best model(hdf5 파일)을 올리시오. \n",
        "\n",
        "> fashion mnist 데이터 로딩\n",
        "```\n",
        "from keras.datasets import fashion_mnist\n",
        "(X_train0, y_train0), (X_test0, y_test0) = fashion_mnist.load_data()\n",
        "```"
      ]
    }
  ]
}