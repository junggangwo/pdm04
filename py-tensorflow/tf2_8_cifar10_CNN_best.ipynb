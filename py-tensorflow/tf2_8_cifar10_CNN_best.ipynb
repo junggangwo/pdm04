{
  "nbformat": 4,
  "nbformat_minor": 0,
  "metadata": {
    "colab": {
      "name": "tf2_8_cifar10_CNN_best.ipynb",
      "provenance": [],
      "collapsed_sections": [],
      "include_colab_link": true
    },
    "kernelspec": {
      "name": "python3",
      "display_name": "Python 3"
    },
    "accelerator": "GPU"
  },
  "cells": [
    {
      "cell_type": "markdown",
      "metadata": {
        "id": "view-in-github",
        "colab_type": "text"
      },
      "source": [
        "<a href=\"https://colab.research.google.com/github/kimchaeyoung-student/pdm04/blob/master/py-tensorflow/tf2_8_cifar10_CNN_best.ipynb\" target=\"_parent\"><img src=\"https://colab.research.google.com/assets/colab-badge.svg\" alt=\"Open In Colab\"/></a>"
      ]
    },
    {
      "cell_type": "markdown",
      "metadata": {
        "id": "rswfCVLZ-QW0"
      },
      "source": [
        "# **CNN model of cifar-10 dataset**\n",
        "- Conv2D + FCN\n",
        "    * Conv2D : 2차원 합성곱 필터링 + 풀링(Pooling)\n",
        "    * FCN : 1차원 완전연결신경망\n",
        "\n",
        "***\n",
        "- ## Traget: Find the best model\n",
        "***\n",
        "\n",
        "![mnist_NN_2_layers](https://img1.daumcdn.net/thumb/R1280x0/?scode=mtistory2&fname=https%3A%2F%2Fblog.kakaocdn.net%2Fdn%2FdJp5Z6%2FbtqAPebnF3x%2FQCe5vVcskhmxe964bGz4iK%2Fimg.png)\n",
        "\n",
        "(source: https://img1.daumcdn.net/thumb/R1280x0/?scode=mtistory2&fname=https%3A%2F%2Fblog.kakaocdn.net%2Fdn%2FdJp5Z6%2FbtqAPebnF3x%2FQCe5vVcskhmxe964bGz4iK%2Fimg.png)"
      ]
    },
    {
      "cell_type": "markdown",
      "metadata": {
        "id": "ISueys4bNHd1"
      },
      "source": [
        "### CIFAR-10 Dataset (CIFAR: Canadian Institute For Advanced Research)\n",
        "> https://www.cs.toronto.edu/~kriz/cifar.html\n",
        "\n",
        "- (50000, 32, 32, 3), train\n",
        "- (10000, 32, 32, 3), test\n",
        "- color photographs of objects from 10 classes, such as frogs, birds, cats, ships, etc\n",
        "> class names\n",
        "> - ['airplane', 'automobile', 'bird', 'cat', 'deer', 'dog', 'frog', 'horse', 'ship', 'truck']\n",
        "\n",
        "- 참고 문헌  \n",
        "\n",
        "> https://becominghuman.ai/cifar-10-image-classification-fd2ace47c5e8  \n",
        "\n",
        "> https://becominghuman.ai/convolutional-neural-networks-cnns-convnets-for-visual-recognition-cae879a70f1a\n",
        "\n",
        "> https://towardsdatascience.com/cifar-10-image-classification-in-tensorflow-5b501f7dc77c"
      ]
    },
    {
      "cell_type": "markdown",
      "metadata": {
        "id": "1yhvkxS_HhpK"
      },
      "source": [
        "## Search the best model of C2F2\n",
        "- callback\n",
        "    - Early stopping\n",
        "    - model checkpoint"
      ]
    },
    {
      "cell_type": "code",
      "metadata": {
        "id": "8GgGzPXPVyfa",
        "colab": {
          "base_uri": "https://localhost:8080/"
        },
        "outputId": "0e571fcd-445b-4a55-f75c-351cf91b15ac"
      },
      "source": [
        "import numpy as np\n",
        "import tensorflow as tf\n",
        "from tensorflow import keras\n",
        "import pandas as pd\n",
        "import matplotlib.pyplot as plt\n",
        "%matplotlib inline\n",
        "\n",
        "tf.random.set_seed(0)\n",
        "\n",
        "print(tf.__version__)"
      ],
      "execution_count": 1,
      "outputs": [
        {
          "output_type": "stream",
          "text": [
            "2.3.0\n"
          ],
          "name": "stdout"
        }
      ]
    },
    {
      "cell_type": "code",
      "metadata": {
        "id": "nMZqMpIvIlwf"
      },
      "source": [
        "# import TF2 submodules\n",
        "from tensorflow.keras import layers, models, callbacks"
      ],
      "execution_count": 2,
      "outputs": []
    },
    {
      "cell_type": "markdown",
      "metadata": {
        "id": "-0IOOUM14Jk1"
      },
      "source": [
        "## **데이터 로딩, 정규화**"
      ]
    },
    {
      "cell_type": "code",
      "metadata": {
        "id": "N1ogJ7I64Fz-",
        "colab": {
          "base_uri": "https://localhost:8080/"
        },
        "outputId": "f41bf543-1baa-4e29-cdcf-4011a6769dce"
      },
      "source": [
        "from keras.datasets import cifar10\n",
        "\n",
        "(X_train0, y_train0), (X_test0, y_test0) = cifar10.load_data()\n",
        "\n",
        "# Reshape\n",
        "# X_train = X_train0.reshape(60000,28,28,1)\n",
        "# X_test = X_test0.reshape(10000,28,28,1)\n",
        "\n",
        "# Normalization\n",
        "X_train, X_test = X_train0/255.0, X_test0/255.0 # 정규화\n",
        "\n",
        "print(\"X_train={0}\".format(X_train.shape))\n",
        "print(\"y_train={0}\".format(y_train0.shape)) \n",
        "print(\"X_test={0}\".format(X_test.shape))\n",
        "print(\"y_test={0}\".format(y_test0.shape))"
      ],
      "execution_count": 3,
      "outputs": [
        {
          "output_type": "stream",
          "text": [
            "Downloading data from https://www.cs.toronto.edu/~kriz/cifar-10-python.tar.gz\n",
            "170500096/170498071 [==============================] - 2s 0us/step\n",
            "X_train=(50000, 32, 32, 3)\n",
            "y_train=(50000, 1)\n",
            "X_test=(10000, 32, 32, 3)\n",
            "y_test=(10000, 1)\n"
          ],
          "name": "stdout"
        }
      ]
    },
    {
      "cell_type": "code",
      "metadata": {
        "id": "F46-QZqJHiQ6",
        "colab": {
          "base_uri": "https://localhost:8080/"
        },
        "outputId": "be2f6661-ae52-4874-b6f2-9ae211eff625"
      },
      "source": [
        "# One-Hot-Encoding\n",
        "# Use function to_categorical() to do One-Hot-Encoding\n",
        "# tf.keras.utils.to_categorical\n",
        "from keras.utils import to_categorical\n",
        "\n",
        "y_train = to_categorical(y_train0, 10)\n",
        "y_test = to_categorical(y_test0, 10)\n",
        "y_train.shape,y_test.shape"
      ],
      "execution_count": 4,
      "outputs": [
        {
          "output_type": "execute_result",
          "data": {
            "text/plain": [
              "((50000, 10), (10000, 10))"
            ]
          },
          "metadata": {
            "tags": []
          },
          "execution_count": 4
        }
      ]
    },
    {
      "cell_type": "code",
      "metadata": {
        "id": "eZ3OfP5PkEkL",
        "colab": {
          "base_uri": "https://localhost:8080/"
        },
        "outputId": "6aa03f4f-51f1-46cc-806d-713096cb9114"
      },
      "source": [
        "# y_train0.shape vs. y_train.shape\n",
        "y_train0.shape, y_train.shape"
      ],
      "execution_count": 5,
      "outputs": [
        {
          "output_type": "execute_result",
          "data": {
            "text/plain": [
              "((50000, 1), (50000, 10))"
            ]
          },
          "metadata": {
            "tags": []
          },
          "execution_count": 5
        }
      ]
    },
    {
      "cell_type": "markdown",
      "metadata": {
        "id": "5z7SozStigmF"
      },
      "source": [
        "### Display images in CIFAR-10\n",
        "- one random image\n",
        "- 10 representative images"
      ]
    },
    {
      "cell_type": "code",
      "metadata": {
        "id": "IK7XT3XoirSL",
        "colab": {
          "base_uri": "https://localhost:8080/",
          "height": 286
        },
        "outputId": "927e80e5-1805-4239-9d08-0de386a8de7b"
      },
      "source": [
        "# Code here!\n",
        "# display one random image from the training set:\n",
        "class_names =  ['airplane', 'automobile', 'bird', 'cat', 'deer', 'dog', 'frog', 'horse', 'ship', 'truck']\n",
        "\n",
        "idx = np.random.randint(0, X_train0.shape[0])\n",
        "print(idx)\n",
        "image = X_train0[idx]\n",
        "plt.imshow(image) #, cmap=plt.get_cmap('gray'))\n",
        "plt.title(class_names[y_train0[idx][0]])\n",
        "plt.xticks([])\n",
        "plt.yticks([])\n",
        "plt.show()"
      ],
      "execution_count": 7,
      "outputs": [
        {
          "output_type": "stream",
          "text": [
            "41005\n"
          ],
          "name": "stdout"
        },
        {
          "output_type": "display_data",
          "data": {
            "image/png": "[encoded data removed]",
            "text/plain": [
              "<Figure size 432x288 with 1 Axes>"
            ]
          },
          "metadata": {
            "tags": []
          }
        }
      ]
    },
    {
      "cell_type": "code",
      "metadata": {
        "id": "LzhD5pcukau7",
        "colab": {
          "base_uri": "https://localhost:8080/",
          "height": 325
        },
        "outputId": "95633044-89c1-4edc-9d80-15aee0172f9a"
      },
      "source": [
        "fig = plt.figure(figsize=(10,6))\n",
        "num0_9 = np.unique(y_train0, return_index=True)[1]\n",
        "images = X_train[num0_9]\n",
        "for i in range(10):\n",
        "    plt.subplot(2, 5, i+1)\n",
        "    # num0_9 = X_train0[y_train0 == i]\n",
        "    \n",
        "    # print(num0_9.shape)\n",
        "    # plt.imshow(num0_9[0]) \n",
        "    plt.imshow(images[i])\n",
        "    plt.title(\"Class %d\" % (i))\n",
        "    plt.xticks([])\n",
        "    plt.yticks([])"
      ],
      "execution_count": 8,
      "outputs": [
        {
          "output_type": "display_data",
          "data": {
            "image/png": "[encoded data removed]",
            "text/plain": [
              "<Figure size 720x432 with 10 Axes>"
            ]
          },
          "metadata": {
            "tags": []
          }
        }
      ]
    },
    {
      "cell_type": "markdown",
      "metadata": {
        "id": "55DYVfFXi0WR"
      },
      "source": [
        "# Design CNN"
      ]
    },
    {
      "cell_type": "markdown",
      "metadata": {
        "id": "iPcLIcUCcsiG"
      },
      "source": [
        "### import models, layers, callbacks\n",
        "- models: Sequential\n",
        "- layers: Conv2D, MaxPool2D, Flatten\n",
        "- callbacks: ModelCheckpoint, EarlyStopping"
      ]
    },
    {
      "cell_type": "code",
      "metadata": {
        "id": "NzqMC4Xtc3ZE"
      },
      "source": [
        "from keras.models import Sequential\n",
        "from keras.layers import Conv2D, MaxPool2D, Flatten\n",
        "from keras.callbacks import ModelCheckpoint, EarlyStopping"
      ],
      "execution_count": 9,
      "outputs": []
    },
    {
      "cell_type": "markdown",
      "metadata": {
        "id": "7Z6DJJUCei-s"
      },
      "source": [
        "## **CNN2 + FCN2**"
      ]
    },
    {
      "cell_type": "code",
      "metadata": {
        "id": "pV3NFglM7P65"
      },
      "source": [
        "c2f2 = keras.models.Sequential([ \n",
        "    Conv2D(input_shape=(32,32,3),kernel_size=(3,3),strides=(1,1),filters= 32,padding='same',activation='relu'),\n",
        "    MaxPool2D(pool_size=(2,2), strides=(2,2)), \n",
        "    Conv2D(kernel_size=(3,3),strides=(1,1),filters= 64,padding='same',activation='relu'),\n",
        "    MaxPool2D(pool_size=(2,2), strides=(2,2)),\n",
        "    Flatten(), \n",
        "    keras.layers.Dense(128, activation='relu'),  \n",
        "    keras.layers.Dropout(0.25), \n",
        "    keras.layers.Dense(10, activation='softmax')\n",
        "])\n",
        "\n",
        "c2f2.compile(optimizer='adam',\n",
        "              loss='categorical_crossentropy',\n",
        "              metrics=['accuracy']) "
      ],
      "execution_count": 10,
      "outputs": []
    },
    {
      "cell_type": "code",
      "metadata": {
        "id": "OGtCiKy57YkR",
        "colab": {
          "base_uri": "https://localhost:8080/"
        },
        "outputId": "d1a40ce3-65e1-4d53-8b71-32e4959c6267"
      },
      "source": [
        "c2f2.summary()"
      ],
      "execution_count": 11,
      "outputs": [
        {
          "output_type": "stream",
          "text": [
            "Model: \"sequential\"\n",
            "_________________________________________________________________\n",
            "Layer (type)                 Output Shape              Param #   \n",
            "=================================================================\n",
            "conv2d (Conv2D)              (None, 32, 32, 32)        896       \n",
            "_________________________________________________________________\n",
            "max_pooling2d (MaxPooling2D) (None, 16, 16, 32)        0         \n",
            "_________________________________________________________________\n",
            "conv2d_1 (Conv2D)            (None, 16, 16, 64)        18496     \n",
            "_________________________________________________________________\n",
            "max_pooling2d_1 (MaxPooling2 (None, 8, 8, 64)          0         \n",
            "_________________________________________________________________\n",
            "flatten (Flatten)            (None, 4096)              0         \n",
            "_________________________________________________________________\n",
            "dense (Dense)                (None, 128)               524416    \n",
            "_________________________________________________________________\n",
            "dropout (Dropout)            (None, 128)               0         \n",
            "_________________________________________________________________\n",
            "dense_1 (Dense)              (None, 10)                1290      \n",
            "=================================================================\n",
            "Total params: 545,098\n",
            "Trainable params: 545,098\n",
            "Non-trainable params: 0\n",
            "_________________________________________________________________\n"
          ],
          "name": "stdout"
        }
      ]
    },
    {
      "cell_type": "code",
      "metadata": {
        "id": "zw_pQPBdJmU8"
      },
      "source": [
        "cp_callback = callbacks.ModelCheckpoint(filepath=\"./cifar10_c2f2_best_weights.{epoch:03d}-{val_accuracy:.4f}.hdf5\", \n",
        "                              monitor='val_accuracy', verbose=0, save_best_only=True)\n",
        "es_callback = callbacks.EarlyStopping(monitor='val_accuracy', \n",
        "                            mode='max', verbose=1, patience=25)    # patience=10, 25, 50"
      ],
      "execution_count": 12,
      "outputs": []
    },
    {
      "cell_type": "code",
      "metadata": {
        "id": "94GWWQt-7eRS",
        "colab": {
          "base_uri": "https://localhost:8080/"
        },
        "outputId": "992476ba-8bd7-4a4f-9c6d-5586ca23b63c"
      },
      "source": [
        "hist = c2f2.fit(X_train, y_train, epochs = 500 , batch_size =32, \n",
        "         callbacks=[cp_callback, es_callback], \n",
        "         validation_data=(X_test,y_test))"
      ],
      "execution_count": 13,
      "outputs": [
        {
          "output_type": "stream",
          "text": [
            "Epoch 1/500\n",
            "1563/1563 [==============================] - 6s 4ms/step - loss: 1.5118 - accuracy: 0.4547 - val_loss: 1.2350 - val_accuracy: 0.5629\n",
            "Epoch 2/500\n",
            "1563/1563 [==============================] - 6s 4ms/step - loss: 1.1795 - accuracy: 0.5819 - val_loss: 1.0494 - val_accuracy: 0.6340\n",
            "Epoch 3/500\n",
            "1563/1563 [==============================] - 6s 4ms/step - loss: 1.0478 - accuracy: 0.6297 - val_loss: 0.9908 - val_accuracy: 0.6569\n",
            "Epoch 4/500\n",
            "1563/1563 [==============================] - 6s 4ms/step - loss: 0.9641 - accuracy: 0.6606 - val_loss: 0.9265 - val_accuracy: 0.6748\n",
            "Epoch 5/500\n",
            "1563/1563 [==============================] - 6s 4ms/step - loss: 0.8980 - accuracy: 0.6832 - val_loss: 0.8724 - val_accuracy: 0.6917\n",
            "Epoch 6/500\n",
            "1563/1563 [==============================] - 6s 4ms/step - loss: 0.8363 - accuracy: 0.7018 - val_loss: 0.8561 - val_accuracy: 0.6989\n",
            "Epoch 7/500\n",
            "1563/1563 [==============================] - 6s 4ms/step - loss: 0.7834 - accuracy: 0.7197 - val_loss: 0.8555 - val_accuracy: 0.7041\n",
            "Epoch 8/500\n",
            "1563/1563 [==============================] - 6s 4ms/step - loss: 0.7276 - accuracy: 0.7409 - val_loss: 0.8515 - val_accuracy: 0.7089\n",
            "Epoch 9/500\n",
            "1563/1563 [==============================] - 6s 4ms/step - loss: 0.6825 - accuracy: 0.7537 - val_loss: 0.8586 - val_accuracy: 0.7106\n",
            "Epoch 10/500\n",
            "1563/1563 [==============================] - 5s 3ms/step - loss: 0.6445 - accuracy: 0.7694 - val_loss: 0.8636 - val_accuracy: 0.7092\n",
            "Epoch 11/500\n",
            "1563/1563 [==============================] - 6s 4ms/step - loss: 0.5956 - accuracy: 0.7853 - val_loss: 0.8945 - val_accuracy: 0.7032\n",
            "Epoch 12/500\n",
            "1563/1563 [==============================] - 6s 4ms/step - loss: 0.5592 - accuracy: 0.7975 - val_loss: 0.8873 - val_accuracy: 0.7134\n",
            "Epoch 13/500\n",
            "1563/1563 [==============================] - 6s 4ms/step - loss: 0.5246 - accuracy: 0.8077 - val_loss: 0.9356 - val_accuracy: 0.7080\n",
            "Epoch 14/500\n",
            "1563/1563 [==============================] - 6s 4ms/step - loss: 0.4866 - accuracy: 0.8236 - val_loss: 0.9429 - val_accuracy: 0.7121\n",
            "Epoch 15/500\n",
            "1563/1563 [==============================] - 5s 3ms/step - loss: 0.4647 - accuracy: 0.8314 - val_loss: 0.9824 - val_accuracy: 0.7041\n",
            "Epoch 16/500\n",
            "1563/1563 [==============================] - 6s 4ms/step - loss: 0.4306 - accuracy: 0.8423 - val_loss: 0.9920 - val_accuracy: 0.7076\n",
            "Epoch 17/500\n",
            "1563/1563 [==============================] - 6s 4ms/step - loss: 0.4099 - accuracy: 0.8493 - val_loss: 1.0174 - val_accuracy: 0.7041\n",
            "Epoch 18/500\n",
            "1563/1563 [==============================] - 6s 4ms/step - loss: 0.3895 - accuracy: 0.8567 - val_loss: 1.0959 - val_accuracy: 0.6981\n",
            "Epoch 19/500\n",
            "1563/1563 [==============================] - 6s 4ms/step - loss: 0.3689 - accuracy: 0.8625 - val_loss: 1.0835 - val_accuracy: 0.7051\n",
            "Epoch 20/500\n",
            "1563/1563 [==============================] - 6s 4ms/step - loss: 0.3502 - accuracy: 0.8715 - val_loss: 1.1277 - val_accuracy: 0.7071\n",
            "Epoch 21/500\n",
            "1563/1563 [==============================] - 6s 4ms/step - loss: 0.3353 - accuracy: 0.8749 - val_loss: 1.1592 - val_accuracy: 0.7028\n",
            "Epoch 22/500\n",
            "1563/1563 [==============================] - 6s 4ms/step - loss: 0.3272 - accuracy: 0.8804 - val_loss: 1.2061 - val_accuracy: 0.7023\n",
            "Epoch 23/500\n",
            "1563/1563 [==============================] - 5s 3ms/step - loss: 0.3145 - accuracy: 0.8846 - val_loss: 1.2114 - val_accuracy: 0.7085\n",
            "Epoch 24/500\n",
            "1563/1563 [==============================] - 6s 4ms/step - loss: 0.2953 - accuracy: 0.8905 - val_loss: 1.2631 - val_accuracy: 0.7009\n",
            "Epoch 25/500\n",
            "1563/1563 [==============================] - 6s 4ms/step - loss: 0.2913 - accuracy: 0.8924 - val_loss: 1.2700 - val_accuracy: 0.7033\n",
            "Epoch 26/500\n",
            "1563/1563 [==============================] - 6s 4ms/step - loss: 0.2786 - accuracy: 0.8982 - val_loss: 1.3628 - val_accuracy: 0.7055\n",
            "Epoch 27/500\n",
            "1563/1563 [==============================] - 6s 4ms/step - loss: 0.2712 - accuracy: 0.9002 - val_loss: 1.3279 - val_accuracy: 0.7000\n",
            "Epoch 28/500\n",
            "1563/1563 [==============================] - 5s 4ms/step - loss: 0.2624 - accuracy: 0.9036 - val_loss: 1.3693 - val_accuracy: 0.7020\n",
            "Epoch 29/500\n",
            "1563/1563 [==============================] - 5s 3ms/step - loss: 0.2627 - accuracy: 0.9030 - val_loss: 1.3744 - val_accuracy: 0.7055\n",
            "Epoch 30/500\n",
            "1563/1563 [==============================] - 6s 4ms/step - loss: 0.2504 - accuracy: 0.9073 - val_loss: 1.3892 - val_accuracy: 0.7044\n",
            "Epoch 31/500\n",
            "1563/1563 [==============================] - 6s 4ms/step - loss: 0.2376 - accuracy: 0.9127 - val_loss: 1.4729 - val_accuracy: 0.7011\n",
            "Epoch 32/500\n",
            "1563/1563 [==============================] - 6s 4ms/step - loss: 0.2435 - accuracy: 0.9108 - val_loss: 1.4450 - val_accuracy: 0.7005\n",
            "Epoch 33/500\n",
            "1563/1563 [==============================] - 6s 4ms/step - loss: 0.2311 - accuracy: 0.9166 - val_loss: 1.4625 - val_accuracy: 0.7064\n",
            "Epoch 34/500\n",
            "1563/1563 [==============================] - 5s 3ms/step - loss: 0.2276 - accuracy: 0.9165 - val_loss: 1.5045 - val_accuracy: 0.6992\n",
            "Epoch 35/500\n",
            "1563/1563 [==============================] - 6s 4ms/step - loss: 0.2222 - accuracy: 0.9202 - val_loss: 1.5610 - val_accuracy: 0.6976\n",
            "Epoch 36/500\n",
            "1563/1563 [==============================] - 5s 4ms/step - loss: 0.2201 - accuracy: 0.9200 - val_loss: 1.6235 - val_accuracy: 0.6968\n",
            "Epoch 37/500\n",
            "1563/1563 [==============================] - 6s 4ms/step - loss: 0.2123 - accuracy: 0.9228 - val_loss: 1.5722 - val_accuracy: 0.7046\n",
            "Epoch 00037: early stopping\n"
          ],
          "name": "stdout"
        }
      ]
    },
    {
      "cell_type": "code",
      "metadata": {
        "id": "0-7is2U49A6Z",
        "colab": {
          "base_uri": "https://localhost:8080/"
        },
        "outputId": "c10e4bc3-328b-46fa-9aa8-817258b2c543"
      },
      "source": [
        "c2f2.evaluate(X_test, y_test, batch_size =32)"
      ],
      "execution_count": 14,
      "outputs": [
        {
          "output_type": "stream",
          "text": [
            "313/313 [==============================] - 1s 3ms/step - loss: 1.5722 - accuracy: 0.7046\n"
          ],
          "name": "stdout"
        },
        {
          "output_type": "execute_result",
          "data": {
            "text/plain": [
              "[1.5722357034683228, 0.7045999765396118]"
            ]
          },
          "metadata": {
            "tags": []
          },
          "execution_count": 14
        }
      ]
    },
    {
      "cell_type": "markdown",
      "metadata": {
        "id": "SUJxRQtafihM"
      },
      "source": [
        "## **CNN2 + FCN3**"
      ]
    },
    {
      "cell_type": "code",
      "metadata": {
        "id": "Nl5CyAymAB34"
      },
      "source": [
        "c2f3 = keras.models.Sequential([ \n",
        "    Conv2D(input_shape=(32,32,3),kernel_size=(3,3),strides=(1,1),filters= 32,padding='same',activation='relu'),\n",
        "    MaxPool2D(pool_size=(2,2), strides=(2,2)), \n",
        "    Conv2D(kernel_size=(3,3),strides=(1,1),filters= 64,padding='same',activation='relu'),\n",
        "    MaxPool2D(pool_size=(2,2), strides=(2,2)),\n",
        "    Flatten(), \n",
        "    keras.layers.Dense(128, activation='relu'),  \n",
        "    keras.layers.Dropout(0.25), \n",
        "    keras.layers.Dense(64, activation='relu'),  \n",
        "    keras.layers.Dropout(0.25), \n",
        "    keras.layers.Dense(10, activation='softmax')\n",
        "])\n",
        "\n",
        "c2f3.compile(optimizer='adam',\n",
        "              loss='categorical_crossentropy',\n",
        "              metrics=['accuracy']) "
      ],
      "execution_count": 15,
      "outputs": []
    },
    {
      "cell_type": "code",
      "metadata": {
        "id": "gYxuGW_2ANL8",
        "colab": {
          "base_uri": "https://localhost:8080/"
        },
        "outputId": "63e3cd71-7e81-471f-c6b1-d7e303582412"
      },
      "source": [
        "c2f3.summary()"
      ],
      "execution_count": 16,
      "outputs": [
        {
          "output_type": "stream",
          "text": [
            "Model: \"sequential_1\"\n",
            "_________________________________________________________________\n",
            "Layer (type)                 Output Shape              Param #   \n",
            "=================================================================\n",
            "conv2d_2 (Conv2D)            (None, 32, 32, 32)        896       \n",
            "_________________________________________________________________\n",
            "max_pooling2d_2 (MaxPooling2 (None, 16, 16, 32)        0         \n",
            "_________________________________________________________________\n",
            "conv2d_3 (Conv2D)            (None, 16, 16, 64)        18496     \n",
            "_________________________________________________________________\n",
            "max_pooling2d_3 (MaxPooling2 (None, 8, 8, 64)          0         \n",
            "_________________________________________________________________\n",
            "flatten_1 (Flatten)          (None, 4096)              0         \n",
            "_________________________________________________________________\n",
            "dense_2 (Dense)              (None, 128)               524416    \n",
            "_________________________________________________________________\n",
            "dropout_1 (Dropout)          (None, 128)               0         \n",
            "_________________________________________________________________\n",
            "dense_3 (Dense)              (None, 64)                8256      \n",
            "_________________________________________________________________\n",
            "dropout_2 (Dropout)          (None, 64)                0         \n",
            "_________________________________________________________________\n",
            "dense_4 (Dense)              (None, 10)                650       \n",
            "=================================================================\n",
            "Total params: 552,714\n",
            "Trainable params: 552,714\n",
            "Non-trainable params: 0\n",
            "_________________________________________________________________\n"
          ],
          "name": "stdout"
        }
      ]
    },
    {
      "cell_type": "code",
      "metadata": {
        "id": "KMsTuhO2x61z"
      },
      "source": [
        "cp_callback = callbacks.ModelCheckpoint(filepath=\"./cifar10_c2f3_best_weights.{epoch:03d}-{val_accuracy:.4f}.hdf5\", \n",
        "                              monitor='val_accuracy', verbose=0, save_best_only=True)\n",
        "es_callback = callbacks.EarlyStopping(monitor='val_accuracy', \n",
        "                            mode='max', verbose=1, patience=25)    # patience=10, 25, 50"
      ],
      "execution_count": 17,
      "outputs": []
    },
    {
      "cell_type": "code",
      "metadata": {
        "id": "lO1of4AOAQlV",
        "colab": {
          "base_uri": "https://localhost:8080/"
        },
        "outputId": "4231bebb-c2a7-403d-d831-9f2cb0dbc752"
      },
      "source": [
        "c2f3.fit(X_train, y_train, epochs=500, batch_size =32, \n",
        "         callbacks=[cp_callback, es_callback], \n",
        "         validation_data=(X_test,y_test))"
      ],
      "execution_count": 18,
      "outputs": [
        {
          "output_type": "stream",
          "text": [
            "Epoch 1/500\n",
            "1563/1563 [==============================] - 6s 4ms/step - loss: 1.5599 - accuracy: 0.4339 - val_loss: 1.2088 - val_accuracy: 0.5759\n",
            "Epoch 2/500\n",
            "1563/1563 [==============================] - 6s 4ms/step - loss: 1.2001 - accuracy: 0.5771 - val_loss: 1.1172 - val_accuracy: 0.6104\n",
            "Epoch 3/500\n",
            "1563/1563 [==============================] - 6s 4ms/step - loss: 1.0529 - accuracy: 0.6342 - val_loss: 0.9554 - val_accuracy: 0.6655\n",
            "Epoch 4/500\n",
            "1563/1563 [==============================] - 6s 4ms/step - loss: 0.9653 - accuracy: 0.6657 - val_loss: 0.9150 - val_accuracy: 0.6807\n",
            "Epoch 5/500\n",
            "1563/1563 [==============================] - 6s 4ms/step - loss: 0.8899 - accuracy: 0.6896 - val_loss: 0.9275 - val_accuracy: 0.6822\n",
            "Epoch 6/500\n",
            "1563/1563 [==============================] - 6s 4ms/step - loss: 0.8335 - accuracy: 0.7100 - val_loss: 0.8604 - val_accuracy: 0.6986\n",
            "Epoch 7/500\n",
            "1563/1563 [==============================] - 6s 4ms/step - loss: 0.7865 - accuracy: 0.7267 - val_loss: 0.8774 - val_accuracy: 0.6991\n",
            "Epoch 8/500\n",
            "1563/1563 [==============================] - 6s 4ms/step - loss: 0.7305 - accuracy: 0.7458 - val_loss: 0.8837 - val_accuracy: 0.7017\n",
            "Epoch 9/500\n",
            "1563/1563 [==============================] - 6s 4ms/step - loss: 0.7035 - accuracy: 0.7540 - val_loss: 0.8808 - val_accuracy: 0.7027\n",
            "Epoch 10/500\n",
            "1563/1563 [==============================] - 6s 4ms/step - loss: 0.6603 - accuracy: 0.7702 - val_loss: 0.8794 - val_accuracy: 0.7070\n",
            "Epoch 11/500\n",
            "1563/1563 [==============================] - 6s 4ms/step - loss: 0.6260 - accuracy: 0.7795 - val_loss: 0.8972 - val_accuracy: 0.7086\n",
            "Epoch 12/500\n",
            "1563/1563 [==============================] - 6s 4ms/step - loss: 0.6063 - accuracy: 0.7865 - val_loss: 0.9101 - val_accuracy: 0.7097\n",
            "Epoch 13/500\n",
            "1563/1563 [==============================] - 6s 4ms/step - loss: 0.5705 - accuracy: 0.7990 - val_loss: 0.9448 - val_accuracy: 0.7013\n",
            "Epoch 14/500\n",
            "1563/1563 [==============================] - 6s 4ms/step - loss: 0.5445 - accuracy: 0.8089 - val_loss: 0.9968 - val_accuracy: 0.7001\n",
            "Epoch 15/500\n",
            "1563/1563 [==============================] - 6s 4ms/step - loss: 0.5201 - accuracy: 0.8163 - val_loss: 0.9701 - val_accuracy: 0.7053\n",
            "Epoch 16/500\n",
            "1563/1563 [==============================] - 6s 4ms/step - loss: 0.4945 - accuracy: 0.8218 - val_loss: 0.9889 - val_accuracy: 0.7084\n",
            "Epoch 17/500\n",
            "1563/1563 [==============================] - 6s 4ms/step - loss: 0.4791 - accuracy: 0.8292 - val_loss: 1.0205 - val_accuracy: 0.7034\n",
            "Epoch 18/500\n",
            "1563/1563 [==============================] - 6s 4ms/step - loss: 0.4599 - accuracy: 0.8370 - val_loss: 1.0331 - val_accuracy: 0.6966\n",
            "Epoch 19/500\n",
            "1563/1563 [==============================] - 6s 4ms/step - loss: 0.4435 - accuracy: 0.8428 - val_loss: 1.0375 - val_accuracy: 0.7025\n",
            "Epoch 20/500\n",
            "1563/1563 [==============================] - 6s 4ms/step - loss: 0.4259 - accuracy: 0.8497 - val_loss: 1.0815 - val_accuracy: 0.7043\n",
            "Epoch 21/500\n",
            "1563/1563 [==============================] - 6s 4ms/step - loss: 0.4083 - accuracy: 0.8555 - val_loss: 1.1105 - val_accuracy: 0.7041\n",
            "Epoch 22/500\n",
            "1563/1563 [==============================] - 6s 4ms/step - loss: 0.3969 - accuracy: 0.8589 - val_loss: 1.0865 - val_accuracy: 0.7062\n",
            "Epoch 23/500\n",
            "1563/1563 [==============================] - 6s 4ms/step - loss: 0.3913 - accuracy: 0.8623 - val_loss: 1.1253 - val_accuracy: 0.7093\n",
            "Epoch 24/500\n",
            "1563/1563 [==============================] - 6s 4ms/step - loss: 0.3792 - accuracy: 0.8675 - val_loss: 1.0897 - val_accuracy: 0.7030\n",
            "Epoch 25/500\n",
            "1563/1563 [==============================] - 5s 4ms/step - loss: 0.3612 - accuracy: 0.8718 - val_loss: 1.1505 - val_accuracy: 0.7047\n",
            "Epoch 26/500\n",
            "1563/1563 [==============================] - 6s 4ms/step - loss: 0.3588 - accuracy: 0.8745 - val_loss: 1.1632 - val_accuracy: 0.7052\n",
            "Epoch 27/500\n",
            "1563/1563 [==============================] - 6s 4ms/step - loss: 0.3462 - accuracy: 0.8789 - val_loss: 1.1763 - val_accuracy: 0.7021\n",
            "Epoch 28/500\n",
            "1563/1563 [==============================] - 6s 4ms/step - loss: 0.3424 - accuracy: 0.8787 - val_loss: 1.2135 - val_accuracy: 0.6980\n",
            "Epoch 29/500\n",
            "1563/1563 [==============================] - 6s 4ms/step - loss: 0.3324 - accuracy: 0.8832 - val_loss: 1.2408 - val_accuracy: 0.6984\n",
            "Epoch 30/500\n",
            "1563/1563 [==============================] - 6s 4ms/step - loss: 0.3259 - accuracy: 0.8890 - val_loss: 1.2412 - val_accuracy: 0.7050\n",
            "Epoch 31/500\n",
            "1563/1563 [==============================] - 6s 4ms/step - loss: 0.3162 - accuracy: 0.8906 - val_loss: 1.2698 - val_accuracy: 0.7036\n",
            "Epoch 32/500\n",
            "1563/1563 [==============================] - 6s 4ms/step - loss: 0.3098 - accuracy: 0.8921 - val_loss: 1.2678 - val_accuracy: 0.7029\n",
            "Epoch 33/500\n",
            "1563/1563 [==============================] - 6s 4ms/step - loss: 0.2979 - accuracy: 0.8969 - val_loss: 1.2701 - val_accuracy: 0.6993\n",
            "Epoch 34/500\n",
            "1563/1563 [==============================] - 6s 4ms/step - loss: 0.2897 - accuracy: 0.8984 - val_loss: 1.3272 - val_accuracy: 0.7029\n",
            "Epoch 35/500\n",
            "1563/1563 [==============================] - 6s 4ms/step - loss: 0.2888 - accuracy: 0.8994 - val_loss: 1.3704 - val_accuracy: 0.7012\n",
            "Epoch 36/500\n",
            "1563/1563 [==============================] - 6s 4ms/step - loss: 0.2822 - accuracy: 0.9020 - val_loss: 1.4075 - val_accuracy: 0.7017\n",
            "Epoch 37/500\n",
            "1563/1563 [==============================] - 6s 4ms/step - loss: 0.2774 - accuracy: 0.9029 - val_loss: 1.3819 - val_accuracy: 0.6968\n",
            "Epoch 00037: early stopping\n"
          ],
          "name": "stdout"
        },
        {
          "output_type": "execute_result",
          "data": {
            "text/plain": [
              "<tensorflow.python.keras.callbacks.History at 0x7f85f4f19518>"
            ]
          },
          "metadata": {
            "tags": []
          },
          "execution_count": 18
        }
      ]
    },
    {
      "cell_type": "code",
      "metadata": {
        "id": "W-eIxCasDBil",
        "colab": {
          "base_uri": "https://localhost:8080/"
        },
        "outputId": "e2c190e7-ff34-4fee-fb34-f04c8ea71b7d"
      },
      "source": [
        " c2f3.evaluate(X_test, y_test, batch_size = 32)"
      ],
      "execution_count": 19,
      "outputs": [
        {
          "output_type": "stream",
          "text": [
            "313/313 [==============================] - 1s 2ms/step - loss: 1.3819 - accuracy: 0.6968\n"
          ],
          "name": "stdout"
        },
        {
          "output_type": "execute_result",
          "data": {
            "text/plain": [
              "[1.3818680047988892, 0.6967999935150146]"
            ]
          },
          "metadata": {
            "tags": []
          },
          "execution_count": 19
        }
      ]
    },
    {
      "cell_type": "markdown",
      "metadata": {
        "id": "5XYSVtC-DVsz"
      },
      "source": [
        "# **[DIY] Hidden layer에 따른 정확도**"
      ]
    },
    {
      "cell_type": "code",
      "metadata": {
        "id": "OiCc_UO2rGmp",
        "colab": {
          "base_uri": "https://localhost:8080/"
        },
        "outputId": "62520c71-702b-4a02-fdb5-4817370253fc"
      },
      "source": [
        "score1=c2f2.evaluate(X_test, y_test, batch_size = 32)\n",
        "score2=c2f3.evaluate(X_test, y_test, batch_size = 32)\n",
        "losses = [score1[0],score2[0]]\n",
        "accuracies= [score1[1],score2[1]]\n",
        "losses,accuracies"
      ],
      "execution_count": 20,
      "outputs": [
        {
          "output_type": "stream",
          "text": [
            "313/313 [==============================] - 1s 2ms/step - loss: 1.5722 - accuracy: 0.7046\n",
            "313/313 [==============================] - 1s 2ms/step - loss: 1.3819 - accuracy: 0.6968\n"
          ],
          "name": "stdout"
        },
        {
          "output_type": "execute_result",
          "data": {
            "text/plain": [
              "([1.5722357034683228, 1.3818680047988892],\n",
              " [0.7045999765396118, 0.6967999935150146])"
            ]
          },
          "metadata": {
            "tags": []
          },
          "execution_count": 20
        }
      ]
    },
    {
      "cell_type": "code",
      "metadata": {
        "id": "vZv6a2aVRw9j",
        "colab": {
          "base_uri": "https://localhost:8080/",
          "height": 269
        },
        "outputId": "39294a77-bf15-4e55-8c2e-281edebd3770"
      },
      "source": [
        "x = np.arange(2)\n",
        "cnns = ['C2F2','C2F3']\n",
        "\n",
        "plt.bar(x, accuracies)\n",
        "plt.xticks(x, cnns)\n",
        "plt.ylim((.5,1.0))\n",
        "plt.show()"
      ],
      "execution_count": 21,
      "outputs": [
        {
          "output_type": "display_data",
          "data": {
            "image/png": "[encoded data removed]",
            "text/plain": [
              "<Figure size 432x288 with 1 Axes>"
            ]
          },
          "metadata": {
            "tags": [],
            "needs_background": "light"
          }
        }
      ]
    },
    {
      "cell_type": "markdown",
      "metadata": {
        "id": "63oPbpPejqOj"
      },
      "source": [
        "## Complex model\n",
        "- C4F5 model\n",
        "\n",
        "![cnn_c4f5.png](https://raw.githubusercontent.com/Redwoods/Py/master//pdm2020/my-note/py-tensorflow/images/cnn_c4f5.png)"
      ]
    },
    {
      "cell_type": "code",
      "metadata": {
        "id": "kSN8pq8DkQ6B"
      },
      "source": [
        "c4f5 = keras.models.Sequential([ \n",
        "    Conv2D(input_shape=(32,32,3),kernel_size=(3,3),strides=(1,1),filters= 64,padding='same',activation='relu'),\n",
        "    MaxPool2D(pool_size=(2,2), strides=(2,2)), \n",
        "    Conv2D(kernel_size=(3,3),strides=(1,1),filters= 128,padding='same',activation='relu'),\n",
        "    MaxPool2D(pool_size=(2,2), strides=(2,2)),\n",
        "    Conv2D(kernel_size=(3,3),strides=(1,1),filters= 256,padding='same',activation='relu'),\n",
        "    MaxPool2D(pool_size=(2,2), strides=(2,2)),\n",
        "    Conv2D(kernel_size=(3,3),strides=(1,1),filters= 512,padding='same',activation='relu'),\n",
        "    MaxPool2D(pool_size=(2,2), strides=(2,2)),\n",
        "    Flatten(), \n",
        "    keras.layers.Dense(128, activation='relu'),  \n",
        "    keras.layers.Dropout(0.25), \n",
        "    keras.layers.Dense(256, activation='relu'),  \n",
        "    keras.layers.Dropout(0.25), \n",
        "    keras.layers.Dense(512, activation='relu'),  \n",
        "    keras.layers.Dropout(0.25), \n",
        "    keras.layers.Dense(1024, activation='relu'),  \n",
        "    keras.layers.Dropout(0.25), \n",
        "    keras.layers.Dense(10, activation='softmax')\n",
        "])\n",
        "\n",
        "c4f5.compile(optimizer='adam',\n",
        "              loss='categorical_crossentropy',\n",
        "              metrics=['accuracy']) "
      ],
      "execution_count": 22,
      "outputs": []
    },
    {
      "cell_type": "code",
      "metadata": {
        "colab": {
          "base_uri": "https://localhost:8080/"
        },
        "id": "k7qWzpLRkQ6C",
        "outputId": "49878b75-331b-429e-c7af-56c0a0aa973a"
      },
      "source": [
        "c4f5.summary()"
      ],
      "execution_count": 23,
      "outputs": [
        {
          "output_type": "stream",
          "text": [
            "Model: \"sequential_2\"\n",
            "_________________________________________________________________\n",
            "Layer (type)                 Output Shape              Param #   \n",
            "=================================================================\n",
            "conv2d_4 (Conv2D)            (None, 32, 32, 64)        1792      \n",
            "_________________________________________________________________\n",
            "max_pooling2d_4 (MaxPooling2 (None, 16, 16, 64)        0         \n",
            "_________________________________________________________________\n",
            "conv2d_5 (Conv2D)            (None, 16, 16, 128)       73856     \n",
            "_________________________________________________________________\n",
            "max_pooling2d_5 (MaxPooling2 (None, 8, 8, 128)         0         \n",
            "_________________________________________________________________\n",
            "conv2d_6 (Conv2D)            (None, 8, 8, 256)         295168    \n",
            "_________________________________________________________________\n",
            "max_pooling2d_6 (MaxPooling2 (None, 4, 4, 256)         0         \n",
            "_________________________________________________________________\n",
            "conv2d_7 (Conv2D)            (None, 4, 4, 512)         1180160   \n",
            "_________________________________________________________________\n",
            "max_pooling2d_7 (MaxPooling2 (None, 2, 2, 512)         0         \n",
            "_________________________________________________________________\n",
            "flatten_2 (Flatten)          (None, 2048)              0         \n",
            "_________________________________________________________________\n",
            "dense_5 (Dense)              (None, 128)               262272    \n",
            "_________________________________________________________________\n",
            "dropout_3 (Dropout)          (None, 128)               0         \n",
            "_________________________________________________________________\n",
            "dense_6 (Dense)              (None, 256)               33024     \n",
            "_________________________________________________________________\n",
            "dropout_4 (Dropout)          (None, 256)               0         \n",
            "_________________________________________________________________\n",
            "dense_7 (Dense)              (None, 512)               131584    \n",
            "_________________________________________________________________\n",
            "dropout_5 (Dropout)          (None, 512)               0         \n",
            "_________________________________________________________________\n",
            "dense_8 (Dense)              (None, 1024)              525312    \n",
            "_________________________________________________________________\n",
            "dropout_6 (Dropout)          (None, 1024)              0         \n",
            "_________________________________________________________________\n",
            "dense_9 (Dense)              (None, 10)                10250     \n",
            "=================================================================\n",
            "Total params: 2,513,418\n",
            "Trainable params: 2,513,418\n",
            "Non-trainable params: 0\n",
            "_________________________________________________________________\n"
          ],
          "name": "stdout"
        }
      ]
    },
    {
      "cell_type": "code",
      "metadata": {
        "id": "-pKJWy-2kQ6C"
      },
      "source": [
        "cp_callback = callbacks.ModelCheckpoint(filepath=\"./cifar10_c4f5_best_weights.{epoch:03d}-{val_accuracy:.4f}.hdf5\", \n",
        "                              monitor='val_accuracy', verbose=0, save_best_only=True)\n",
        "es_callback = callbacks.EarlyStopping(monitor='val_accuracy', \n",
        "                            mode='max', verbose=1, patience=25)    # patience=10, 25, 50"
      ],
      "execution_count": 24,
      "outputs": []
    },
    {
      "cell_type": "code",
      "metadata": {
        "colab": {
          "base_uri": "https://localhost:8080/"
        },
        "id": "wKdgr9EskQ6C",
        "outputId": "301801ff-88f7-467a-8c71-0f5580f46679"
      },
      "source": [
        "c4f5.fit(X_train, y_train, epochs=500, batch_size =32, \n",
        "         callbacks=[cp_callback, es_callback], \n",
        "         validation_data=(X_test,y_test))"
      ],
      "execution_count": 25,
      "outputs": [
        {
          "output_type": "stream",
          "text": [
            "Epoch 1/500\n",
            "1563/1563 [==============================] - 11s 7ms/step - loss: 1.6380 - accuracy: 0.3805 - val_loss: 1.3033 - val_accuracy: 0.5194\n",
            "Epoch 2/500\n",
            "1563/1563 [==============================] - 11s 7ms/step - loss: 1.2174 - accuracy: 0.5686 - val_loss: 1.0514 - val_accuracy: 0.6251\n",
            "Epoch 3/500\n",
            "1563/1563 [==============================] - 11s 7ms/step - loss: 1.0252 - accuracy: 0.6443 - val_loss: 0.9523 - val_accuracy: 0.6695\n",
            "Epoch 4/500\n",
            "1563/1563 [==============================] - 11s 7ms/step - loss: 0.9017 - accuracy: 0.6945 - val_loss: 0.9259 - val_accuracy: 0.6842\n",
            "Epoch 5/500\n",
            "1563/1563 [==============================] - 11s 7ms/step - loss: 0.8065 - accuracy: 0.7275 - val_loss: 0.8785 - val_accuracy: 0.7098\n",
            "Epoch 6/500\n",
            "1563/1563 [==============================] - 11s 7ms/step - loss: 0.7378 - accuracy: 0.7546 - val_loss: 0.9008 - val_accuracy: 0.7048\n",
            "Epoch 7/500\n",
            "1563/1563 [==============================] - 11s 7ms/step - loss: 0.6704 - accuracy: 0.7787 - val_loss: 0.9190 - val_accuracy: 0.6991\n",
            "Epoch 8/500\n",
            "1563/1563 [==============================] - 11s 7ms/step - loss: 0.6285 - accuracy: 0.7938 - val_loss: 0.8853 - val_accuracy: 0.7251\n",
            "Epoch 9/500\n",
            "1563/1563 [==============================] - 11s 7ms/step - loss: 0.5809 - accuracy: 0.8102 - val_loss: 0.8601 - val_accuracy: 0.7223\n",
            "Epoch 10/500\n",
            "1563/1563 [==============================] - 11s 7ms/step - loss: 0.5363 - accuracy: 0.8237 - val_loss: 0.9047 - val_accuracy: 0.7198\n",
            "Epoch 11/500\n",
            "1563/1563 [==============================] - 11s 7ms/step - loss: 0.5120 - accuracy: 0.8348 - val_loss: 0.8799 - val_accuracy: 0.7205\n",
            "Epoch 12/500\n",
            "1563/1563 [==============================] - 11s 7ms/step - loss: 0.4780 - accuracy: 0.8462 - val_loss: 0.9038 - val_accuracy: 0.7255\n",
            "Epoch 13/500\n",
            "1563/1563 [==============================] - 11s 7ms/step - loss: 0.4470 - accuracy: 0.8567 - val_loss: 0.9656 - val_accuracy: 0.7152\n",
            "Epoch 14/500\n",
            "1563/1563 [==============================] - 11s 7ms/step - loss: 0.4443 - accuracy: 0.8599 - val_loss: 0.9939 - val_accuracy: 0.7022\n",
            "Epoch 15/500\n",
            "1563/1563 [==============================] - 11s 7ms/step - loss: 0.4096 - accuracy: 0.8687 - val_loss: 0.8872 - val_accuracy: 0.7386\n",
            "Epoch 16/500\n",
            "1563/1563 [==============================] - 11s 7ms/step - loss: 0.3993 - accuracy: 0.8739 - val_loss: 0.9228 - val_accuracy: 0.7239\n",
            "Epoch 17/500\n",
            "1563/1563 [==============================] - 11s 7ms/step - loss: 0.3815 - accuracy: 0.8823 - val_loss: 0.9079 - val_accuracy: 0.7437\n",
            "Epoch 18/500\n",
            "1563/1563 [==============================] - 11s 7ms/step - loss: 0.3623 - accuracy: 0.8871 - val_loss: 0.9163 - val_accuracy: 0.7345\n",
            "Epoch 19/500\n",
            "1563/1563 [==============================] - 11s 7ms/step - loss: 0.3574 - accuracy: 0.8920 - val_loss: 0.9166 - val_accuracy: 0.7394\n",
            "Epoch 20/500\n",
            "1563/1563 [==============================] - 11s 7ms/step - loss: 0.3575 - accuracy: 0.8910 - val_loss: 0.9200 - val_accuracy: 0.7374\n",
            "Epoch 21/500\n",
            "1563/1563 [==============================] - 11s 7ms/step - loss: 0.3159 - accuracy: 0.9041 - val_loss: 1.0122 - val_accuracy: 0.7298\n",
            "Epoch 22/500\n",
            "1563/1563 [==============================] - 11s 7ms/step - loss: 0.3184 - accuracy: 0.9035 - val_loss: 1.0115 - val_accuracy: 0.7409\n",
            "Epoch 23/500\n",
            "1563/1563 [==============================] - 11s 7ms/step - loss: 0.3195 - accuracy: 0.9050 - val_loss: 0.9973 - val_accuracy: 0.7317\n",
            "Epoch 24/500\n",
            "1563/1563 [==============================] - 11s 7ms/step - loss: 0.3238 - accuracy: 0.9045 - val_loss: 0.9221 - val_accuracy: 0.7459\n",
            "Epoch 25/500\n",
            "1563/1563 [==============================] - 11s 7ms/step - loss: 0.2971 - accuracy: 0.9123 - val_loss: 1.0184 - val_accuracy: 0.7282\n",
            "Epoch 26/500\n",
            "1563/1563 [==============================] - 11s 7ms/step - loss: 0.2997 - accuracy: 0.9130 - val_loss: 1.0059 - val_accuracy: 0.7282\n",
            "Epoch 27/500\n",
            "1563/1563 [==============================] - 11s 7ms/step - loss: 0.2836 - accuracy: 0.9183 - val_loss: 1.0366 - val_accuracy: 0.7291\n",
            "Epoch 28/500\n",
            "1563/1563 [==============================] - 11s 7ms/step - loss: 0.2856 - accuracy: 0.9176 - val_loss: 1.0394 - val_accuracy: 0.7163\n",
            "Epoch 29/500\n",
            "1563/1563 [==============================] - 11s 7ms/step - loss: 0.2719 - accuracy: 0.9208 - val_loss: 1.0785 - val_accuracy: 0.7264\n",
            "Epoch 30/500\n",
            "1563/1563 [==============================] - 11s 7ms/step - loss: 0.3201 - accuracy: 0.9083 - val_loss: 0.9717 - val_accuracy: 0.7232\n",
            "Epoch 31/500\n",
            "1563/1563 [==============================] - 11s 7ms/step - loss: 0.3053 - accuracy: 0.9141 - val_loss: 0.9701 - val_accuracy: 0.7286\n",
            "Epoch 32/500\n",
            "1563/1563 [==============================] - 11s 7ms/step - loss: 0.2724 - accuracy: 0.9223 - val_loss: 1.0154 - val_accuracy: 0.7413\n",
            "Epoch 33/500\n",
            "1563/1563 [==============================] - 11s 7ms/step - loss: 0.2586 - accuracy: 0.9278 - val_loss: 1.0065 - val_accuracy: 0.7415\n",
            "Epoch 34/500\n",
            "1563/1563 [==============================] - 11s 7ms/step - loss: 0.2515 - accuracy: 0.9292 - val_loss: 1.0355 - val_accuracy: 0.7220\n",
            "Epoch 35/500\n",
            "1563/1563 [==============================] - 11s 7ms/step - loss: 0.2498 - accuracy: 0.9315 - val_loss: 1.0188 - val_accuracy: 0.7278\n",
            "Epoch 36/500\n",
            "1563/1563 [==============================] - 11s 7ms/step - loss: 0.2576 - accuracy: 0.9288 - val_loss: 0.9904 - val_accuracy: 0.7306\n",
            "Epoch 37/500\n",
            "1563/1563 [==============================] - 11s 7ms/step - loss: 0.2473 - accuracy: 0.9319 - val_loss: 1.0711 - val_accuracy: 0.7358\n",
            "Epoch 38/500\n",
            "1563/1563 [==============================] - 11s 7ms/step - loss: 0.2450 - accuracy: 0.9346 - val_loss: 1.0993 - val_accuracy: 0.7368\n",
            "Epoch 39/500\n",
            "1563/1563 [==============================] - 11s 7ms/step - loss: 0.2681 - accuracy: 0.9282 - val_loss: 1.1297 - val_accuracy: 0.7301\n",
            "Epoch 40/500\n",
            "1563/1563 [==============================] - 11s 7ms/step - loss: 0.2511 - accuracy: 0.9316 - val_loss: 1.0294 - val_accuracy: 0.7276\n",
            "Epoch 41/500\n",
            "1563/1563 [==============================] - 11s 7ms/step - loss: 0.2340 - accuracy: 0.9384 - val_loss: 1.0873 - val_accuracy: 0.7279\n",
            "Epoch 42/500\n",
            "1563/1563 [==============================] - 11s 7ms/step - loss: 0.2520 - accuracy: 0.9326 - val_loss: 1.0504 - val_accuracy: 0.7335\n",
            "Epoch 43/500\n",
            "1563/1563 [==============================] - 11s 7ms/step - loss: 0.2615 - accuracy: 0.9298 - val_loss: 1.1928 - val_accuracy: 0.7252\n",
            "Epoch 44/500\n",
            "1563/1563 [==============================] - 11s 7ms/step - loss: 0.2244 - accuracy: 0.9400 - val_loss: 1.1479 - val_accuracy: 0.7427\n",
            "Epoch 45/500\n",
            "1563/1563 [==============================] - 11s 7ms/step - loss: 0.2680 - accuracy: 0.9304 - val_loss: 1.0882 - val_accuracy: 0.7321\n",
            "Epoch 46/500\n",
            "1563/1563 [==============================] - 11s 7ms/step - loss: 0.2169 - accuracy: 0.9417 - val_loss: 1.1988 - val_accuracy: 0.7377\n",
            "Epoch 47/500\n",
            "1563/1563 [==============================] - 11s 7ms/step - loss: 0.2025 - accuracy: 0.9465 - val_loss: 1.1655 - val_accuracy: 0.7401\n",
            "Epoch 48/500\n",
            "1563/1563 [==============================] - 11s 7ms/step - loss: 0.2436 - accuracy: 0.9374 - val_loss: 1.2447 - val_accuracy: 0.7446\n",
            "Epoch 49/500\n",
            "1563/1563 [==============================] - 11s 7ms/step - loss: 0.2227 - accuracy: 0.9422 - val_loss: 1.1740 - val_accuracy: 0.7387\n",
            "Epoch 00049: early stopping\n"
          ],
          "name": "stdout"
        },
        {
          "output_type": "execute_result",
          "data": {
            "text/plain": [
              "<tensorflow.python.keras.callbacks.History at 0x7f85f4cb1630>"
            ]
          },
          "metadata": {
            "tags": []
          },
          "execution_count": 25
        }
      ]
    },
    {
      "cell_type": "code",
      "metadata": {
        "colab": {
          "base_uri": "https://localhost:8080/"
        },
        "id": "jfwYHBexkQ6D",
        "outputId": "f19b42a3-2690-4b9f-9d38-8e97ff12bc06"
      },
      "source": [
        " c4f5.evaluate(X_test, y_test, batch_size = 32)"
      ],
      "execution_count": 26,
      "outputs": [
        {
          "output_type": "stream",
          "text": [
            "313/313 [==============================] - 1s 4ms/step - loss: 1.1740 - accuracy: 0.7387\n"
          ],
          "name": "stdout"
        },
        {
          "output_type": "execute_result",
          "data": {
            "text/plain": [
              "[1.1739591360092163, 0.7386999726295471]"
            ]
          },
          "metadata": {
            "tags": []
          },
          "execution_count": 26
        }
      ]
    },
    {
      "cell_type": "markdown",
      "metadata": {
        "id": "3Ub3qGnjs4EI"
      },
      "source": [
        "## Graph of loss and accuracy\n",
        "- model: C4f5"
      ]
    },
    {
      "cell_type": "code",
      "metadata": {
        "id": "NiSAsgsNtUte"
      },
      "source": [
        "c4f5 = keras.models.Sequential([ \n",
        "    Conv2D(input_shape=(32,32,3),kernel_size=(3,3),strides=(1,1),filters= 64,padding='same',activation='relu'),\n",
        "    MaxPool2D(pool_size=(2,2), strides=(2,2)), \n",
        "    Conv2D(kernel_size=(3,3),strides=(1,1),filters= 128,padding='same',activation='relu'),\n",
        "    MaxPool2D(pool_size=(2,2), strides=(2,2)),\n",
        "    Conv2D(kernel_size=(3,3),strides=(1,1),filters= 256,padding='same',activation='relu'),\n",
        "    MaxPool2D(pool_size=(2,2), strides=(2,2)),\n",
        "    Conv2D(kernel_size=(3,3),strides=(1,1),filters= 512,padding='same',activation='relu'),\n",
        "    MaxPool2D(pool_size=(2,2), strides=(2,2)),\n",
        "    Flatten(), \n",
        "    keras.layers.Dense(128, activation='relu'),  \n",
        "    keras.layers.Dropout(0.25), \n",
        "    keras.layers.Dense(256, activation='relu'),  \n",
        "    keras.layers.Dropout(0.25), \n",
        "    keras.layers.Dense(512, activation='relu'),  \n",
        "    keras.layers.Dropout(0.25), \n",
        "    keras.layers.Dense(1024, activation='relu'),  \n",
        "    keras.layers.Dropout(0.25), \n",
        "    keras.layers.Dense(10, activation='softmax')\n",
        "])\n",
        "\n",
        "c4f5.compile(optimizer='adam',\n",
        "              loss='categorical_crossentropy',\n",
        "              metrics=['accuracy'])"
      ],
      "execution_count": 27,
      "outputs": []
    },
    {
      "cell_type": "code",
      "metadata": {
        "id": "-Yfqv2AqtUtz",
        "colab": {
          "base_uri": "https://localhost:8080/"
        },
        "outputId": "4a781993-2e79-4f9a-9819-179fb7f32909"
      },
      "source": [
        "epoch = 49\n",
        "hist = c4f5.fit(X_train, y_train, \n",
        "         epochs = epoch, \n",
        "         batch_size =32, \n",
        "         validation_data=(X_test,y_test))"
      ],
      "execution_count": 28,
      "outputs": [
        {
          "output_type": "stream",
          "text": [
            "Epoch 1/49\n",
            "1563/1563 [==============================] - 11s 7ms/step - loss: 1.6745 - accuracy: 0.3605 - val_loss: 1.3001 - val_accuracy: 0.5288\n",
            "Epoch 2/49\n",
            "1563/1563 [==============================] - 11s 7ms/step - loss: 1.2567 - accuracy: 0.5556 - val_loss: 1.0860 - val_accuracy: 0.6172\n",
            "Epoch 3/49\n",
            "1563/1563 [==============================] - 11s 7ms/step - loss: 1.0623 - accuracy: 0.6308 - val_loss: 1.0028 - val_accuracy: 0.6470\n",
            "Epoch 4/49\n",
            "1563/1563 [==============================] - 11s 7ms/step - loss: 0.9449 - accuracy: 0.6775 - val_loss: 0.9808 - val_accuracy: 0.6625\n",
            "Epoch 5/49\n",
            "1563/1563 [==============================] - 11s 7ms/step - loss: 0.8492 - accuracy: 0.7118 - val_loss: 0.9723 - val_accuracy: 0.6623\n",
            "Epoch 6/49\n",
            "1563/1563 [==============================] - 11s 7ms/step - loss: 0.7709 - accuracy: 0.7396 - val_loss: 0.9815 - val_accuracy: 0.6549\n",
            "Epoch 7/49\n",
            "1563/1563 [==============================] - 11s 7ms/step - loss: 0.7228 - accuracy: 0.7596 - val_loss: 0.9256 - val_accuracy: 0.6864\n",
            "Epoch 8/49\n",
            "1563/1563 [==============================] - 11s 7ms/step - loss: 0.6653 - accuracy: 0.7800 - val_loss: 0.8742 - val_accuracy: 0.7140\n",
            "Epoch 9/49\n",
            "1563/1563 [==============================] - 11s 7ms/step - loss: 0.6261 - accuracy: 0.7947 - val_loss: 0.8592 - val_accuracy: 0.7065\n",
            "Epoch 10/49\n",
            "1563/1563 [==============================] - 11s 7ms/step - loss: 0.5876 - accuracy: 0.8061 - val_loss: 0.8591 - val_accuracy: 0.7311\n",
            "Epoch 11/49\n",
            "1563/1563 [==============================] - 11s 7ms/step - loss: 0.5489 - accuracy: 0.8192 - val_loss: 0.8855 - val_accuracy: 0.7174\n",
            "Epoch 12/49\n",
            "1563/1563 [==============================] - 11s 7ms/step - loss: 0.5232 - accuracy: 0.8310 - val_loss: 0.9048 - val_accuracy: 0.7213\n",
            "Epoch 13/49\n",
            "1563/1563 [==============================] - 11s 7ms/step - loss: 0.5000 - accuracy: 0.8417 - val_loss: 0.8810 - val_accuracy: 0.7250\n",
            "Epoch 14/49\n",
            "1563/1563 [==============================] - 11s 7ms/step - loss: 0.4650 - accuracy: 0.8518 - val_loss: 0.8710 - val_accuracy: 0.7380\n",
            "Epoch 15/49\n",
            "1563/1563 [==============================] - 11s 7ms/step - loss: 0.4465 - accuracy: 0.8576 - val_loss: 0.8963 - val_accuracy: 0.7357\n",
            "Epoch 16/49\n",
            "1563/1563 [==============================] - 11s 7ms/step - loss: 0.4313 - accuracy: 0.8632 - val_loss: 0.9443 - val_accuracy: 0.7273\n",
            "Epoch 17/49\n",
            "1563/1563 [==============================] - 11s 7ms/step - loss: 0.4118 - accuracy: 0.8710 - val_loss: 0.9145 - val_accuracy: 0.7287\n",
            "Epoch 18/49\n",
            "1563/1563 [==============================] - 11s 7ms/step - loss: 0.4070 - accuracy: 0.8749 - val_loss: 0.9830 - val_accuracy: 0.7353\n",
            "Epoch 19/49\n",
            "1563/1563 [==============================] - 11s 7ms/step - loss: 0.3952 - accuracy: 0.8762 - val_loss: 0.9564 - val_accuracy: 0.7314\n",
            "Epoch 20/49\n",
            "1563/1563 [==============================] - 11s 7ms/step - loss: 0.3757 - accuracy: 0.8857 - val_loss: 0.9195 - val_accuracy: 0.7301\n",
            "Epoch 21/49\n",
            "1563/1563 [==============================] - 11s 7ms/step - loss: 0.3587 - accuracy: 0.8913 - val_loss: 0.9305 - val_accuracy: 0.7388\n",
            "Epoch 22/49\n",
            "1563/1563 [==============================] - 11s 7ms/step - loss: 0.3491 - accuracy: 0.8936 - val_loss: 0.9941 - val_accuracy: 0.7303\n",
            "Epoch 23/49\n",
            "1563/1563 [==============================] - 11s 7ms/step - loss: 0.3514 - accuracy: 0.8957 - val_loss: 0.9706 - val_accuracy: 0.7287\n",
            "Epoch 24/49\n",
            "1563/1563 [==============================] - 11s 7ms/step - loss: 0.3414 - accuracy: 0.8989 - val_loss: 0.9771 - val_accuracy: 0.7369\n",
            "Epoch 25/49\n",
            "1563/1563 [==============================] - 12s 7ms/step - loss: 0.3162 - accuracy: 0.9056 - val_loss: 1.0380 - val_accuracy: 0.7243\n",
            "Epoch 26/49\n",
            "1563/1563 [==============================] - 11s 7ms/step - loss: 0.3333 - accuracy: 0.9012 - val_loss: 1.0120 - val_accuracy: 0.7219\n",
            "Epoch 27/49\n",
            "1563/1563 [==============================] - 11s 7ms/step - loss: 0.3123 - accuracy: 0.9070 - val_loss: 1.0167 - val_accuracy: 0.7289\n",
            "Epoch 28/49\n",
            "1563/1563 [==============================] - 11s 7ms/step - loss: 0.3083 - accuracy: 0.9109 - val_loss: 1.0356 - val_accuracy: 0.7234\n",
            "Epoch 29/49\n",
            "1563/1563 [==============================] - 11s 7ms/step - loss: 0.3131 - accuracy: 0.9094 - val_loss: 1.0445 - val_accuracy: 0.7245\n",
            "Epoch 30/49\n",
            "1563/1563 [==============================] - 11s 7ms/step - loss: 0.2808 - accuracy: 0.9193 - val_loss: 1.0844 - val_accuracy: 0.7151\n",
            "Epoch 31/49\n",
            "1563/1563 [==============================] - 11s 7ms/step - loss: 0.2974 - accuracy: 0.9154 - val_loss: 1.0524 - val_accuracy: 0.7323\n",
            "Epoch 32/49\n",
            "1563/1563 [==============================] - 11s 7ms/step - loss: 0.2750 - accuracy: 0.9226 - val_loss: 1.0680 - val_accuracy: 0.7294\n",
            "Epoch 33/49\n",
            "1563/1563 [==============================] - 11s 7ms/step - loss: 0.3055 - accuracy: 0.9147 - val_loss: 1.0481 - val_accuracy: 0.7369\n",
            "Epoch 34/49\n",
            "1563/1563 [==============================] - 11s 7ms/step - loss: 0.2610 - accuracy: 0.9263 - val_loss: 1.0545 - val_accuracy: 0.7073\n",
            "Epoch 35/49\n",
            "1563/1563 [==============================] - 11s 7ms/step - loss: 0.2870 - accuracy: 0.9206 - val_loss: 1.0543 - val_accuracy: 0.7233\n",
            "Epoch 36/49\n",
            "1563/1563 [==============================] - 11s 7ms/step - loss: 0.2890 - accuracy: 0.9191 - val_loss: 1.0534 - val_accuracy: 0.7340\n",
            "Epoch 37/49\n",
            "1563/1563 [==============================] - 11s 7ms/step - loss: 0.2477 - accuracy: 0.9293 - val_loss: 1.0848 - val_accuracy: 0.7298\n",
            "Epoch 38/49\n",
            "1563/1563 [==============================] - 11s 7ms/step - loss: 0.2587 - accuracy: 0.9297 - val_loss: 1.0610 - val_accuracy: 0.7345\n",
            "Epoch 39/49\n",
            "1563/1563 [==============================] - 11s 7ms/step - loss: 0.2458 - accuracy: 0.9319 - val_loss: 1.2776 - val_accuracy: 0.7353\n",
            "Epoch 40/49\n",
            "1563/1563 [==============================] - 11s 7ms/step - loss: 0.2640 - accuracy: 0.9284 - val_loss: 1.0779 - val_accuracy: 0.7371\n",
            "Epoch 41/49\n",
            "1563/1563 [==============================] - 11s 7ms/step - loss: 0.2424 - accuracy: 0.9329 - val_loss: 1.1827 - val_accuracy: 0.7251\n",
            "Epoch 42/49\n",
            "1563/1563 [==============================] - 11s 7ms/step - loss: 0.2656 - accuracy: 0.9278 - val_loss: 1.1615 - val_accuracy: 0.7298\n",
            "Epoch 43/49\n",
            "1563/1563 [==============================] - 11s 7ms/step - loss: 0.2419 - accuracy: 0.9357 - val_loss: 1.2138 - val_accuracy: 0.7298\n",
            "Epoch 44/49\n",
            "1563/1563 [==============================] - 11s 7ms/step - loss: 0.2419 - accuracy: 0.9367 - val_loss: 1.1858 - val_accuracy: 0.7323\n",
            "Epoch 45/49\n",
            "1563/1563 [==============================] - 11s 7ms/step - loss: 0.2256 - accuracy: 0.9394 - val_loss: 1.1699 - val_accuracy: 0.7318\n",
            "Epoch 46/49\n",
            "1563/1563 [==============================] - 11s 7ms/step - loss: 0.2818 - accuracy: 0.9256 - val_loss: 1.0915 - val_accuracy: 0.7184\n",
            "Epoch 47/49\n",
            "1563/1563 [==============================] - 11s 7ms/step - loss: 0.2508 - accuracy: 0.9352 - val_loss: 1.0788 - val_accuracy: 0.7198\n",
            "Epoch 48/49\n",
            "1563/1563 [==============================] - 11s 7ms/step - loss: 0.2410 - accuracy: 0.9373 - val_loss: 1.1898 - val_accuracy: 0.7343\n",
            "Epoch 49/49\n",
            "1563/1563 [==============================] - 11s 7ms/step - loss: 0.2256 - accuracy: 0.9394 - val_loss: 1.1063 - val_accuracy: 0.7391\n"
          ],
          "name": "stdout"
        }
      ]
    },
    {
      "cell_type": "code",
      "metadata": {
        "id": "WNmXXLhvWUiK",
        "colab": {
          "base_uri": "https://localhost:8080/",
          "height": 313
        },
        "outputId": "0b3fe7bb-6b25-496d-8a64-8bc118c51cf8"
      },
      "source": [
        "# Plot loass and accuracy\n",
        "# Plot training & validation accuracy values\n",
        "epochs = epoch\n",
        "loss_list = [100 * i for i in hist.history['loss']]\n",
        "acc_list = [100 * i for i in hist.history['accuracy']]\n",
        "plt.plot(range(1,epochs+1),loss_list) \n",
        "plt.plot(range(1,epochs+1),acc_list) \n",
        "plt.title('Model loss & accuracy')\n",
        "plt.ylabel('Accuracy (%)')\n",
        "plt.xlabel('Epoch')\n",
        "plt.legend(['loss', 'accuracy'], loc='center left')"
      ],
      "execution_count": 29,
      "outputs": [
        {
          "output_type": "execute_result",
          "data": {
            "text/plain": [
              "<matplotlib.legend.Legend at 0x7f85f477fcc0>"
            ]
          },
          "metadata": {
            "tags": []
          },
          "execution_count": 29
        },
        {
          "output_type": "display_data",
          "data": {
            "image/png": "[encoded data removed]",
            "text/plain": [
              "<Figure size 432x288 with 1 Axes>"
            ]
          },
          "metadata": {
            "tags": [],
            "needs_background": "light"
          }
        }
      ]
    },
    {
      "cell_type": "code",
      "metadata": {
        "id": "0wNssVPhu_8m"
      },
      "source": [
        "vloss_list = [100 * i for i in hist.history['val_loss']]\n",
        "vacc_list = [100 * i for i in hist.history['val_accuracy']]"
      ],
      "execution_count": 30,
      "outputs": []
    },
    {
      "cell_type": "code",
      "metadata": {
        "id": "TX5Uzro4vjaY",
        "colab": {
          "base_uri": "https://localhost:8080/",
          "height": 313
        },
        "outputId": "e39610de-d64a-49d1-d23c-6ca6a5b9ab3a"
      },
      "source": [
        "plt.plot(range(1,epochs+1),vloss_list)  \n",
        "plt.plot(range(1,epochs+1),vacc_list)  \n",
        "plt.title('Model val_loss & val_accuracy')\n",
        "plt.ylabel('Accuracy (%)')\n",
        "plt.xlabel('Epoch')\n",
        "plt.legend(['val_loss', 'val_accuracy'], loc='center left')"
      ],
      "execution_count": 31,
      "outputs": [
        {
          "output_type": "execute_result",
          "data": {
            "text/plain": [
              "<matplotlib.legend.Legend at 0x7f85f4855cf8>"
            ]
          },
          "metadata": {
            "tags": []
          },
          "execution_count": 31
        },
        {
          "output_type": "display_data",
          "data": {
            "image/png": "[encoded data removed]",
            "text/plain": [
              "<Figure size 432x288 with 1 Axes>"
            ]
          },
          "metadata": {
            "tags": [],
            "needs_background": "light"
          }
        }
      ]
    },
    {
      "cell_type": "code",
      "metadata": {
        "id": "blALTNdyvjVK",
        "colab": {
          "base_uri": "https://localhost:8080/",
          "height": 313
        },
        "outputId": "9ec0456d-d536-4099-dfbf-bd0b9ece55d9"
      },
      "source": [
        "plt.plot(range(1,epochs+1),acc_list)  \n",
        "plt.plot(range(1,epochs+1),vacc_list)  \n",
        "plt.plot(np.argmax(np.array(vacc_list))+1,vacc_list[np.argmax(np.array(vacc_list))], 'r*') \n",
        "plt.title('accuracy vs. val_accuracy, best = ' +str(vacc_list[np.argmax(np.array(vacc_list))]))\n",
        "plt.ylabel('Accuracy (%)')\n",
        "plt.xlabel('Epoch')\n",
        "plt.legend(['accuracy','val_accuracy','best']) #, loc='center bottom')\n"
      ],
      "execution_count": 32,
      "outputs": [
        {
          "output_type": "execute_result",
          "data": {
            "text/plain": [
              "<matplotlib.legend.Legend at 0x7f8659319940>"
            ]
          },
          "metadata": {
            "tags": []
          },
          "execution_count": 32
        },
        {
          "output_type": "display_data",
          "data": {
            "image/png": "[encoded data removed]",
            "text/plain": [
              "<Figure size 432x288 with 1 Axes>"
            ]
          },
          "metadata": {
            "tags": [],
            "needs_background": "light"
          }
        }
      ]
    },
    {
      "cell_type": "markdown",
      "metadata": {
        "id": "SQ3M6vRVXG78"
      },
      "source": [
        "## cifar10 모델 학습\n",
        "> https://gruuuuu.github.io/machine-learning/cifar10-cnn/#"
      ]
    },
    {
      "cell_type": "markdown",
      "metadata": {
        "id": "gBPKMI4y3fsa"
      },
      "source": [
        "## 모형의 저장\n",
        "\n",
        "- 트레이닝이 끝난 모형은 save 메서드로 가중치와 함께 hdf5 형식으로 저장\n",
        "- load 명령으로 불러 사용"
      ]
    },
    {
      "cell_type": "code",
      "metadata": {
        "id": "KCfbQl2v3fsa"
      },
      "source": [
        "# c2f2.save('fmnist_cnn_best.hdf5')"
      ],
      "execution_count": null,
      "outputs": []
    },
    {
      "cell_type": "code",
      "metadata": {
        "id": "b7-ysIVy3fse",
        "colab": {
          "base_uri": "https://localhost:8080/"
        },
        "outputId": "9e157d84-bbf1-40ff-854a-1cfa4307b6ff"
      },
      "source": [
        "from keras.models import load_model\n",
        "\n",
        "model = load_model('cifar10_c4f5_best_weights.024-0.7459.hdf5')\n",
        "model.evaluate(X_test, y_test, batch_size=32)"
      ],
      "execution_count": 33,
      "outputs": [
        {
          "output_type": "stream",
          "text": [
            "313/313 [==============================] - 1s 4ms/step - loss: 0.9221 - accuracy: 0.7459\n"
          ],
          "name": "stdout"
        },
        {
          "output_type": "execute_result",
          "data": {
            "text/plain": [
              "[0.9220988154411316, 0.7458999752998352]"
            ]
          },
          "metadata": {
            "tags": []
          },
          "execution_count": 33
        }
      ]
    },
    {
      "cell_type": "markdown",
      "metadata": {
        "id": "KF3UzDJotZrh"
      },
      "source": [
        "## Confusion matrix"
      ]
    },
    {
      "cell_type": "code",
      "metadata": {
        "id": "RV1IaOyeu6Em"
      },
      "source": [
        "from sklearn.metrics import confusion_matrix\n",
        "import seaborn as sns"
      ],
      "execution_count": 34,
      "outputs": []
    },
    {
      "cell_type": "code",
      "metadata": {
        "id": "Bxs1eC-cuO0Y"
      },
      "source": [
        "predictions = model.predict(X_test)"
      ],
      "execution_count": 35,
      "outputs": []
    },
    {
      "cell_type": "code",
      "metadata": {
        "colab": {
          "base_uri": "https://localhost:8080/"
        },
        "id": "6Tqhg-UJujo5",
        "outputId": "16d99c95-10b8-4b5b-d2f2-b7dda43a071e"
      },
      "source": [
        "predictions.shape"
      ],
      "execution_count": 36,
      "outputs": [
        {
          "output_type": "execute_result",
          "data": {
            "text/plain": [
              "(10000, 10)"
            ]
          },
          "metadata": {
            "tags": []
          },
          "execution_count": 36
        }
      ]
    },
    {
      "cell_type": "code",
      "metadata": {
        "colab": {
          "base_uri": "https://localhost:8080/"
        },
        "id": "nZch1JFSufoR",
        "outputId": "2b93ae04-b865-4a8f-c0e6-da77ce590abf"
      },
      "source": [
        "predictions0 = np.argmax(predictions, axis=1)\n",
        "predictions0.shape"
      ],
      "execution_count": 37,
      "outputs": [
        {
          "output_type": "execute_result",
          "data": {
            "text/plain": [
              "(10000,)"
            ]
          },
          "metadata": {
            "tags": []
          },
          "execution_count": 37
        }
      ]
    },
    {
      "cell_type": "code",
      "metadata": {
        "id": "hiPMQeYXt12l"
      },
      "source": [
        "cm = confusion_matrix(y_test0, predictions0)"
      ],
      "execution_count": 38,
      "outputs": []
    },
    {
      "cell_type": "code",
      "metadata": {
        "id": "YITaGwYjvatc"
      },
      "source": [
        "class_names = ['airplane', 'automobile', 'bird', 'cat', 'deer', 'dog', 'frog', 'horse', 'ship', 'truck']"
      ],
      "execution_count": 39,
      "outputs": []
    },
    {
      "cell_type": "code",
      "metadata": {
        "colab": {
          "base_uri": "https://localhost:8080/",
          "height": 551
        },
        "id": "2qGHMNU3u8ut",
        "outputId": "3b72c7bb-3e80-4e7c-be0d-c4442ea356d2"
      },
      "source": [
        "plt.figure(figsize=(9,9))\n",
        "sns.heatmap(cm, cbar=False, xticklabels=class_names, yticklabels=class_names, fmt='d', annot=True, cmap=plt.cm.coolwarm)\n",
        "plt.xlabel('Predicted')\n",
        "plt.ylabel('Actual')\n",
        "plt.show()"
      ],
      "execution_count": 40,
      "outputs": [
        {
          "output_type": "display_data",
          "data": {
            "image/png": "[encoded data removed]",
            "text/plain": [
              "<Figure size 648x648 with 1 Axes>"
            ]
          },
          "metadata": {
            "tags": [],
            "needs_background": "light"
          }
        }
      ]
    },
    {
      "cell_type": "markdown",
      "metadata": {
        "id": "0n2PfCMBh2ju"
      },
      "source": [
        "# State of current scores of cifar-10\n",
        "\n",
        "> https://paperswithcode.com/sota/image-classification-on-cifar-10"
      ]
    },
    {
      "cell_type": "markdown",
      "metadata": {
        "id": "7abyx_2n0_7d"
      },
      "source": [
        "## Transfer learning on cifar-10\n",
        "\n",
        "- https://medium.com/@andrew.dabydeen/transfer-learning-using-resnet50-and-cifar-10-6242ed4b4245\n",
        "\n",
        "- https://medium.com/swlh/comparative-analysis-of-cifar-10-image-classification-transfer-learning-vs-user-defined-cnns-e673685d925e\n",
        "\n",
        "- https://medium.com/swlh/hands-on-the-cifar-10-dataset-with-transfer-learning-2e768fd6c318\n",
        "\n",
        "- https://medium.com/analytics-vidhya/the-transfer-learning-experience-with-vgg16-and-cifar-10-dataset-9b25b306a23f"
      ]
    }
  ]
}